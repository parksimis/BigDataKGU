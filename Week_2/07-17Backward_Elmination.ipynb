{
 "cells": [
  {
   "cell_type": "markdown",
   "metadata": {
    "colab_type": "text",
    "id": "NElx71yC2u3Q"
   },
   "source": [
    "#### **To Do : Adjusted R-square를 이용해 후진 제거법 알고리즘 구현해보기**"
   ]
  },
  {
   "cell_type": "code",
   "execution_count": 10,
   "metadata": {},
   "outputs": [],
   "source": [
    "# 필요 라이브러리 import\n",
    "\n",
    "from sklearn import datasets\n",
    "from sklearn.model_selection import train_test_split\n",
    "import numpy as np\n",
    "from sklearn.linear_model import LinearRegression\n",
    "from sklearn.metrics import r2_score"
   ]
  },
  {
   "cell_type": "code",
   "execution_count": 11,
   "metadata": {},
   "outputs": [],
   "source": [
    "# 데이터 불러오기\n",
    "data = datasets.load_diabetes()"
   ]
  },
  {
   "cell_type": "code",
   "execution_count": 12,
   "metadata": {},
   "outputs": [
    {
     "name": "stdout",
     "output_type": "stream",
     "text": [
      "(442, 10) (442,)\n"
     ]
    }
   ],
   "source": [
    "# 데이터 저장 및 확인\n",
    "x = data['data']\n",
    "y = data['target']\n",
    "\n",
    "print(x.shape, y.shape)"
   ]
  },
  {
   "cell_type": "code",
   "execution_count": 13,
   "metadata": {},
   "outputs": [
    {
     "name": "stdout",
     "output_type": "stream",
     "text": [
      "(264, 10) (89, 10) (89, 10)\n"
     ]
    }
   ],
   "source": [
    "# 데이터 나누기 - 6:2:2 비율\n",
    "x_train, x_test, y_train, y_test = train_test_split(x, y, test_size=0.2, random_state=1)\n",
    "x_train, x_val, y_train, y_val = train_test_split(x_train, y_train, test_size=0.25, random_state=1)\n",
    "\n",
    "print(x_train.shape, x_val.shape, x_test.shape)"
   ]
  },
  {
   "cell_type": "code",
   "execution_count": 14,
   "metadata": {
    "colab": {},
    "colab_type": "code",
    "id": "Fof0VG6a2rmT"
   },
   "outputs": [
    {
     "name": "stdout",
     "output_type": "stream",
     "text": [
      "============ round 1 ============\n",
      "best variables updated:  [0, 1, 2, 3, 4, 5, 6, 8, 9]\n",
      "current best r2:  0.44968750331058116\n",
      "============ round 2 ============\n",
      "best variables updated:  [0, 1, 2, 3, 4, 5, 6, 8]\n",
      "current best r2:  0.468224109131373\n",
      "============ round 3 ============\n",
      "best variables updated:  [0, 1, 2, 3, 5, 6, 8]\n",
      "current best r2:  0.47847527149248903\n",
      "============ round 4 ============\n",
      "best variables updated:  [0, 1, 2, 3, 6, 8]\n",
      "current best r2:  0.49917040260293344\n",
      "============ round 5 ============\n",
      "best variables updated:  [1, 2, 3, 6, 8]\n",
      "current best r2:  0.5052771304258854\n",
      "============ round 6 ============\n",
      "no improvement\n",
      "---------------------------------------------------\n",
      "final variables:  [1, 2, 3, 6, 8]\n",
      "final adj_r2:  0.5052771304258854\n",
      "---------------------------------------------------\n",
      "test adjust R-square:  0.3860227499500407\n"
     ]
    }
   ],
   "source": [
    "# 선택된 변수들, R-square 값 및 모델 저장\n",
    "best_variables = list(range(10))\n",
    "best_adj_r2 = 0.\n",
    "best_model = None\n",
    "\n",
    "\n",
    "# 선택된 변수들 중 Adjusted R-square의 손실이 가장 적은 변수를 골라 없애기\n",
    "for round in range(10):\n",
    "  print(f\"============ round {round+1} ============\")\n",
    "  adj_r2_of_this_round = []\n",
    "  models_of_this_round = []\n",
    "\n",
    "  for var in best_variables:\n",
    "    # 사용될 변수들과 모델\n",
    "    use_vars = best_variables.copy()\n",
    "    use_vars.remove(var)\n",
    "    model = LinearRegression()\n",
    "\n",
    "    # 지정된 변수만 사용하게끔 데이터 추출\n",
    "    x_train_small = x_train[:, use_vars]\n",
    "    x_val_small = x_val[:, use_vars]\n",
    "\n",
    "    # 지정된 변수로 모델 학습\n",
    "    model.fit(x_train_small, y_train)\n",
    "    models_of_this_round.append(model)\n",
    "\n",
    "    # validation adjusted R-square 계산\n",
    "    r2 = r2_score(y_val, model.predict(x_val_small))\n",
    "    adj_r2 = 1 - (1-r2)*(y_val.shape[0]-1)/(y_val.shape[0]-len(use_vars)-1)\n",
    "    adj_r2_of_this_round.append(adj_r2)\n",
    "    \n",
    "  # R-square 가 높은 모델 선택\n",
    "  best_adj_r2_of_this_round = np.max(adj_r2_of_this_round)\n",
    "\n",
    "  # 이전 round와 비교\n",
    "  if best_adj_r2_of_this_round > best_adj_r2:\n",
    "    max_var = np.argmax(adj_r2_of_this_round)\n",
    "    best_variables.pop(max_var)\n",
    "    best_adj_r2 = best_adj_r2_of_this_round\n",
    "    best_model = models_of_this_round[max_var]\n",
    "\n",
    "    print('best variables updated: ', best_variables)\n",
    "    print('current best r2: ', best_adj_r2)\n",
    "\n",
    "  # 더 이상 개선되지 않으면 멈춤\n",
    "  else:\n",
    "    print(\"no improvement\")\n",
    "    break\n",
    "\n",
    "print('---------------------------------------------------')\n",
    "print('final variables: ', sorted(best_variables))\n",
    "print('final adj_r2: ', best_adj_r2)\n",
    "\n",
    "print('---------------------------------------------------')\n",
    "test_r2=r2_score(y_test, best_model.predict(x_test[:, best_variables]))\n",
    "test_adj_r2 =1-(1-test_r2)*(y_test.shape[0]-1)/(y_test.shape[0]-len(best_variables)-1) \n",
    "print('test adjust R-square: ', test_adj_r2)\n"
   ]
  }
 ],
 "metadata": {
  "colab": {
   "authorship_tag": "ABX9TyNIr2b7hPrPPT5U8jg5XJC8",
   "collapsed_sections": [],
   "name": "To-Do 후진제거법 알고리즘 구현.ipynb",
   "provenance": []
  },
  "kernelspec": {
   "display_name": "Python 3",
   "language": "python",
   "name": "python3"
  },
  "language_info": {
   "codemirror_mode": {
    "name": "ipython",
    "version": 3
   },
   "file_extension": ".py",
   "mimetype": "text/x-python",
   "name": "python",
   "nbconvert_exporter": "python",
   "pygments_lexer": "ipython3",
   "version": "3.7.7"
  }
 },
 "nbformat": 4,
 "nbformat_minor": 1
}
