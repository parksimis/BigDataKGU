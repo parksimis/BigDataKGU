{
  "nbformat": 4,
  "nbformat_minor": 0,
  "metadata": {
    "colab": {
      "name": "2020-07-17 Regularized Regression",
      "provenance": [],
      "collapsed_sections": []
    },
    "kernelspec": {
      "name": "python3",
      "display_name": "Python 3"
    }
  },
  "cells": [
    {
      "cell_type": "markdown",
      "metadata": {
        "id": "JYWuZKIXmqN_"
      },
      "source": [
        "# 정규화 회귀분석 실습\n",
        "\n",
        "python의 scikit-learn 패키지를 이용해 정규화 회귀분석을 직접 실행  \n"
      ]
    },
    {
      "cell_type": "markdown",
      "metadata": {
        "id": "U8fboZXxm3Ta"
      },
      "source": [
        " \n",
        " ## 데이터 불러오기 및 분할하기\n",
        "\n",
        " 다중 회귀분석과 동일한 데이터에 대해 분석"
      ]
    },
    {
      "cell_type": "code",
      "metadata": {
        "id": "5rtqPQ6dml0R",
        "colab": {
          "base_uri": "https://localhost:8080/"
        },
        "outputId": "d62a9e6f-fe7d-4eb9-a3d4-bdecf6ed42ac"
      },
      "source": [
        "from sklearn import datasets\n",
        "data = datasets.load_diabetes()\n",
        "\n",
        "x = data['data']\n",
        "y = data['target']\n",
        "\n",
        "print(x.shape, y.shape)"
      ],
      "execution_count": 1,
      "outputs": [
        {
          "output_type": "stream",
          "text": [
            "(442, 10) (442,)\n"
          ],
          "name": "stdout"
        }
      ]
    },
    {
      "cell_type": "code",
      "metadata": {
        "id": "eJSikX2onMT-",
        "colab": {
          "base_uri": "https://localhost:8080/"
        },
        "outputId": "16872dac-48c6-4f56-973a-2cc7e215119f"
      },
      "source": [
        "from sklearn.model_selection import train_test_split\n",
        "\n",
        "# 데이터 나누기 - 6:2:2 비율\n",
        "x_train, x_test, y_train, y_test = train_test_split(x, y, test_size=0.2, random_state=1)\n",
        "x_train, x_val, y_train, y_val = train_test_split(x_train, y_train, test_size=0.25, random_state=1)\n",
        "\n",
        "print(x_train.shape, x_val.shape, x_test.shape)"
      ],
      "execution_count": 2,
      "outputs": [
        {
          "output_type": "stream",
          "text": [
            "(264, 10) (89, 10) (89, 10)\n"
          ],
          "name": "stdout"
        }
      ]
    },
    {
      "cell_type": "markdown",
      "metadata": {
        "id": "tV_OGvV8na70"
      },
      "source": [
        "## 모델 학습하기\n",
        "\n",
        "Training data를 이용해 각 모델을 학습해 보자. 먼저 아래와 같이 각 모델을 import\n",
        "\n"
      ]
    },
    {
      "cell_type": "code",
      "metadata": {
        "id": "coz7P2ylnQ1g"
      },
      "source": [
        "from sklearn.linear_model import Ridge, Lasso, ElasticNet\n",
        "\n"
      ],
      "execution_count": 3,
      "outputs": []
    },
    {
      "cell_type": "markdown",
      "metadata": {
        "id": "9RZYzE4XnkVQ"
      },
      "source": [
        "[Ridge](https://scikit-learn.org/stable/modules/generated/sklearn.linear_model.Ridge.html?highlight=ridge#sklearn.linear_model.Ridge), [Lasso](https://scikit-learn.org/stable/modules/generated/sklearn.linear_model.Lasso.html?highlight=lasso#sklearn.linear_model.Lasso), [ElasticNet](https://scikit-learn.org/stable/modules/generated/sklearn.linear_model.ElasticNet.html?highlight=elasticnet#sklearn.linear_model.ElasticNet) 에 대한 자세한 설명은 링크를 참조하자. 이를 보고 적절한 hyperparameter를 이용해 각 모델을 구현해 보자.\n"
      ]
    },
    {
      "cell_type": "code",
      "metadata": {
        "id": "LjE0yZXwniG2"
      },
      "source": [
        "# TODO : Ridge, Lasso, ElasticNet 모델 객체 생성하기\n",
        "\n",
        "ridge = Ridge()\n",
        "lasso = Lasso()\n",
        "elastic = ElasticNet()\n"
      ],
      "execution_count": 4,
      "outputs": []
    },
    {
      "cell_type": "code",
      "metadata": {
        "id": "hmVifAean0NJ",
        "colab": {
          "base_uri": "https://localhost:8080/"
        },
        "outputId": "b36b7efd-5b41-4c9a-d2cb-d5cc7b746109"
      },
      "source": [
        "# TODO : 각 모델 학습하기\n",
        "\n",
        "ridge.fit(x_train, y_train)\n",
        "lasso.fit(x_train, y_train)\n",
        "elastic.fit(x_train, y_train)\n"
      ],
      "execution_count": 5,
      "outputs": [
        {
          "output_type": "execute_result",
          "data": {
            "text/plain": [
              "ElasticNet(alpha=1.0, copy_X=True, fit_intercept=True, l1_ratio=0.5,\n",
              "           max_iter=1000, normalize=False, positive=False, precompute=False,\n",
              "           random_state=None, selection='cyclic', tol=0.0001, warm_start=False)"
            ]
          },
          "metadata": {
            "tags": []
          },
          "execution_count": 5
        }
      ]
    },
    {
      "cell_type": "markdown",
      "metadata": {
        "id": "loLYOg7qoH6-"
      },
      "source": [
        "### 결과 분석하기\n",
        "\n",
        "각 모델의 설명력을 확인해보저.  \n",
        "지난 번에 사용한 r2_score를 이용할 수 있지만, 각 모델에서 제공하는 ```score```함수를 이용해 R-Square 점수를 얻을 수도 있다.  \n"
      ]
    },
    {
      "cell_type": "code",
      "metadata": {
        "id": "k986Kov0n-Py",
        "colab": {
          "base_uri": "https://localhost:8080/"
        },
        "outputId": "46e5d6dc-48cc-4d46-bbc5-cfa2abc7e322"
      },
      "source": [
        "# TODO: Ridge 모델의 training & validation data에 대한 R-square 계산하기\n",
        "ridge_train_r2 = ridge.score(x_train, y_train)\n",
        "ridge_val_r2 = ridge.score(x_val, y_val)\n",
        "print (\"Ridge training R-square: {:.4f}\".format(ridge_train_r2))\n",
        "print (\"Ridge validation R-square: {:.4f}\".format(ridge_val_r2))"
      ],
      "execution_count": 6,
      "outputs": [
        {
          "output_type": "stream",
          "text": [
            "Ridge training R-square: 0.4239\n",
            "Ridge validation R-square: 0.3869\n"
          ],
          "name": "stdout"
        }
      ]
    },
    {
      "cell_type": "code",
      "metadata": {
        "id": "2DuSp3Z-nYfs",
        "colab": {
          "base_uri": "https://localhost:8080/"
        },
        "outputId": "35833404-5f7b-4e0e-bb78-4aa4ae84c6af"
      },
      "source": [
        "# TODO: Lasso 모델의 training & validation data에 대한 R-square 계산하기\n",
        "lasso_train_r2 = lasso.score(x_train, y_train)\n",
        "lasso_val_r2 =lasso.score(x_val, y_val)\n",
        "print (\"Lasso training R-square: {:.4f}\".format(lasso_train_r2))\n",
        "print (\"Lasso validation R-square: {:.4f} \" .format(lasso_val_r2))"
      ],
      "execution_count": 7,
      "outputs": [
        {
          "output_type": "stream",
          "text": [
            "Lasso training R-square: 0.3646\n",
            "Lasso validation R-square: 0.3609 \n"
          ],
          "name": "stdout"
        }
      ]
    },
    {
      "cell_type": "code",
      "metadata": {
        "id": "WF9broDXosnx",
        "colab": {
          "base_uri": "https://localhost:8080/"
        },
        "outputId": "5b294b1f-14d6-4524-c076-d8fcaa7bae0e"
      },
      "source": [
        "# TODO: ElasticNet 모델의 training & validation data에 대한 R-square 계산하기\n",
        "elastic_train_r2 = elastic.score(x_train, y_train)\n",
        "elastic_val_r2 = elastic.score(x_val, y_val)\n",
        "print (\"ElasticNet training R-square: {:.4f}\".format(elastic_train_r2))\n",
        "print (\"ElasticNet validation R-square: {:.4f} \" .format(elastic_val_r2))"
      ],
      "execution_count": 8,
      "outputs": [
        {
          "output_type": "stream",
          "text": [
            "ElasticNet training R-square: 0.0093\n",
            "ElasticNet validation R-square: -0.0178 \n"
          ],
          "name": "stdout"
        }
      ]
    },
    {
      "cell_type": "markdown",
      "metadata": {
        "id": "jgWxegd7pOyy"
      },
      "source": [
        "수업 시간에 배운 Ridge와 Lasso의 가장 큰 차이점은 바로 변수를 선택할 수 있는지에 대한 여부였다. 각 모델의 회귀계수 값을 불러와 0이 아닌 회귀계수가 몇 개인지, 즉 회귀분석에 선택된 변수가 몇 개인지 세어 보자."
      ]
    },
    {
      "cell_type": "code",
      "metadata": {
        "id": "6uMR1IoQo0eL",
        "colab": {
          "base_uri": "https://localhost:8080/"
        },
        "outputId": "d6358b6c-cf3c-4323-f40a-c16ae7743a22"
      },
      "source": [
        "# TODO: 각 모델이 사용한 변수의 개수 세어보기\n",
        "import numpy as np\n",
        "ridge_used_variables = np.sum(ridge.coef_ != 0)\n",
        "lasso_used_variables = np.sum(lasso.coef_ != 0)\n",
        "elastic_used_variables = np.sum(elastic.coef_ != 0)\n",
        "print(\"Used variables: Ridge vs Lasso vs ElasticNet = %d vs %d vs %d\" % (ridge_used_variables, lasso_used_variables, elastic_used_variables))\n"
      ],
      "execution_count": 9,
      "outputs": [
        {
          "output_type": "stream",
          "text": [
            "Used variables: Ridge vs Lasso vs ElasticNet = 10 vs 3 vs 8\n"
          ],
          "name": "stdout"
        }
      ]
    },
    {
      "cell_type": "markdown",
      "metadata": {
        "id": "PVDEhJwxrJAp"
      },
      "source": [
        "배웠던 내용대로, Lasso와 ElasticNet의 경우 변수를 선택하여 모델을 학습했다는 것을 알 수 있다. Lasso의 파라미터 중 하나인 alpha(수업에서의 lambda)를 변화시켜 보면서, 선택한 변수의 개수가 어떻게 달라지는지 확인해 보자."
      ]
    },
    {
      "cell_type": "code",
      "metadata": {
        "id": "wFFOEBjdrIgL",
        "colab": {
          "base_uri": "https://localhost:8080/"
        },
        "outputId": "14cc497c-8b99-40c7-cb09-d20f994e462e"
      },
      "source": [
        "alpha_list = [0.001, 0.01, 0.1, 1, 10, 100]\n",
        "for alpha in alpha_list:\n",
        "    # TODO: 각 alpha를 이용한 Lasso 모델의 training & validation data에 대한 R-square 및 변수 개수 계산하기\n",
        "    lasso = Lasso(alpha=alpha).fit(x_train, y_train)\n",
        "    lasso_train_score = lasso.score(x_train, y_train)\n",
        "    lasso_val_score = lasso.score(x_val, y_val)\n",
        "    lasso_used_variables = np.sum(lasso.coef_ != 0)\n",
        "    \n",
        "    print(f\"======================= alpha={alpha} =======================\")\n",
        "    print(f\"training score: {lasso_train_score :.4f}\")\n",
        "    print(f\"test score: {lasso_val_score :.4f}\")\n",
        "    print(f\"number of features used: {lasso_used_variables}\")"
      ],
      "execution_count": 10,
      "outputs": [
        {
          "output_type": "stream",
          "text": [
            "======================= alpha=0.001 =======================\n",
            "training score: 0.5353\n",
            "test score: 0.4944\n",
            "number of features used: 10\n",
            "======================= alpha=0.01 =======================\n",
            "training score: 0.5336\n",
            "test score: 0.4982\n",
            "number of features used: 9\n",
            "======================= alpha=0.1 =======================\n",
            "training score: 0.5236\n",
            "test score: 0.5069\n",
            "number of features used: 7\n",
            "======================= alpha=1 =======================\n",
            "training score: 0.3646\n",
            "test score: 0.3609\n",
            "number of features used: 3\n",
            "======================= alpha=10 =======================\n",
            "training score: 0.0000\n",
            "test score: -0.0266\n",
            "number of features used: 0\n",
            "======================= alpha=100 =======================\n",
            "training score: 0.0000\n",
            "test score: -0.0266\n",
            "number of features used: 0\n"
          ],
          "name": "stdout"
        }
      ]
    }
  ]
}