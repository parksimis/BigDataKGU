{
 "cells": [
  {
   "cell_type": "markdown",
   "metadata": {},
   "source": [
    "# Python으로 웹페이지의 HTML 소스 받기\n"
   ]
  },
  {
   "cell_type": "code",
   "execution_count": 1,
   "metadata": {},
   "outputs": [],
   "source": [
    "# 필요한 라이브러리 불러오기\n",
    "import requests"
   ]
  },
  {
   "cell_type": "code",
   "execution_count": 2,
   "metadata": {},
   "outputs": [],
   "source": [
    "raw = requests.get(\"http://147.46.178.16:33333/table.html\",\n",
    "headers={'User-Agent': 'Mozilla/5.0'})"
   ]
  },
  {
   "cell_type": "code",
   "execution_count": 3,
   "metadata": {},
   "outputs": [
    {
     "name": "stdout",
     "output_type": "stream",
     "text": [
      "<table border=“1“>\r\n",
      "  <tr>\r\n",
      "    <th class=\"exampleClass1\">요일</th>\r\n",
      "    <th>PM10</th>\r\n",
      "  </tr>\r\n",
      "  <tr>\r\n",
      "    <td>월</td>\r\n",
      "    <td>100</td>\r\n",
      "  </tr>\r\n",
      "  <tr>\r\n",
      "    <td>화</td>\r\n",
      "    <td>80</td>\r\n",
      "  </tr>\r\n",
      "  <tr>\r\n",
      "    <td>수</td>\r\n",
      "    <td>180</td>\r\n",
      "  </tr>\r\n",
      "  <tr>\r\n",
      "    <td>목</td>\r\n",
      "    <td class=\"exampleClass1\">280</td>\r\n",
      "  </tr>\r\n",
      "  <tr>\r\n",
      "    <td id=\"exampleID1\">금</td>\r\n",
      "    <td>50</td>\r\n",
      "  </tr>\r\n",
      "</table>\r\n",
      "\r\n",
      "\r\n",
      "\r\n",
      "<style>\r\n",
      ".exampleClass1 {\r\n",
      "\tcolor: blue;\r\n",
      "\tbackground-color: yellow;\r\n",
      "}\r\n",
      "\r\n",
      "#exampleID1 {\r\n",
      "\tcolor: red;\r\n",
      "\tbackground-color: blue;\r\n",
      "\tfont-family: Verdana;\r\n",
      "}\r\n",
      "</style>\n"
     ]
    }
   ],
   "source": [
    "print(raw.text)"
   ]
  },
  {
   "cell_type": "markdown",
   "metadata": {},
   "source": [
    "# BeatifulSoup를 사용해서 소스 분석"
   ]
  },
  {
   "cell_type": "code",
   "execution_count": 4,
   "metadata": {},
   "outputs": [],
   "source": [
    "from bs4 import BeautifulSoup\n",
    "html = BeautifulSoup(raw.content, \"html.parser\", from_encoding=\"utf-8\")"
   ]
  },
  {
   "cell_type": "code",
   "execution_count": 5,
   "metadata": {},
   "outputs": [
    {
     "name": "stdout",
     "output_type": "stream",
     "text": [
      "<table border=\"“1“\">\n",
      "<tr>\n",
      "<th class=\"exampleClass1\">요일</th>\n",
      "<th>PM10</th>\n",
      "</tr>\n",
      "<tr>\n",
      "<td>월</td>\n",
      "<td>100</td>\n",
      "</tr>\n",
      "<tr>\n",
      "<td>화</td>\n",
      "<td>80</td>\n",
      "</tr>\n",
      "<tr>\n",
      "<td>수</td>\n",
      "<td>180</td>\n",
      "</tr>\n",
      "<tr>\n",
      "<td>목</td>\n",
      "<td class=\"exampleClass1\">280</td>\n",
      "</tr>\n",
      "<tr>\n",
      "<td id=\"exampleID1\">금</td>\n",
      "<td>50</td>\n",
      "</tr>\n",
      "</table>\n",
      "<style>\r\n",
      ".exampleClass1 {\r\n",
      "\tcolor: blue;\r\n",
      "\tbackground-color: yellow;\r\n",
      "}\r\n",
      "\r\n",
      "#exampleID1 {\r\n",
      "\tcolor: red;\r\n",
      "\tbackground-color: blue;\r\n",
      "\tfont-family: Verdana;\r\n",
      "}\r\n",
      "</style>\n"
     ]
    }
   ],
   "source": [
    "print(html)\n"
   ]
  },
  {
   "cell_type": "code",
   "execution_count": 6,
   "metadata": {},
   "outputs": [],
   "source": [
    "test = html.select_one('tr th')"
   ]
  },
  {
   "cell_type": "markdown",
   "metadata": {},
   "source": [
    "* Soup 변수에서는 추후 selector를 사용하여 원하는 정보를 빼오는 것이 가능하다."
   ]
  },
  {
   "cell_type": "code",
   "execution_count": 7,
   "metadata": {},
   "outputs": [
    {
     "name": "stdout",
     "output_type": "stream",
     "text": [
      "<th class=\"exampleClass1\">요일</th>\n",
      "요일\n",
      "['exampleClass1']\n"
     ]
    }
   ],
   "source": [
    "print(test)\n",
    "print(test.text)\n",
    "print(test.get('class'))"
   ]
  },
  {
   "cell_type": "code",
   "execution_count": 8,
   "metadata": {},
   "outputs": [
    {
     "name": "stdout",
     "output_type": "stream",
     "text": [
      "selectfunction : \n",
      " [<th class=\"exampleClass1\">요일</th>, <th>PM10</th>]\n",
      "text만 나오게하려면 : 요일\n",
      "요일\n",
      "PM10\n"
     ]
    }
   ],
   "source": [
    "selectfunction = html.select('tr th')\n",
    "print(\"selectfunction : \\n\", selectfunction)\n",
    "print('text만 나오게하려면 :', selectfunction[0].text)\n",
    "for d in selectfunction:\n",
    "    print(d.text)"
   ]
  },
  {
   "cell_type": "markdown",
   "metadata": {},
   "source": [
    "## Practice\n",
    "* 산기대 홈페이지에서 한글 학과명의 태그를 전부 가져오기.\n"
   ]
  },
  {
   "cell_type": "code",
   "execution_count": 9,
   "metadata": {},
   "outputs": [
    {
     "name": "stdout",
     "output_type": "stream",
     "text": [
      "기계공학과\n",
      "기계설계공학과\n",
      "메카트로닉스공학과\n",
      "전자공학부\n",
      "컴퓨터공학부\n",
      "게임공학부\n",
      "신소재공학과\n",
      "생명화학공학과\n",
      "디자인학부\n",
      "경영학부\n",
      "나노반도체공학과\n",
      "에너지·전기공학과\n",
      "지식융합학부\n"
     ]
    }
   ],
   "source": [
    "raw = requests.get(\"http://www.kpu.ac.kr/contents/main/cor/kcollege.html\",\n",
    "headers={'User-Agent': 'Mozilla/5.0'})\n",
    "\n",
    "html = BeautifulSoup(raw.content, \"html.parser\", from_encoding=\"utf-8\")\n",
    "\n",
    "body = html.select(\".label.ko\")\n",
    "\n",
    "for dept in body:\n",
    "    print(dept.text)"
   ]
  },
  {
   "cell_type": "markdown",
   "metadata": {},
   "source": [
    "# Selenium을 활용해 동적 script 크롤링"
   ]
  },
  {
   "cell_type": "code",
   "execution_count": 12,
   "metadata": {},
   "outputs": [
    {
     "name": "stdout",
     "output_type": "stream",
     "text": [
      "<html><head></head><body><a href=\"javascript:openComments();\">로또번호 생성하기</a>\n",
      "<div id=\"commentArea\">27<br>34<br>29<br>19<br>23<br>3<br>44<br></div>\n",
      "\n",
      "<script>\n",
      "\tvar ddd = Math.random()\n",
      "  function openComments() {\n",
      "    a = \"\";\n",
      "    for (i = 0; i < 7; i++) {\n",
      "      a += Math.ceil(Math.random() * 45) + \"<br>\";\n",
      "    }\n",
      "    document.getElementById(\"commentArea\").innerHTML = a;\n",
      "  }\n",
      "\n",
      "  function displayTime() {\n",
      "    document.getElementById('demo').innerHTML = Date()\n",
      "  }\n",
      "\n",
      "</script></body></html>\n"
     ]
    }
   ],
   "source": [
    "from selenium import webdriver\n",
    "\n",
    "driver_path = '../resources/chromedriver'  #driver path\n",
    "url = \"http://147.46.178.16:33333/javascript.html\"\n",
    "\n",
    "browser = webdriver.Chrome(executable_path=driver_path)\n",
    "browser.get(url)\n",
    "\n",
    "\n",
    "browser.find_element_by_css_selector('body a').click()\n",
    "import time\n",
    "time.sleep(1)\n",
    "print(browser.page_source)\n",
    "browser.quit()"
   ]
  },
  {
   "cell_type": "markdown",
   "metadata": {},
   "source": [
    "# Practice Selenium을 통해 네이버 블로그 크롤링"
   ]
  },
  {
   "cell_type": "code",
   "execution_count": 16,
   "metadata": {},
   "outputs": [
    {
     "name": "stdout",
     "output_type": "stream",
     "text": [
      "[<selenium.webdriver.remote.webelement.WebElement (session=\"0a01fc1d097133bc3974609da08dd6fc\", element=\"c83425a0-33eb-429c-ab2f-a918f1ed16a2\")>, <selenium.webdriver.remote.webelement.WebElement (session=\"0a01fc1d097133bc3974609da08dd6fc\", element=\"aa1bf9d7-1d69-4432-9a01-6c7e83301cc4\")>, <selenium.webdriver.remote.webelement.WebElement (session=\"0a01fc1d097133bc3974609da08dd6fc\", element=\"ce67e586-5661-4096-ae26-e6e4106f40dc\")>, <selenium.webdriver.remote.webelement.WebElement (session=\"0a01fc1d097133bc3974609da08dd6fc\", element=\"5089ec7d-19b4-4c94-922b-a0cc6eacfa9d\")>, <selenium.webdriver.remote.webelement.WebElement (session=\"0a01fc1d097133bc3974609da08dd6fc\", element=\"ee9a0539-ab4c-40f9-a3ba-2cecea6ac2b5\")>, <selenium.webdriver.remote.webelement.WebElement (session=\"0a01fc1d097133bc3974609da08dd6fc\", element=\"80222830-91aa-4db3-9d5e-5a6a40a32401\")>, <selenium.webdriver.remote.webelement.WebElement (session=\"0a01fc1d097133bc3974609da08dd6fc\", element=\"0822f2fa-c083-4010-a361-27fcaf331f1a\")>, <selenium.webdriver.remote.webelement.WebElement (session=\"0a01fc1d097133bc3974609da08dd6fc\", element=\"8c148b37-275c-4c32-87af-8b1f9a8f2914\")>, <selenium.webdriver.remote.webelement.WebElement (session=\"0a01fc1d097133bc3974609da08dd6fc\", element=\"703ca9c4-be34-4aa5-bb28-e6cf66b7a888\")>, <selenium.webdriver.remote.webelement.WebElement (session=\"0a01fc1d097133bc3974609da08dd6fc\", element=\"b4df4569-b003-42c9-bed5-796717ca7137\")>]\n"
     ]
    }
   ],
   "source": [
    "driver_path = '../resources/chromedriver'  #driver path\n",
    "browser = webdriver.Chrome(executable_path=driver_path)\n",
    "\n",
    "browser.get(\"https://blog.naver.com\")\n",
    "\n",
    "time.sleep(1)\n",
    "\n",
    "boxes = browser.find_elements_by_css_selector('div.info_post')\n",
    "print((boxes))"
   ]
  },
  {
   "cell_type": "code",
   "execution_count": 17,
   "metadata": {},
   "outputs": [
    {
     "name": "stdout",
     "output_type": "stream",
     "text": [
      "18\t다락방TV\t일본여행 나가사키 가볼만한곳 추천 코스 5\thttps://blogpfthumb-phinf.pstatic.net/20141001_90/pururune_1412151155571x1qUX_PNG/Untitled-42%2Bcopy.png?type=s1\n",
      "4\t디니\t단번에 빠졌던 강릉횟집\thttps://blogpfthumb-phinf.pstatic.net/20140527_232/llzzinll_1401117496721NkcKn_JPEG/DSC06992_1.jpg?type=s1\n",
      "9\t수연이\t남해생굴로 만들어본 생굴무침 집에서 편하게 먹자! 올뉴엣홈\thttps://blogpfthumb-phinf.pstatic.net/MjAyMDAyMDVfMjcy/MDAxNTgwODg5MzM5NTc3.MmcnPJv3WJGmyMTjVz8iB0d1cCD-kywjnJl1SfGzdHgg.dEvw6G30Ui7aKN3Y4hEB0OrYVdPDALZva3brENorhUYg.JPEG.ssuyeon0524/profileImage.jpg?type=s1\n",
      "1\t호두나무\t건강했던 아침고요수목원 맛집 모음\thttps://blogpfthumb-phinf.pstatic.net/MjAyMDA3MTZfMjQw/MDAxNTk0ODU5NjA4Mjcy.GMmHiXLoESbAeK8-ExJkAOqdQGb8fwnz6rY8FSgPTS0g.oD3CKGGKKPUyZmysis5M5NXLyu5AFaIqXkE70WntUJsg.JPEG.hyuni9987/20200704_090442.jpg?type=s1\n",
      "6\t딸기우유\t빈티지 샵에서 사온 소품으로 꾸민 침실인테리어\thttps://blogpfthumb-phinf.pstatic.net/MjAxODAxMTZfMjEy/MDAxNTE2MDQ3MzAyOTEy.ZjslsBtSuq7MhcpfoNUv6pPUngLfqbhuoG0zjK4a3Jcg.aiFPyoGvlubejdNKrrkTvC-t6L72lMq49S648Ng03ugg.JPEG.jojoharu1000/_MG_9462.JPG?type=s1\n",
      "5\t처뤼 글쟁이\t넷플릭스 <스위트 홈>에 나온 등장인물 어디서 봤더라? 배우들의 과거 출연작 그것이 알고싶다!\thttps://blogpfthumb-phinf.pstatic.net/20131205_263/ews1016_1386239914945OhRil_JPEG/%BB%E7%BA%BB+-+%C3%B3%B7%F2+%BE%C6%B7%CE%BB%F5%B1%E2%B4%D9.jpg?type=s1\n",
      "5\t제나\t또 가고 싶은 강릉 세인트존스호텔 맛집 모음\thttps://blogpfthumb-phinf.pstatic.net/MjAxOTA0MTdfMjQw/MDAxNTU1NDcxMTYwMjAw.rpyyylz3K-pAP-_Xtm_AAOU8Qwhln-HoKAPJ1WO3Rwgg.8aeNM7gYz6tl6C_gf5n7-VCmCGiPHmwe9E88NvrjnPIg.JPEG.jennabom/_MG_5354.JPG?type=s1\n",
      "12\t선영s\t윈도우 10 정품 설치 인증 해야하는 이유? 보안 Stay real 캠페인\thttps://blogpfthumb-phinf.pstatic.net/MjAyMDA3MjZfMTIg/MDAxNTk1NzUwNjc3Njky.0inSIeHNnFyzt-p4ewqSAxaR_FAn6TX0LEwnqEJXSHMg.R_Teu-1uGgrx430GlAuPVqKWPIuvRyFIXG2ih2nMFC8g.JPEG.joytoseon/SAM_8524.jpg?type=s1\n",
      "15\t이몽키\t목포 신안 가볼만한곳 BEST 8 인생샷 남겨요\thttps://blogpfthumb-phinf.pstatic.net/MjAxODA3MzBfMTAy/MDAxNTMyOTU2OTAyMDA1.Tx4PswmXg3T9aqyOWhzcqctp9ZlSabQ8wG2AAHdRbmog.SR-gG0o35vUJ3jpiYQswR0vvR6lEiXewNqZkcZyM3rog.JPEG.dlfauddl/profileImage.jpg?type=s1\n",
      "13\t포도크린\t송파 입주청소 이사청소 - 파크하비오 완벽한 케어로 확 달라졌습니다.\thttps://blogpfthumb-phinf.pstatic.net/MjAyMDA0MDhfMTg4/MDAxNTg2MzM2OTM1Mjc1.cCYqdsZXLS5zihRyJh4AYXYshf8sREhH2Pd_Q7JuXF4g.dR3Atgaj96VBosCoOqNnXq4JwKhI4vv0aFvcOINi4V8g.JPEG.podocleanup/%25C6%25F7%25B5%25B5%25C5%25A9%25B8%25B0%2B%25C7%25C1%25B7%25CE%25C7%25CA.jpg?type=s1\n"
     ]
    }
   ],
   "source": [
    "# 블로거 닉네임 및 제목, 댓글 및 썸네일 URL 크롤링\n",
    "\n",
    "for i in range(len(boxes)):\n",
    "    try:\n",
    "        title = boxes[i].find_element_by_css_selector('a strong').text\n",
    "        author = boxes[i].find_element_by_css_selector('.name_author').text\n",
    "        replies = boxes[i].find_element_by_css_selector(\".reply em\").text\n",
    "        thumbnailurl = boxes[i].find_element_by_css_selector('img').get_attribute('bg-image')\n",
    "        print(replies + '\\t' + author + '\\t' + title + '\\t' + thumbnailurl)\n",
    "\n",
    "    except:\n",
    "        print(\"There is an error with \" +str(i+1) +\" 번째\")\n",
    "\n",
    "browser.quit()"
   ]
  },
  {
   "cell_type": "markdown",
   "metadata": {},
   "source": [
    "# Practice\n",
    "* 산업일보 홈페이지에서 코로나를 검색해보기"
   ]
  },
  {
   "cell_type": "code",
   "execution_count": 18,
   "metadata": {},
   "outputs": [],
   "source": [
    "driver_path = '../resources/chromedriver' #driver path\n",
    "browser = webdriver.Chrome(executable_path=driver_path)\n",
    "\n",
    "browser.get(\"http://kidd.co.kr/\")\n",
    "time.sleep(1)\n",
    "\n",
    "textarea = browser.find_element_by_css_selector(\"#form_find\")\n",
    "textarea.send_keys('코로나')\n",
    "button = browser.find_element_by_css_selector('#sch_form input:nth-child(3)').click()"
   ]
  }
 ],
 "metadata": {
  "kernelspec": {
   "display_name": "Python 3",
   "language": "python",
   "name": "python3"
  },
  "language_info": {
   "codemirror_mode": {
    "name": "ipython",
    "version": 3
   },
   "file_extension": ".py",
   "mimetype": "text/x-python",
   "name": "python",
   "nbconvert_exporter": "python",
   "pygments_lexer": "ipython3",
   "version": "3.7.7"
  }
 },
 "nbformat": 4,
 "nbformat_minor": 4
}
