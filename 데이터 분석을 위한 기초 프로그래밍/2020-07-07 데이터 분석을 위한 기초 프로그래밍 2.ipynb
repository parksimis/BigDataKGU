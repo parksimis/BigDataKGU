{
 "cells": [
  {
   "cell_type": "markdown",
   "metadata": {},
   "source": [
    "## if문\n",
    "\n",
    "* 주어진 조건을 만족했을 때 특정 명령을 수행한다.  \n",
    "* 사용법  \n",
    "\n",
    "if 조건 :  \n",
    "\n",
    "    명령\n",
    "    \n",
    "**명령 앞에 들여쓰기 필수**\n",
    "\n",
    "## else 문\n",
    "\n",
    "* if문이 거짓일 경우에만 특정 명령을 수행한다.   \n",
    "* 사용법  \n",
    "\n",
    "if 조건 :  \n",
    "  \n",
    "    명령  \n",
    "    \n",
    "else :  \n",
    "  \n",
    "    명령\n",
    "    \n",
    "* 명령 앞에 들여쓰기 필수  \n",
    "* else 단독으로 쓸 수 없고, if와 함께 쓰여야 한다.  \n",
    "* 짝을 이루는 if와 else는 동일한 수준의 들여쓰기 필수  \n",
    "* else에는 if와 달리 조건이 붙지 않음.  \n"
   ]
  },
  {
   "cell_type": "code",
   "execution_count": 3,
   "metadata": {},
   "outputs": [
    {
     "name": "stdout",
     "output_type": "stream",
     "text": [
      "a는 15보다 작습니다.\n",
      "====================\n"
     ]
    }
   ],
   "source": [
    "a = 10 \n",
    "if a > 15:\n",
    "    print(\"a는 15보다 큽니다.\")\n",
    "else:\n",
    "    print(\"a는 15보다 작습니다.\")\n",
    "print(\"====================\")"
   ]
  },
  {
   "cell_type": "markdown",
   "metadata": {},
   "source": [
    "## elif문  \n",
    "\n",
    "* if문이 거짓이고 직전의 elif까지 전부 것짓일 경우에만 특정 명령을 수행한다.\n",
    "* 명령 앞에 들여쓰기 필수\n",
    "* elif 단독으로 쓸 수 없고, if/else와 함께 쓰여야 한다.\n",
    "* 짝을 이루는 if, elif, else는 동일한 수준의 들여쓰기 필수\n",
    "* 하나만 써야하는 if와 else와 달리 다수의 elif 사용 가능\n"
   ]
  },
  {
   "cell_type": "code",
   "execution_count": 4,
   "metadata": {},
   "outputs": [
    {
     "name": "stdout",
     "output_type": "stream",
     "text": [
      "a는 18이하 16 초과입니다.\n",
      "======================\n"
     ]
    }
   ],
   "source": [
    "a = 18\n",
    "if a > 20:\n",
    "    print(\"a는 20보다 큽니다.\")\n",
    "elif a > 18:\n",
    "    print(\"a는 20이하 18 초과입니다.\")\n",
    "elif a> 16 : \n",
    "    print(\"a는 18이하 16 초과입니다.\")\n",
    "else:\n",
    "    print(\"a는 15보다 작습니다.\")\n",
    "    \n",
    "print(\"======================\")"
   ]
  },
  {
   "cell_type": "markdown",
   "metadata": {},
   "source": [
    "### DIY\n",
    "0 ~ 100의 총점을 입력하면 A~F의 학점을 출력하는 계산기 만들기  \n",
    "  \\+ 뒷자리가 7 이상이면 +를 붙여줌\n"
   ]
  },
  {
   "cell_type": "code",
   "execution_count": 20,
   "metadata": {},
   "outputs": [
    {
     "name": "stdout",
     "output_type": "stream",
     "text": [
      "점수 입력 : 85\n",
      "당신의 학점은 B0 입니다.\n"
     ]
    }
   ],
   "source": [
    "score = int(input(\"점수 입력 : \"))\n",
    "grade = \"\"\n",
    "\n",
    "if score > 90 :\n",
    "    grade = \"A\"\n",
    "elif score > 80:\n",
    "    grade = \"B\"\n",
    "elif score >70:\n",
    "    grade = \"C\"\n",
    "else:\n",
    "    grade = \"F\"\n",
    "    \n",
    "\n",
    "if score % 10 >= 7:\n",
    "    grade += \"+\"\n",
    "elif score % 10 >=4: \n",
    "    grade += \"0\"\n",
    "else :\n",
    "    grade += \"-\"\n",
    "print(\"당신의 학점은\", grade, \"입니다.\")"
   ]
  },
  {
   "cell_type": "markdown",
   "metadata": {},
   "source": [
    "### 시퀀스 데이터 타입\n",
    "\n",
    "* 여러 개의 자료들의 배열을 나타대고 순서가 정해진 타입  \n",
    "* **종류**\n",
    "    * 문자열 : 문자들의 시퀀스  \n",
    "    * 리스트 : 임의의 자료형을 갖는 데이터들의 시퀀스\n",
    "* **내장함수 예시**\n",
    "    * len() : 시퀀스의 길이를 알려줌  \n",
    "    * 리스트.index(item) : 리스트 내에 item이 등장하는 첫 인덱스를 알려줌  \n",
    "    * 리스트.count(item) : 리스트 내에 item이 몇 회 등장하는지 알려줌"
   ]
  },
  {
   "cell_type": "code",
   "execution_count": 26,
   "metadata": {},
   "outputs": [
    {
     "name": "stdout",
     "output_type": "stream",
     "text": [
      "2\n",
      "0\n",
      "4\n",
      "2\n"
     ]
    }
   ],
   "source": [
    "newlist = [2, 2, \"2\", 2, 2, \"2\"]\n",
    "print(newlist.index(\"2\"))\n",
    "print(newlist.index(2))\n",
    "\n",
    "print(newlist.count(2))\n",
    "print(newlist.count(\"2\"))"
   ]
  },
  {
   "cell_type": "markdown",
   "metadata": {},
   "source": [
    "## for문\n",
    "* 주어진 시퀀스의 요소 하나하나를 사용하여 특정 명령을 수행한다.  \n",
    "* 명령 앞에 들여쓰기 필수\n",
    "  \n",
    "  \n",
    "## range()\n",
    "* 정수들의 시퀀스를 제공하는 함수  \n",
    "* 사용법 : range(시작 인덱스, 끝 인덱스, 건너뛰는 크기)  \n",
    "* 시작 인덱스 : 생략 가능, default = 0\n",
    "* 끝 인덱스 : 필수  \n",
    "* 건너뛰는 크기 : 생략 가능, default = 1\n",
    "\n"
   ]
  },
  {
   "cell_type": "code",
   "execution_count": 30,
   "metadata": {},
   "outputs": [
    {
     "name": "stdout",
     "output_type": "stream",
     "text": [
      "s\n",
      "l\n",
      "e\n",
      "e\n",
      "p\n",
      "y\n",
      " \n",
      "3\n",
      "4\n",
      "5\n",
      "6\n"
     ]
    }
   ],
   "source": [
    "for c in 'sleepy':\n",
    "    print(c)\n",
    "\n",
    "print(\" \")\n",
    "list = [1, 2, 3, 4]\n",
    "for i in list:\n",
    "    print(i + 2)"
   ]
  },
  {
   "cell_type": "code",
   "execution_count": 45,
   "metadata": {},
   "outputs": [
    {
     "name": "stdout",
     "output_type": "stream",
     "text": [
      "10\n",
      "8\n",
      "6\n"
     ]
    }
   ],
   "source": [
    "for number in range(10, 4, -2):\n",
    "    print(number)"
   ]
  },
  {
   "cell_type": "markdown",
   "metadata": {},
   "source": [
    "## break\n",
    "* 반복문 내에서 break 실행시 해당 반복문이 전체가 종료됨  \n",
    "\n",
    "## continue \n",
    "* 반복문 내에서 continue 실행시 현재 요소의 반복문 실행을 중지하고 다음 요소로 넘어가서 반복문 계속 실행"
   ]
  },
  {
   "cell_type": "code",
   "execution_count": 35,
   "metadata": {},
   "outputs": [
    {
     "name": "stdout",
     "output_type": "stream",
     "text": [
      "구구단 2 단 입니다.\n",
      "구구단 3 단 입니다.\n",
      "구구단 4 단 입니다.\n",
      "구구단 5 단 입니다.\n",
      "구구단 6 단 입니다.\n",
      "구구단 7 단 입니다.\n",
      "구구단 8 단 입니다.\n",
      "구구단 9 단 입니다.\n",
      "구구단 출력을 마칩니다.\n"
     ]
    }
   ],
   "source": [
    "for i in range(2, 100):\n",
    "    if (i > 9):\n",
    "        break\n",
    "    print('구구단', i, '단 입니다.')\n",
    "print(\"구구단 출력을 마칩니다.\")"
   ]
  },
  {
   "cell_type": "code",
   "execution_count": 46,
   "metadata": {},
   "outputs": [
    {
     "name": "stdout",
     "output_type": "stream",
     "text": [
      "구구단 2 단 입니다.\n",
      "구구단 3 단 입니다.\n",
      "구구단 4 단 입니다.\n",
      "5단은 모르겠습니다.\n",
      "구구단 6 단 입니다.\n",
      "구구단 7 단 입니다.\n",
      "구구단 8 단 입니다.\n",
      "구구단 9 단 입니다.\n"
     ]
    }
   ],
   "source": [
    "for i in range(2, 10):\n",
    "    if(i == 5):\n",
    "        print(\"5단은 모르겠습니다.\")\n",
    "        continue\n",
    "    print(\"구구단\", i, \"단 입니다.\")"
   ]
  },
  {
   "cell_type": "code",
   "execution_count": 49,
   "metadata": {},
   "outputs": [
    {
     "name": "stdout",
     "output_type": "stream",
     "text": [
      "break/continue 만나기 전 2\n",
      "구구단 2 단 입니다.\n",
      "break/continue 만나기 전 3\n",
      "구구단 3 단 입니다.\n",
      "break/continue 만나기 전 4\n",
      "구구단 4 단 입니다.\n",
      "break/continue 만나기 전 5\n",
      "break/continue 만나기 전 6\n",
      "구구단 6 단 입니다.\n",
      "break/continue 만나기 전 7\n",
      "구구단 7 단 입니다.\n",
      "break/continue 만나기 전 8\n",
      "구구단 8 단 입니다.\n",
      "break/continue 만나기 전 9\n",
      "구구단 9 단 입니다.\n",
      "break/continue 만나기 전 10\n"
     ]
    }
   ],
   "source": [
    "for i in range(2, 50):\n",
    "    print('break/continue 만나기 전', i)\n",
    "    if(i == 5):\n",
    "        continue\n",
    "    if (i > 9):\n",
    "        break\n",
    "    print(\"구구단\", i, \"단 입니다.\")"
   ]
  },
  {
   "cell_type": "markdown",
   "metadata": {},
   "source": [
    "## 구구단에 for 문 활용하기\n"
   ]
  },
  {
   "cell_type": "code",
   "execution_count": 50,
   "metadata": {},
   "outputs": [
    {
     "name": "stdout",
     "output_type": "stream",
     "text": [
      "구구단 2 단을 출력합니다.\n",
      "2 x 2 = 4\n",
      "2 x 3 = 6\n",
      "2 x 4 = 8\n",
      "2 x 5 = 10\n",
      "2 x 6 = 12\n",
      "2 x 7 = 14\n",
      "2 x 8 = 16\n",
      "2 x 9 = 18\n"
     ]
    }
   ],
   "source": [
    "dan = 2 \n",
    "print(\"구구단\", dan, \"단을 출력합니다.\")\n",
    "for i in range(2, 10):\n",
    "    print(dan, \"x\", i, \"=\", dan * i)"
   ]
  },
  {
   "cell_type": "code",
   "execution_count": 70,
   "metadata": {},
   "outputs": [
    {
     "name": "stdout",
     "output_type": "stream",
     "text": [
      "구구단 2 단을 출력합니다.\n",
      "2 x 1 = 2\n",
      "2 x 2 = 4\n",
      "2 x 3 = 6\n",
      "2 x 4 = 8\n",
      "2 x 5 = 10\n",
      "2 x 6 = 12\n",
      "2 x 7 = 14\n",
      "2 x 8 = 16\n",
      "2 x 9 = 18\n",
      "구구단 3 단을 출력합니다.\n",
      "3 x 1 = 3\n",
      "3 x 2 = 6\n",
      "3 x 3 = 9\n",
      "3 x 4 = 12\n",
      "3 x 5 = 15\n",
      "3 x 6 = 18\n",
      "3 x 7 = 21\n",
      "3 x 8 = 24\n",
      "3 x 9 = 27\n",
      "구구단 4 단을 출력합니다.\n",
      "4 x 1 = 4\n",
      "4 x 2 = 8\n",
      "4 x 3 = 12\n",
      "4 x 4 = 16\n",
      "4 x 5 = 20\n",
      "4 x 6 = 24\n",
      "4 x 7 = 28\n",
      "4 x 8 = 32\n",
      "4 x 9 = 36\n",
      "구구단 5 단을 출력합니다.\n",
      "5 x 1 = 5\n",
      "5 x 2 = 10\n",
      "5 x 3 = 15\n",
      "5 x 4 = 20\n",
      "5 x 5 = 25\n",
      "5 x 6 = 30\n",
      "5 x 7 = 35\n",
      "5 x 8 = 40\n",
      "5 x 9 = 45\n",
      "구구단 6 단을 출력합니다.\n",
      "6 x 1 = 6\n",
      "6 x 2 = 12\n",
      "6 x 3 = 18\n",
      "6 x 4 = 24\n",
      "6 x 5 = 30\n",
      "6 x 6 = 36\n",
      "6 x 7 = 42\n",
      "6 x 8 = 48\n",
      "6 x 9 = 54\n",
      "구구단 7 단을 출력합니다.\n",
      "7 x 1 = 7\n",
      "7 x 2 = 14\n",
      "7 x 3 = 21\n",
      "7 x 4 = 28\n",
      "7 x 5 = 35\n",
      "7 x 6 = 42\n",
      "7 x 7 = 49\n",
      "7 x 8 = 56\n",
      "7 x 9 = 63\n",
      "구구단 8 단을 출력합니다.\n",
      "8 x 1 = 8\n",
      "8 x 2 = 16\n",
      "8 x 3 = 24\n",
      "8 x 4 = 32\n",
      "8 x 5 = 40\n",
      "8 x 6 = 48\n",
      "8 x 7 = 56\n",
      "8 x 8 = 64\n",
      "8 x 9 = 72\n",
      "구구단 9 단을 출력합니다.\n",
      "9 x 1 = 9\n",
      "9 x 2 = 18\n",
      "9 x 3 = 27\n",
      "9 x 4 = 36\n",
      "9 x 5 = 45\n",
      "9 x 6 = 54\n",
      "9 x 7 = 63\n",
      "9 x 8 = 72\n",
      "9 x 9 = 81\n"
     ]
    }
   ],
   "source": [
    "for dan in range(2, 10):\n",
    "    print(\"구구단\", dan, \"단을 출력합니다.\")\n",
    "    for gob in range(1, 10):\n",
    "        print(dan, \"x\", gob, \"=\", dan * gob)"
   ]
  },
  {
   "cell_type": "markdown",
   "metadata": {},
   "source": [
    "## DIY 별 만들기"
   ]
  },
  {
   "cell_type": "code",
   "execution_count": 78,
   "metadata": {},
   "outputs": [
    {
     "name": "stdout",
     "output_type": "stream",
     "text": [
      "*\n",
      "**\n",
      "***\n",
      "****\n",
      "*****\n"
     ]
    }
   ],
   "source": [
    "# 1\n",
    "for i in range(1, 6):\n",
    "    print(\"*\" * i)"
   ]
  },
  {
   "cell_type": "code",
   "execution_count": 85,
   "metadata": {},
   "outputs": [
    {
     "name": "stdout",
     "output_type": "stream",
     "text": [
      "*\n",
      "***\n",
      "*****\n",
      "*******\n",
      "*********\n"
     ]
    }
   ],
   "source": [
    "# 2 \n",
    "for i in range(1, 10, 2):\n",
    "    print(\"*\" * i)"
   ]
  },
  {
   "cell_type": "code",
   "execution_count": 92,
   "metadata": {},
   "outputs": [
    {
     "name": "stdout",
     "output_type": "stream",
     "text": [
      "*****\n",
      "****\n",
      "***\n",
      "**\n",
      "*\n"
     ]
    }
   ],
   "source": [
    "# 3 \n",
    "for i in range(5, 0, -1):\n",
    "    print(\"*\"*i)"
   ]
  },
  {
   "cell_type": "code",
   "execution_count": 135,
   "metadata": {},
   "outputs": [
    {
     "name": "stdout",
     "output_type": "stream",
     "text": [
      "    *\n",
      "   ***\n",
      "  *****\n",
      " *******\n",
      "*********\n"
     ]
    }
   ],
   "source": [
    "# 4\n",
    "\n",
    "for i in range(1, 6):\n",
    "    print(\" \"* (5 - i) + \"*\" *(2 * i-1))"
   ]
  },
  {
   "cell_type": "code",
   "execution_count": 214,
   "metadata": {},
   "outputs": [
    {
     "name": "stdout",
     "output_type": "stream",
     "text": [
      "12345\n",
      " 1234\n",
      "  123\n",
      "   12\n",
      "    1\n"
     ]
    }
   ],
   "source": [
    "# 5\n",
    "for line in range(1, 6):\n",
    "    # 공백 찍는 곳\n",
    "    print(\" \" * (line - 1), end=\"\")\n",
    "    #숫자 찍는 곳\n",
    "    for num in range(1, 7 - line):\n",
    "        print(num, end=\"\")\n",
    "    print(\"\")"
   ]
  },
  {
   "cell_type": "code",
   "execution_count": 232,
   "metadata": {},
   "outputs": [
    {
     "name": "stdout",
     "output_type": "stream",
     "text": [
      "123454321\n",
      " 1234321\n",
      "  12321\n",
      "   121\n",
      "    1\n"
     ]
    }
   ],
   "source": [
    "# 6\n",
    "for line in range(1, 6):\n",
    "    # 공백 찍는 곳\n",
    "    print(\" \" * (line - 1), end=\"\")\n",
    "    \n",
    "    # 숫자 찍는 곳\n",
    "    for num in range(1, 7 - line):\n",
    "        print(num, end=\"\")\n",
    "        \n",
    "    # 숫자 역순 찍는 곳\n",
    "    for num in range(5-line, 0, -1):\n",
    "        print(num, end=\"\")\n",
    "        \n",
    "    # 엔터 치는 곳\n",
    "    print(\"\")"
   ]
  },
  {
   "cell_type": "markdown",
   "metadata": {},
   "source": [
    "## 함수\n",
    "\n",
    "* 자주 사용될 기능을 함수로 선언하면 나중에도 재사용 가능\n",
    "* 함수 정의  \n",
    "\n",
    "def 함수명(인자1, 인자2, ...):  \n",
    "    명령  \n",
    "      \n",
    "* 함수 사용 \n",
    "\n",
    "함수명(인자1, 인자2, ...)  \n",
    "  \n",
    "    \n",
    "  \n",
    "## DIY\n",
    "printDan 함수는 원래 x 9까지만 출력하지만, 어디까지 출력할지 정할 수 있도록  \n",
    "printDan 함수에 인자를 추가해보기(인자가 총 2개)"
   ]
  },
  {
   "cell_type": "code",
   "execution_count": 254,
   "metadata": {},
   "outputs": [],
   "source": [
    "def printDan(dan, gob):\n",
    "    print(\"구구단\", dan,\"을\", gob, \"까지 출력합니다.\")\n",
    "    for i in range(2, dan+1):\n",
    "        print(\"구구단\", dan,\"단을 출력합니다.\")\n",
    "        for j in range(1, gob+1):\n",
    "            print(i, \"x\", j, \"=\", i * j)"
   ]
  },
  {
   "cell_type": "code",
   "execution_count": 257,
   "metadata": {},
   "outputs": [
    {
     "name": "stdout",
     "output_type": "stream",
     "text": [
      "구구단 9 을 5 까지 출력합니다.\n",
      "구구단 9 단을 출력합니다.\n",
      "2 x 1 = 2\n",
      "2 x 2 = 4\n",
      "2 x 3 = 6\n",
      "2 x 4 = 8\n",
      "2 x 5 = 10\n",
      "구구단 9 단을 출력합니다.\n",
      "3 x 1 = 3\n",
      "3 x 2 = 6\n",
      "3 x 3 = 9\n",
      "3 x 4 = 12\n",
      "3 x 5 = 15\n",
      "구구단 9 단을 출력합니다.\n",
      "4 x 1 = 4\n",
      "4 x 2 = 8\n",
      "4 x 3 = 12\n",
      "4 x 4 = 16\n",
      "4 x 5 = 20\n",
      "구구단 9 단을 출력합니다.\n",
      "5 x 1 = 5\n",
      "5 x 2 = 10\n",
      "5 x 3 = 15\n",
      "5 x 4 = 20\n",
      "5 x 5 = 25\n",
      "구구단 9 단을 출력합니다.\n",
      "6 x 1 = 6\n",
      "6 x 2 = 12\n",
      "6 x 3 = 18\n",
      "6 x 4 = 24\n",
      "6 x 5 = 30\n",
      "구구단 9 단을 출력합니다.\n",
      "7 x 1 = 7\n",
      "7 x 2 = 14\n",
      "7 x 3 = 21\n",
      "7 x 4 = 28\n",
      "7 x 5 = 35\n",
      "구구단 9 단을 출력합니다.\n",
      "8 x 1 = 8\n",
      "8 x 2 = 16\n",
      "8 x 3 = 24\n",
      "8 x 4 = 32\n",
      "8 x 5 = 40\n",
      "구구단 9 단을 출력합니다.\n",
      "9 x 1 = 9\n",
      "9 x 2 = 18\n",
      "9 x 3 = 27\n",
      "9 x 4 = 36\n",
      "9 x 5 = 45\n"
     ]
    }
   ],
   "source": [
    "printDan(9, 5)"
   ]
  },
  {
   "cell_type": "markdown",
   "metadata": {},
   "source": [
    "## DIY #1\n",
    "* 어느 학생의 과목별 점수가 다음과 같을 때,  \n",
    "\n",
    "국어 : 100 , 영어 : 65, 수학 : 75, 과학 : 80, 제2외국어 : 90  \n",
    "\n",
    "이 학생의 총점과 평균을 출력  \n"
   ]
  },
  {
   "cell_type": "code",
   "execution_count": 279,
   "metadata": {},
   "outputs": [
    {
     "name": "stdout",
     "output_type": "stream",
     "text": [
      "학생의 총점 405 \n",
      "학생의 평균 81.00\n"
     ]
    }
   ],
   "source": [
    "\n",
    "\n",
    "scores = [100, 65, 70, 80, 90]\n",
    "\n",
    "sum = 0\n",
    "for score in scores:\n",
    "    sum += score\n",
    "    \n",
    "print(\"학생의 총점 {} \\n학생의 평균 {:.2f}\".format(sum, sum/len(scores)))"
   ]
  },
  {
   "cell_type": "markdown",
   "metadata": {},
   "source": [
    "## DIY #2\n",
    "\n",
    "과목의 평가 가중치가 다음과 같고,  \n",
    "\n",
    "출석 : 10%, 과제 : 30%, 중간 : 20%, 기말 : 20%, 프로젝트 : 20%  \n",
    "  \n",
    "어느 학생의 한 학기 점수가 다음과 같을때,  \n",
    "\n",
    "출석 : 100, 과제 : 65, 중간 : 70, 기말 : 80, 프로젝트 : 90  \n",
    "\n",
    "-> 이 학생의 최종 점수는?"
   ]
  },
  {
   "cell_type": "code",
   "execution_count": 283,
   "metadata": {},
   "outputs": [
    {
     "name": "stdout",
     "output_type": "stream",
     "text": [
      "77.5\n"
     ]
    }
   ],
   "source": [
    "weight = [0.1, 0.3, 0.2, 0.2, 0.2]\n",
    "\n",
    "b = 0\n",
    "for i in range(len(scores)):\n",
    "    b += scores[i]*weight[i]\n",
    "    \n",
    "print(b)"
   ]
  },
  {
   "cell_type": "markdown",
   "metadata": {},
   "source": [
    "## while 문 \n",
    "* for문과 동일한 역할\n",
    "* 주어진 조건을 만족할 동안 반복 \n",
    "* 언제까지 반복해야할지 정확히 모를 때 유용함(조건을 True로 주고 if에서 break)\n",
    "\n"
   ]
  },
  {
   "cell_type": "code",
   "execution_count": 284,
   "metadata": {},
   "outputs": [
    {
     "name": "stdout",
     "output_type": "stream",
     "text": [
      "1\n",
      "2\n",
      "3\n",
      "4\n"
     ]
    }
   ],
   "source": [
    "a = 0 \n",
    "while a < 4:\n",
    "    a +=1\n",
    "    print(a)"
   ]
  },
  {
   "cell_type": "code",
   "execution_count": 285,
   "metadata": {},
   "outputs": [
    {
     "name": "stdout",
     "output_type": "stream",
     "text": [
      "2\n",
      "4\n",
      "a가 6이 되었어요!!\n",
      "6\n",
      "10\n"
     ]
    }
   ],
   "source": [
    "a = 0\n",
    "while True:\n",
    "    a += 2\n",
    "    if (a == 6):\n",
    "        print(\"a가 6이 되었어요!!\")\n",
    "    if (a == 8):\n",
    "        continue\n",
    "    print(a)\n",
    "    if (a == 10):\n",
    "        break;\n",
    "        "
   ]
  },
  {
   "cell_type": "markdown",
   "metadata": {},
   "source": [
    "## DIY #3\n",
    "* n 이상의 소수 m개를 리스트에 저장하여 출력하는 함수 만들기"
   ]
  },
  {
   "cell_type": "code",
   "execution_count": 332,
   "metadata": {},
   "outputs": [
    {
     "data": {
      "text/plain": [
       "False"
      ]
     },
     "execution_count": 332,
     "metadata": {},
     "output_type": "execute_result"
    }
   ],
   "source": [
    "def prime(n):\n",
    "    \n",
    "    for i in range(2, n):\n",
    "        if n % i == 0 :\n",
    "            return False\n",
    "      \n",
    "    return True\n",
    "        \n",
    "prime(6)"
   ]
  },
  {
   "cell_type": "code",
   "execution_count": 339,
   "metadata": {},
   "outputs": [],
   "source": [
    "def getprime(minnum, numofprime):\n",
    "    result = []\n",
    "    for i in range(minnum, 1000):\n",
    "        if prime(i) == True:\n",
    "            result.append(i)\n",
    "        if len(result) == numofprime:\n",
    "            print(result)\n",
    "            break\n"
   ]
  },
  {
   "cell_type": "code",
   "execution_count": 338,
   "metadata": {},
   "outputs": [
    {
     "name": "stdout",
     "output_type": "stream",
     "text": [
      "[11, 13, 17, 19, 23, 29, 31, 37, 41, 43, 47, 53, 59, 61, 67, 71, 73, 79, 83, 89, 97, 101, 103, 107, 109, 113, 127, 131, 137, 139, 149, 151, 157, 163, 167, 173, 179, 181, 191, 193, 197, 199, 211, 223, 227, 229, 233, 239, 241, 251]\n"
     ]
    }
   ],
   "source": [
    "getprime(10, 50)"
   ]
  },
  {
   "cell_type": "markdown",
   "metadata": {},
   "source": [
    "## DIY #4\n",
    "* 0부터 99까지 임의의 정수를 컴퓨터가 생각하고, 사용자가 그 수를 맞추는 게임 제작\n",
    "* 사용자는 컴퓨터가 고른 숫자를 맞출 때까지 계속 시도 \n",
    "* 정답이 사용자가 추정한 숫자보다 크면 Up 출력\n",
    "* 정답이 사용자가 추정한 숫자보다 작으면 Down 출력"
   ]
  },
  {
   "cell_type": "code",
   "execution_count": 350,
   "metadata": {},
   "outputs": [
    {
     "name": "stdout",
     "output_type": "stream",
     "text": [
      "0 ~ 100 사이의 정수를 맞춰보세요 : 10\n",
      "Down\n",
      "0 ~ 100 사이의 정수를 맞춰보세요 : 8\n",
      "Down\n",
      "0 ~ 100 사이의 정수를 맞춰보세요 : 5\n",
      "Down\n",
      "0 ~ 100 사이의 정수를 맞춰보세요 : 4\n",
      "Down\n",
      "0 ~ 100 사이의 정수를 맞춰보세요 : 3\n",
      "Down\n",
      "0 ~ 100 사이의 정수를 맞춰보세요 : 2\n",
      "Down\n",
      "0 ~ 100 사이의 정수를 맞춰보세요 : 1\n",
      "Down\n",
      "0 ~ 100 사이의 정수를 맞춰보세요 : 0\n",
      "정답\n"
     ]
    }
   ],
   "source": [
    "import random\n",
    "\n",
    "com = random.randint(0, 100)\n",
    "\n",
    "while True:\n",
    "    player = int(input(\"0 ~ 100 사이의 정수를 맞춰보세요 : \"))\n",
    "    if com > player :\n",
    "        print(\"UP\")\n",
    "    elif com < player:\n",
    "        print(\"Down\")\n",
    "    else :\n",
    "        print(\"정답\")\n",
    "        break"
   ]
  }
 ],
 "metadata": {
  "kernelspec": {
   "display_name": "Python 3",
   "language": "python",
   "name": "python3"
  },
  "language_info": {
   "codemirror_mode": {
    "name": "ipython",
    "version": 3
   },
   "file_extension": ".py",
   "mimetype": "text/x-python",
   "name": "python",
   "nbconvert_exporter": "python",
   "pygments_lexer": "ipython3",
   "version": "3.7.1"
  }
 },
 "nbformat": 4,
 "nbformat_minor": 4
}
