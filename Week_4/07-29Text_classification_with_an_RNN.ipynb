{
  "nbformat": 4,
  "nbformat_minor": 0,
  "metadata": {
    "colab": {
      "name": "2020-07-29 Text classification with an RNN.ipynb",
      "provenance": [],
      "collapsed_sections": []
    },
    "kernelspec": {
      "name": "python3",
      "display_name": "Python 3"
    },
    "accelerator": "GPU",
    "widgets": {
      "application/vnd.jupyter.widget-state+json": {
        "8f7c93d0a21e49fb836344568aa431b0": {
          "model_module": "@jupyter-widgets/controls",
          "model_name": "HBoxModel",
          "state": {
            "_view_name": "HBoxView",
            "_dom_classes": [],
            "_model_name": "HBoxModel",
            "_view_module": "@jupyter-widgets/controls",
            "_model_module_version": "1.5.0",
            "_view_count": null,
            "_view_module_version": "1.5.0",
            "box_style": "",
            "layout": "IPY_MODEL_5fdf55bda5b847478b5bdf9c4dcf7567",
            "_model_module": "@jupyter-widgets/controls",
            "children": [
              "IPY_MODEL_1a7ef1e210f04d618c59ef9caccaeac9",
              "IPY_MODEL_988caa09b8d145a99d52fef08d43771f"
            ]
          }
        },
        "5fdf55bda5b847478b5bdf9c4dcf7567": {
          "model_module": "@jupyter-widgets/base",
          "model_name": "LayoutModel",
          "state": {
            "_view_name": "LayoutView",
            "grid_template_rows": null,
            "right": null,
            "justify_content": null,
            "_view_module": "@jupyter-widgets/base",
            "overflow": null,
            "_model_module_version": "1.2.0",
            "_view_count": null,
            "flex_flow": null,
            "width": null,
            "min_width": null,
            "border": null,
            "align_items": null,
            "bottom": null,
            "_model_module": "@jupyter-widgets/base",
            "top": null,
            "grid_column": null,
            "overflow_y": null,
            "overflow_x": null,
            "grid_auto_flow": null,
            "grid_area": null,
            "grid_template_columns": null,
            "flex": null,
            "_model_name": "LayoutModel",
            "justify_items": null,
            "grid_row": null,
            "max_height": null,
            "align_content": null,
            "visibility": null,
            "align_self": null,
            "height": null,
            "min_height": null,
            "padding": null,
            "grid_auto_rows": null,
            "grid_gap": null,
            "max_width": null,
            "order": null,
            "_view_module_version": "1.2.0",
            "grid_template_areas": null,
            "object_position": null,
            "object_fit": null,
            "grid_auto_columns": null,
            "margin": null,
            "display": null,
            "left": null
          }
        },
        "1a7ef1e210f04d618c59ef9caccaeac9": {
          "model_module": "@jupyter-widgets/controls",
          "model_name": "FloatProgressModel",
          "state": {
            "_view_name": "ProgressView",
            "style": "IPY_MODEL_7a60993667bb45dfb5eb78422c1e6c90",
            "_dom_classes": [],
            "description": "Dl Completed...: 100%",
            "_model_name": "FloatProgressModel",
            "bar_style": "success",
            "max": 1,
            "_view_module": "@jupyter-widgets/controls",
            "_model_module_version": "1.5.0",
            "value": 1,
            "_view_count": null,
            "_view_module_version": "1.5.0",
            "orientation": "horizontal",
            "min": 0,
            "description_tooltip": null,
            "_model_module": "@jupyter-widgets/controls",
            "layout": "IPY_MODEL_2f79d1d3b3e94a9cb9e7a1a2f779789b"
          }
        },
        "988caa09b8d145a99d52fef08d43771f": {
          "model_module": "@jupyter-widgets/controls",
          "model_name": "HTMLModel",
          "state": {
            "_view_name": "HTMLView",
            "style": "IPY_MODEL_0fcd8295d1d144c389d1c67b92ac7b9e",
            "_dom_classes": [],
            "description": "",
            "_model_name": "HTMLModel",
            "placeholder": "​",
            "_view_module": "@jupyter-widgets/controls",
            "_model_module_version": "1.5.0",
            "value": " 1/1 [00:03&lt;00:00,  3.99s/ url]",
            "_view_count": null,
            "_view_module_version": "1.5.0",
            "description_tooltip": null,
            "_model_module": "@jupyter-widgets/controls",
            "layout": "IPY_MODEL_90bc56d19a5b4e0c8724e1b0a3b8144f"
          }
        },
        "7a60993667bb45dfb5eb78422c1e6c90": {
          "model_module": "@jupyter-widgets/controls",
          "model_name": "ProgressStyleModel",
          "state": {
            "_view_name": "StyleView",
            "_model_name": "ProgressStyleModel",
            "description_width": "initial",
            "_view_module": "@jupyter-widgets/base",
            "_model_module_version": "1.5.0",
            "_view_count": null,
            "_view_module_version": "1.2.0",
            "bar_color": null,
            "_model_module": "@jupyter-widgets/controls"
          }
        },
        "2f79d1d3b3e94a9cb9e7a1a2f779789b": {
          "model_module": "@jupyter-widgets/base",
          "model_name": "LayoutModel",
          "state": {
            "_view_name": "LayoutView",
            "grid_template_rows": null,
            "right": null,
            "justify_content": null,
            "_view_module": "@jupyter-widgets/base",
            "overflow": null,
            "_model_module_version": "1.2.0",
            "_view_count": null,
            "flex_flow": null,
            "width": null,
            "min_width": null,
            "border": null,
            "align_items": null,
            "bottom": null,
            "_model_module": "@jupyter-widgets/base",
            "top": null,
            "grid_column": null,
            "overflow_y": null,
            "overflow_x": null,
            "grid_auto_flow": null,
            "grid_area": null,
            "grid_template_columns": null,
            "flex": null,
            "_model_name": "LayoutModel",
            "justify_items": null,
            "grid_row": null,
            "max_height": null,
            "align_content": null,
            "visibility": null,
            "align_self": null,
            "height": null,
            "min_height": null,
            "padding": null,
            "grid_auto_rows": null,
            "grid_gap": null,
            "max_width": null,
            "order": null,
            "_view_module_version": "1.2.0",
            "grid_template_areas": null,
            "object_position": null,
            "object_fit": null,
            "grid_auto_columns": null,
            "margin": null,
            "display": null,
            "left": null
          }
        },
        "0fcd8295d1d144c389d1c67b92ac7b9e": {
          "model_module": "@jupyter-widgets/controls",
          "model_name": "DescriptionStyleModel",
          "state": {
            "_view_name": "StyleView",
            "_model_name": "DescriptionStyleModel",
            "description_width": "",
            "_view_module": "@jupyter-widgets/base",
            "_model_module_version": "1.5.0",
            "_view_count": null,
            "_view_module_version": "1.2.0",
            "_model_module": "@jupyter-widgets/controls"
          }
        },
        "90bc56d19a5b4e0c8724e1b0a3b8144f": {
          "model_module": "@jupyter-widgets/base",
          "model_name": "LayoutModel",
          "state": {
            "_view_name": "LayoutView",
            "grid_template_rows": null,
            "right": null,
            "justify_content": null,
            "_view_module": "@jupyter-widgets/base",
            "overflow": null,
            "_model_module_version": "1.2.0",
            "_view_count": null,
            "flex_flow": null,
            "width": null,
            "min_width": null,
            "border": null,
            "align_items": null,
            "bottom": null,
            "_model_module": "@jupyter-widgets/base",
            "top": null,
            "grid_column": null,
            "overflow_y": null,
            "overflow_x": null,
            "grid_auto_flow": null,
            "grid_area": null,
            "grid_template_columns": null,
            "flex": null,
            "_model_name": "LayoutModel",
            "justify_items": null,
            "grid_row": null,
            "max_height": null,
            "align_content": null,
            "visibility": null,
            "align_self": null,
            "height": null,
            "min_height": null,
            "padding": null,
            "grid_auto_rows": null,
            "grid_gap": null,
            "max_width": null,
            "order": null,
            "_view_module_version": "1.2.0",
            "grid_template_areas": null,
            "object_position": null,
            "object_fit": null,
            "grid_auto_columns": null,
            "margin": null,
            "display": null,
            "left": null
          }
        },
        "0970064472d048c6804eeaf64cd644e9": {
          "model_module": "@jupyter-widgets/controls",
          "model_name": "HBoxModel",
          "state": {
            "_view_name": "HBoxView",
            "_dom_classes": [],
            "_model_name": "HBoxModel",
            "_view_module": "@jupyter-widgets/controls",
            "_model_module_version": "1.5.0",
            "_view_count": null,
            "_view_module_version": "1.5.0",
            "box_style": "",
            "layout": "IPY_MODEL_a28d3b46585442eba20b15960c161cc6",
            "_model_module": "@jupyter-widgets/controls",
            "children": [
              "IPY_MODEL_b18975a57df449e38442d2d58031fd7c",
              "IPY_MODEL_1e7379a00c0442aaa82d1af7f131936d"
            ]
          }
        },
        "a28d3b46585442eba20b15960c161cc6": {
          "model_module": "@jupyter-widgets/base",
          "model_name": "LayoutModel",
          "state": {
            "_view_name": "LayoutView",
            "grid_template_rows": null,
            "right": null,
            "justify_content": null,
            "_view_module": "@jupyter-widgets/base",
            "overflow": null,
            "_model_module_version": "1.2.0",
            "_view_count": null,
            "flex_flow": null,
            "width": null,
            "min_width": null,
            "border": null,
            "align_items": null,
            "bottom": null,
            "_model_module": "@jupyter-widgets/base",
            "top": null,
            "grid_column": null,
            "overflow_y": null,
            "overflow_x": null,
            "grid_auto_flow": null,
            "grid_area": null,
            "grid_template_columns": null,
            "flex": null,
            "_model_name": "LayoutModel",
            "justify_items": null,
            "grid_row": null,
            "max_height": null,
            "align_content": null,
            "visibility": null,
            "align_self": null,
            "height": null,
            "min_height": null,
            "padding": null,
            "grid_auto_rows": null,
            "grid_gap": null,
            "max_width": null,
            "order": null,
            "_view_module_version": "1.2.0",
            "grid_template_areas": null,
            "object_position": null,
            "object_fit": null,
            "grid_auto_columns": null,
            "margin": null,
            "display": null,
            "left": null
          }
        },
        "b18975a57df449e38442d2d58031fd7c": {
          "model_module": "@jupyter-widgets/controls",
          "model_name": "FloatProgressModel",
          "state": {
            "_view_name": "ProgressView",
            "style": "IPY_MODEL_e65ae24f716c4d7aad5b47d3646de2c9",
            "_dom_classes": [],
            "description": "Dl Size...: 100%",
            "_model_name": "FloatProgressModel",
            "bar_style": "success",
            "max": 1,
            "_view_module": "@jupyter-widgets/controls",
            "_model_module_version": "1.5.0",
            "value": 1,
            "_view_count": null,
            "_view_module_version": "1.5.0",
            "orientation": "horizontal",
            "min": 0,
            "description_tooltip": null,
            "_model_module": "@jupyter-widgets/controls",
            "layout": "IPY_MODEL_3750f86c6fbf492ca7847822d6371feb"
          }
        },
        "1e7379a00c0442aaa82d1af7f131936d": {
          "model_module": "@jupyter-widgets/controls",
          "model_name": "HTMLModel",
          "state": {
            "_view_name": "HTMLView",
            "style": "IPY_MODEL_6e9310b599ab46ee8ce1d9db5cd05b2f",
            "_dom_classes": [],
            "description": "",
            "_model_name": "HTMLModel",
            "placeholder": "​",
            "_view_module": "@jupyter-widgets/controls",
            "_model_module_version": "1.5.0",
            "value": " 80/80 [00:03&lt;00:00, 20.17 MiB/s]",
            "_view_count": null,
            "_view_module_version": "1.5.0",
            "description_tooltip": null,
            "_model_module": "@jupyter-widgets/controls",
            "layout": "IPY_MODEL_40505cc99f71455b9ab996c577a29cc9"
          }
        },
        "e65ae24f716c4d7aad5b47d3646de2c9": {
          "model_module": "@jupyter-widgets/controls",
          "model_name": "ProgressStyleModel",
          "state": {
            "_view_name": "StyleView",
            "_model_name": "ProgressStyleModel",
            "description_width": "initial",
            "_view_module": "@jupyter-widgets/base",
            "_model_module_version": "1.5.0",
            "_view_count": null,
            "_view_module_version": "1.2.0",
            "bar_color": null,
            "_model_module": "@jupyter-widgets/controls"
          }
        },
        "3750f86c6fbf492ca7847822d6371feb": {
          "model_module": "@jupyter-widgets/base",
          "model_name": "LayoutModel",
          "state": {
            "_view_name": "LayoutView",
            "grid_template_rows": null,
            "right": null,
            "justify_content": null,
            "_view_module": "@jupyter-widgets/base",
            "overflow": null,
            "_model_module_version": "1.2.0",
            "_view_count": null,
            "flex_flow": null,
            "width": null,
            "min_width": null,
            "border": null,
            "align_items": null,
            "bottom": null,
            "_model_module": "@jupyter-widgets/base",
            "top": null,
            "grid_column": null,
            "overflow_y": null,
            "overflow_x": null,
            "grid_auto_flow": null,
            "grid_area": null,
            "grid_template_columns": null,
            "flex": null,
            "_model_name": "LayoutModel",
            "justify_items": null,
            "grid_row": null,
            "max_height": null,
            "align_content": null,
            "visibility": null,
            "align_self": null,
            "height": null,
            "min_height": null,
            "padding": null,
            "grid_auto_rows": null,
            "grid_gap": null,
            "max_width": null,
            "order": null,
            "_view_module_version": "1.2.0",
            "grid_template_areas": null,
            "object_position": null,
            "object_fit": null,
            "grid_auto_columns": null,
            "margin": null,
            "display": null,
            "left": null
          }
        },
        "6e9310b599ab46ee8ce1d9db5cd05b2f": {
          "model_module": "@jupyter-widgets/controls",
          "model_name": "DescriptionStyleModel",
          "state": {
            "_view_name": "StyleView",
            "_model_name": "DescriptionStyleModel",
            "description_width": "",
            "_view_module": "@jupyter-widgets/base",
            "_model_module_version": "1.5.0",
            "_view_count": null,
            "_view_module_version": "1.2.0",
            "_model_module": "@jupyter-widgets/controls"
          }
        },
        "40505cc99f71455b9ab996c577a29cc9": {
          "model_module": "@jupyter-widgets/base",
          "model_name": "LayoutModel",
          "state": {
            "_view_name": "LayoutView",
            "grid_template_rows": null,
            "right": null,
            "justify_content": null,
            "_view_module": "@jupyter-widgets/base",
            "overflow": null,
            "_model_module_version": "1.2.0",
            "_view_count": null,
            "flex_flow": null,
            "width": null,
            "min_width": null,
            "border": null,
            "align_items": null,
            "bottom": null,
            "_model_module": "@jupyter-widgets/base",
            "top": null,
            "grid_column": null,
            "overflow_y": null,
            "overflow_x": null,
            "grid_auto_flow": null,
            "grid_area": null,
            "grid_template_columns": null,
            "flex": null,
            "_model_name": "LayoutModel",
            "justify_items": null,
            "grid_row": null,
            "max_height": null,
            "align_content": null,
            "visibility": null,
            "align_self": null,
            "height": null,
            "min_height": null,
            "padding": null,
            "grid_auto_rows": null,
            "grid_gap": null,
            "max_width": null,
            "order": null,
            "_view_module_version": "1.2.0",
            "grid_template_areas": null,
            "object_position": null,
            "object_fit": null,
            "grid_auto_columns": null,
            "margin": null,
            "display": null,
            "left": null
          }
        },
        "cb08d71cff974beba5185efe7e22ec52": {
          "model_module": "@jupyter-widgets/controls",
          "model_name": "HBoxModel",
          "state": {
            "_view_name": "HBoxView",
            "_dom_classes": [],
            "_model_name": "HBoxModel",
            "_view_module": "@jupyter-widgets/controls",
            "_model_module_version": "1.5.0",
            "_view_count": null,
            "_view_module_version": "1.5.0",
            "box_style": "",
            "layout": "IPY_MODEL_12fea7bad81c423c92a523b1d9f21b50",
            "_model_module": "@jupyter-widgets/controls",
            "children": [
              "IPY_MODEL_4353ea1eeb324e26a21034cad27f553a",
              "IPY_MODEL_f1afc0680a874a8e949d0c6182091606"
            ]
          }
        },
        "12fea7bad81c423c92a523b1d9f21b50": {
          "model_module": "@jupyter-widgets/base",
          "model_name": "LayoutModel",
          "state": {
            "_view_name": "LayoutView",
            "grid_template_rows": null,
            "right": null,
            "justify_content": null,
            "_view_module": "@jupyter-widgets/base",
            "overflow": null,
            "_model_module_version": "1.2.0",
            "_view_count": null,
            "flex_flow": null,
            "width": null,
            "min_width": null,
            "border": null,
            "align_items": null,
            "bottom": null,
            "_model_module": "@jupyter-widgets/base",
            "top": null,
            "grid_column": null,
            "overflow_y": null,
            "overflow_x": null,
            "grid_auto_flow": null,
            "grid_area": null,
            "grid_template_columns": null,
            "flex": null,
            "_model_name": "LayoutModel",
            "justify_items": null,
            "grid_row": null,
            "max_height": null,
            "align_content": null,
            "visibility": null,
            "align_self": null,
            "height": null,
            "min_height": null,
            "padding": null,
            "grid_auto_rows": null,
            "grid_gap": null,
            "max_width": null,
            "order": null,
            "_view_module_version": "1.2.0",
            "grid_template_areas": null,
            "object_position": null,
            "object_fit": null,
            "grid_auto_columns": null,
            "margin": null,
            "display": null,
            "left": null
          }
        },
        "4353ea1eeb324e26a21034cad27f553a": {
          "model_module": "@jupyter-widgets/controls",
          "model_name": "FloatProgressModel",
          "state": {
            "_view_name": "ProgressView",
            "style": "IPY_MODEL_c985d5d8f649439fa3f730cbaa3269e4",
            "_dom_classes": [],
            "description": "",
            "_model_name": "FloatProgressModel",
            "bar_style": "info",
            "max": 1,
            "_view_module": "@jupyter-widgets/controls",
            "_model_module_version": "1.5.0",
            "value": 1,
            "_view_count": null,
            "_view_module_version": "1.5.0",
            "orientation": "horizontal",
            "min": 0,
            "description_tooltip": null,
            "_model_module": "@jupyter-widgets/controls",
            "layout": "IPY_MODEL_6a6c7d49860f4abe9c2d2a43485cb897"
          }
        },
        "f1afc0680a874a8e949d0c6182091606": {
          "model_module": "@jupyter-widgets/controls",
          "model_name": "HTMLModel",
          "state": {
            "_view_name": "HTMLView",
            "style": "IPY_MODEL_04dde915a3db463992cc08f4f3cf7ec2",
            "_dom_classes": [],
            "description": "",
            "_model_name": "HTMLModel",
            "placeholder": "​",
            "_view_module": "@jupyter-widgets/controls",
            "_model_module_version": "1.5.0",
            "value": " 25000/0 [00:28&lt;00:00, 1093.15 examples/s]",
            "_view_count": null,
            "_view_module_version": "1.5.0",
            "description_tooltip": null,
            "_model_module": "@jupyter-widgets/controls",
            "layout": "IPY_MODEL_e0ab30fa9a4b4ea288a6c847a7ed52a5"
          }
        },
        "c985d5d8f649439fa3f730cbaa3269e4": {
          "model_module": "@jupyter-widgets/controls",
          "model_name": "ProgressStyleModel",
          "state": {
            "_view_name": "StyleView",
            "_model_name": "ProgressStyleModel",
            "description_width": "initial",
            "_view_module": "@jupyter-widgets/base",
            "_model_module_version": "1.5.0",
            "_view_count": null,
            "_view_module_version": "1.2.0",
            "bar_color": null,
            "_model_module": "@jupyter-widgets/controls"
          }
        },
        "6a6c7d49860f4abe9c2d2a43485cb897": {
          "model_module": "@jupyter-widgets/base",
          "model_name": "LayoutModel",
          "state": {
            "_view_name": "LayoutView",
            "grid_template_rows": null,
            "right": null,
            "justify_content": null,
            "_view_module": "@jupyter-widgets/base",
            "overflow": null,
            "_model_module_version": "1.2.0",
            "_view_count": null,
            "flex_flow": null,
            "width": null,
            "min_width": null,
            "border": null,
            "align_items": null,
            "bottom": null,
            "_model_module": "@jupyter-widgets/base",
            "top": null,
            "grid_column": null,
            "overflow_y": null,
            "overflow_x": null,
            "grid_auto_flow": null,
            "grid_area": null,
            "grid_template_columns": null,
            "flex": null,
            "_model_name": "LayoutModel",
            "justify_items": null,
            "grid_row": null,
            "max_height": null,
            "align_content": null,
            "visibility": null,
            "align_self": null,
            "height": null,
            "min_height": null,
            "padding": null,
            "grid_auto_rows": null,
            "grid_gap": null,
            "max_width": null,
            "order": null,
            "_view_module_version": "1.2.0",
            "grid_template_areas": null,
            "object_position": null,
            "object_fit": null,
            "grid_auto_columns": null,
            "margin": null,
            "display": null,
            "left": null
          }
        },
        "04dde915a3db463992cc08f4f3cf7ec2": {
          "model_module": "@jupyter-widgets/controls",
          "model_name": "DescriptionStyleModel",
          "state": {
            "_view_name": "StyleView",
            "_model_name": "DescriptionStyleModel",
            "description_width": "",
            "_view_module": "@jupyter-widgets/base",
            "_model_module_version": "1.5.0",
            "_view_count": null,
            "_view_module_version": "1.2.0",
            "_model_module": "@jupyter-widgets/controls"
          }
        },
        "e0ab30fa9a4b4ea288a6c847a7ed52a5": {
          "model_module": "@jupyter-widgets/base",
          "model_name": "LayoutModel",
          "state": {
            "_view_name": "LayoutView",
            "grid_template_rows": null,
            "right": null,
            "justify_content": null,
            "_view_module": "@jupyter-widgets/base",
            "overflow": null,
            "_model_module_version": "1.2.0",
            "_view_count": null,
            "flex_flow": null,
            "width": null,
            "min_width": null,
            "border": null,
            "align_items": null,
            "bottom": null,
            "_model_module": "@jupyter-widgets/base",
            "top": null,
            "grid_column": null,
            "overflow_y": null,
            "overflow_x": null,
            "grid_auto_flow": null,
            "grid_area": null,
            "grid_template_columns": null,
            "flex": null,
            "_model_name": "LayoutModel",
            "justify_items": null,
            "grid_row": null,
            "max_height": null,
            "align_content": null,
            "visibility": null,
            "align_self": null,
            "height": null,
            "min_height": null,
            "padding": null,
            "grid_auto_rows": null,
            "grid_gap": null,
            "max_width": null,
            "order": null,
            "_view_module_version": "1.2.0",
            "grid_template_areas": null,
            "object_position": null,
            "object_fit": null,
            "grid_auto_columns": null,
            "margin": null,
            "display": null,
            "left": null
          }
        },
        "97ff15730d2340a89022bf4f527bba08": {
          "model_module": "@jupyter-widgets/controls",
          "model_name": "HBoxModel",
          "state": {
            "_view_name": "HBoxView",
            "_dom_classes": [],
            "_model_name": "HBoxModel",
            "_view_module": "@jupyter-widgets/controls",
            "_model_module_version": "1.5.0",
            "_view_count": null,
            "_view_module_version": "1.5.0",
            "box_style": "",
            "layout": "IPY_MODEL_e366c7b71c804fcfbf1ca3396e1b7c08",
            "_model_module": "@jupyter-widgets/controls",
            "children": [
              "IPY_MODEL_fc9dda23dc51464680c52a23f4992948",
              "IPY_MODEL_866b30b53e4a4e689f794576393b6971"
            ]
          }
        },
        "e366c7b71c804fcfbf1ca3396e1b7c08": {
          "model_module": "@jupyter-widgets/base",
          "model_name": "LayoutModel",
          "state": {
            "_view_name": "LayoutView",
            "grid_template_rows": null,
            "right": null,
            "justify_content": null,
            "_view_module": "@jupyter-widgets/base",
            "overflow": null,
            "_model_module_version": "1.2.0",
            "_view_count": null,
            "flex_flow": null,
            "width": null,
            "min_width": null,
            "border": null,
            "align_items": null,
            "bottom": null,
            "_model_module": "@jupyter-widgets/base",
            "top": null,
            "grid_column": null,
            "overflow_y": null,
            "overflow_x": null,
            "grid_auto_flow": null,
            "grid_area": null,
            "grid_template_columns": null,
            "flex": null,
            "_model_name": "LayoutModel",
            "justify_items": null,
            "grid_row": null,
            "max_height": null,
            "align_content": null,
            "visibility": null,
            "align_self": null,
            "height": null,
            "min_height": null,
            "padding": null,
            "grid_auto_rows": null,
            "grid_gap": null,
            "max_width": null,
            "order": null,
            "_view_module_version": "1.2.0",
            "grid_template_areas": null,
            "object_position": null,
            "object_fit": null,
            "grid_auto_columns": null,
            "margin": null,
            "display": null,
            "left": null
          }
        },
        "fc9dda23dc51464680c52a23f4992948": {
          "model_module": "@jupyter-widgets/controls",
          "model_name": "FloatProgressModel",
          "state": {
            "_view_name": "ProgressView",
            "style": "IPY_MODEL_513cd8d2e1354b059eb4dda5b7f055e2",
            "_dom_classes": [],
            "description": " 85%",
            "_model_name": "FloatProgressModel",
            "bar_style": "danger",
            "max": 25000,
            "_view_module": "@jupyter-widgets/controls",
            "_model_module_version": "1.5.0",
            "value": 21254,
            "_view_count": null,
            "_view_module_version": "1.5.0",
            "orientation": "horizontal",
            "min": 0,
            "description_tooltip": null,
            "_model_module": "@jupyter-widgets/controls",
            "layout": "IPY_MODEL_0fb8d20c4bda40a68c71cec086d795e9"
          }
        },
        "866b30b53e4a4e689f794576393b6971": {
          "model_module": "@jupyter-widgets/controls",
          "model_name": "HTMLModel",
          "state": {
            "_view_name": "HTMLView",
            "style": "IPY_MODEL_26f9ee7001b941eda561d4c472bfd450",
            "_dom_classes": [],
            "description": "",
            "_model_name": "HTMLModel",
            "placeholder": "​",
            "_view_module": "@jupyter-widgets/controls",
            "_model_module_version": "1.5.0",
            "value": " 21254/25000 [00:00&lt;00:00, 212539.19 examples/s]",
            "_view_count": null,
            "_view_module_version": "1.5.0",
            "description_tooltip": null,
            "_model_module": "@jupyter-widgets/controls",
            "layout": "IPY_MODEL_92402f851beb448fbe41a95d45835049"
          }
        },
        "513cd8d2e1354b059eb4dda5b7f055e2": {
          "model_module": "@jupyter-widgets/controls",
          "model_name": "ProgressStyleModel",
          "state": {
            "_view_name": "StyleView",
            "_model_name": "ProgressStyleModel",
            "description_width": "initial",
            "_view_module": "@jupyter-widgets/base",
            "_model_module_version": "1.5.0",
            "_view_count": null,
            "_view_module_version": "1.2.0",
            "bar_color": null,
            "_model_module": "@jupyter-widgets/controls"
          }
        },
        "0fb8d20c4bda40a68c71cec086d795e9": {
          "model_module": "@jupyter-widgets/base",
          "model_name": "LayoutModel",
          "state": {
            "_view_name": "LayoutView",
            "grid_template_rows": null,
            "right": null,
            "justify_content": null,
            "_view_module": "@jupyter-widgets/base",
            "overflow": null,
            "_model_module_version": "1.2.0",
            "_view_count": null,
            "flex_flow": null,
            "width": null,
            "min_width": null,
            "border": null,
            "align_items": null,
            "bottom": null,
            "_model_module": "@jupyter-widgets/base",
            "top": null,
            "grid_column": null,
            "overflow_y": null,
            "overflow_x": null,
            "grid_auto_flow": null,
            "grid_area": null,
            "grid_template_columns": null,
            "flex": null,
            "_model_name": "LayoutModel",
            "justify_items": null,
            "grid_row": null,
            "max_height": null,
            "align_content": null,
            "visibility": null,
            "align_self": null,
            "height": null,
            "min_height": null,
            "padding": null,
            "grid_auto_rows": null,
            "grid_gap": null,
            "max_width": null,
            "order": null,
            "_view_module_version": "1.2.0",
            "grid_template_areas": null,
            "object_position": null,
            "object_fit": null,
            "grid_auto_columns": null,
            "margin": null,
            "display": null,
            "left": null
          }
        },
        "26f9ee7001b941eda561d4c472bfd450": {
          "model_module": "@jupyter-widgets/controls",
          "model_name": "DescriptionStyleModel",
          "state": {
            "_view_name": "StyleView",
            "_model_name": "DescriptionStyleModel",
            "description_width": "",
            "_view_module": "@jupyter-widgets/base",
            "_model_module_version": "1.5.0",
            "_view_count": null,
            "_view_module_version": "1.2.0",
            "_model_module": "@jupyter-widgets/controls"
          }
        },
        "92402f851beb448fbe41a95d45835049": {
          "model_module": "@jupyter-widgets/base",
          "model_name": "LayoutModel",
          "state": {
            "_view_name": "LayoutView",
            "grid_template_rows": null,
            "right": null,
            "justify_content": null,
            "_view_module": "@jupyter-widgets/base",
            "overflow": null,
            "_model_module_version": "1.2.0",
            "_view_count": null,
            "flex_flow": null,
            "width": null,
            "min_width": null,
            "border": null,
            "align_items": null,
            "bottom": null,
            "_model_module": "@jupyter-widgets/base",
            "top": null,
            "grid_column": null,
            "overflow_y": null,
            "overflow_x": null,
            "grid_auto_flow": null,
            "grid_area": null,
            "grid_template_columns": null,
            "flex": null,
            "_model_name": "LayoutModel",
            "justify_items": null,
            "grid_row": null,
            "max_height": null,
            "align_content": null,
            "visibility": null,
            "align_self": null,
            "height": null,
            "min_height": null,
            "padding": null,
            "grid_auto_rows": null,
            "grid_gap": null,
            "max_width": null,
            "order": null,
            "_view_module_version": "1.2.0",
            "grid_template_areas": null,
            "object_position": null,
            "object_fit": null,
            "grid_auto_columns": null,
            "margin": null,
            "display": null,
            "left": null
          }
        },
        "69f40734172d4245b9e63083d6170e4e": {
          "model_module": "@jupyter-widgets/controls",
          "model_name": "HBoxModel",
          "state": {
            "_view_name": "HBoxView",
            "_dom_classes": [],
            "_model_name": "HBoxModel",
            "_view_module": "@jupyter-widgets/controls",
            "_model_module_version": "1.5.0",
            "_view_count": null,
            "_view_module_version": "1.5.0",
            "box_style": "",
            "layout": "IPY_MODEL_e77067fdc5f3447599063122b3a3b7fb",
            "_model_module": "@jupyter-widgets/controls",
            "children": [
              "IPY_MODEL_77fbc2d3990c44b38c61f426a054e734",
              "IPY_MODEL_4d95f04677b14cbba57f3facd871efe0"
            ]
          }
        },
        "e77067fdc5f3447599063122b3a3b7fb": {
          "model_module": "@jupyter-widgets/base",
          "model_name": "LayoutModel",
          "state": {
            "_view_name": "LayoutView",
            "grid_template_rows": null,
            "right": null,
            "justify_content": null,
            "_view_module": "@jupyter-widgets/base",
            "overflow": null,
            "_model_module_version": "1.2.0",
            "_view_count": null,
            "flex_flow": null,
            "width": null,
            "min_width": null,
            "border": null,
            "align_items": null,
            "bottom": null,
            "_model_module": "@jupyter-widgets/base",
            "top": null,
            "grid_column": null,
            "overflow_y": null,
            "overflow_x": null,
            "grid_auto_flow": null,
            "grid_area": null,
            "grid_template_columns": null,
            "flex": null,
            "_model_name": "LayoutModel",
            "justify_items": null,
            "grid_row": null,
            "max_height": null,
            "align_content": null,
            "visibility": null,
            "align_self": null,
            "height": null,
            "min_height": null,
            "padding": null,
            "grid_auto_rows": null,
            "grid_gap": null,
            "max_width": null,
            "order": null,
            "_view_module_version": "1.2.0",
            "grid_template_areas": null,
            "object_position": null,
            "object_fit": null,
            "grid_auto_columns": null,
            "margin": null,
            "display": null,
            "left": null
          }
        },
        "77fbc2d3990c44b38c61f426a054e734": {
          "model_module": "@jupyter-widgets/controls",
          "model_name": "FloatProgressModel",
          "state": {
            "_view_name": "ProgressView",
            "style": "IPY_MODEL_a3655e68b5da4c00b29e8d513e57b4bd",
            "_dom_classes": [],
            "description": "",
            "_model_name": "FloatProgressModel",
            "bar_style": "info",
            "max": 1,
            "_view_module": "@jupyter-widgets/controls",
            "_model_module_version": "1.5.0",
            "value": 1,
            "_view_count": null,
            "_view_module_version": "1.5.0",
            "orientation": "horizontal",
            "min": 0,
            "description_tooltip": null,
            "_model_module": "@jupyter-widgets/controls",
            "layout": "IPY_MODEL_2667b2e3e8d74ed8b5336f61dc522e30"
          }
        },
        "4d95f04677b14cbba57f3facd871efe0": {
          "model_module": "@jupyter-widgets/controls",
          "model_name": "HTMLModel",
          "state": {
            "_view_name": "HTMLView",
            "style": "IPY_MODEL_6dfa4337c7974ee7be52cb3b4559eb12",
            "_dom_classes": [],
            "description": "",
            "_model_name": "HTMLModel",
            "placeholder": "​",
            "_view_module": "@jupyter-widgets/controls",
            "_model_module_version": "1.5.0",
            "value": " 25000/0 [00:27&lt;00:00, 1158.98 examples/s]",
            "_view_count": null,
            "_view_module_version": "1.5.0",
            "description_tooltip": null,
            "_model_module": "@jupyter-widgets/controls",
            "layout": "IPY_MODEL_ce6b0d28fe35483e85d7e4746b011eed"
          }
        },
        "a3655e68b5da4c00b29e8d513e57b4bd": {
          "model_module": "@jupyter-widgets/controls",
          "model_name": "ProgressStyleModel",
          "state": {
            "_view_name": "StyleView",
            "_model_name": "ProgressStyleModel",
            "description_width": "initial",
            "_view_module": "@jupyter-widgets/base",
            "_model_module_version": "1.5.0",
            "_view_count": null,
            "_view_module_version": "1.2.0",
            "bar_color": null,
            "_model_module": "@jupyter-widgets/controls"
          }
        },
        "2667b2e3e8d74ed8b5336f61dc522e30": {
          "model_module": "@jupyter-widgets/base",
          "model_name": "LayoutModel",
          "state": {
            "_view_name": "LayoutView",
            "grid_template_rows": null,
            "right": null,
            "justify_content": null,
            "_view_module": "@jupyter-widgets/base",
            "overflow": null,
            "_model_module_version": "1.2.0",
            "_view_count": null,
            "flex_flow": null,
            "width": null,
            "min_width": null,
            "border": null,
            "align_items": null,
            "bottom": null,
            "_model_module": "@jupyter-widgets/base",
            "top": null,
            "grid_column": null,
            "overflow_y": null,
            "overflow_x": null,
            "grid_auto_flow": null,
            "grid_area": null,
            "grid_template_columns": null,
            "flex": null,
            "_model_name": "LayoutModel",
            "justify_items": null,
            "grid_row": null,
            "max_height": null,
            "align_content": null,
            "visibility": null,
            "align_self": null,
            "height": null,
            "min_height": null,
            "padding": null,
            "grid_auto_rows": null,
            "grid_gap": null,
            "max_width": null,
            "order": null,
            "_view_module_version": "1.2.0",
            "grid_template_areas": null,
            "object_position": null,
            "object_fit": null,
            "grid_auto_columns": null,
            "margin": null,
            "display": null,
            "left": null
          }
        },
        "6dfa4337c7974ee7be52cb3b4559eb12": {
          "model_module": "@jupyter-widgets/controls",
          "model_name": "DescriptionStyleModel",
          "state": {
            "_view_name": "StyleView",
            "_model_name": "DescriptionStyleModel",
            "description_width": "",
            "_view_module": "@jupyter-widgets/base",
            "_model_module_version": "1.5.0",
            "_view_count": null,
            "_view_module_version": "1.2.0",
            "_model_module": "@jupyter-widgets/controls"
          }
        },
        "ce6b0d28fe35483e85d7e4746b011eed": {
          "model_module": "@jupyter-widgets/base",
          "model_name": "LayoutModel",
          "state": {
            "_view_name": "LayoutView",
            "grid_template_rows": null,
            "right": null,
            "justify_content": null,
            "_view_module": "@jupyter-widgets/base",
            "overflow": null,
            "_model_module_version": "1.2.0",
            "_view_count": null,
            "flex_flow": null,
            "width": null,
            "min_width": null,
            "border": null,
            "align_items": null,
            "bottom": null,
            "_model_module": "@jupyter-widgets/base",
            "top": null,
            "grid_column": null,
            "overflow_y": null,
            "overflow_x": null,
            "grid_auto_flow": null,
            "grid_area": null,
            "grid_template_columns": null,
            "flex": null,
            "_model_name": "LayoutModel",
            "justify_items": null,
            "grid_row": null,
            "max_height": null,
            "align_content": null,
            "visibility": null,
            "align_self": null,
            "height": null,
            "min_height": null,
            "padding": null,
            "grid_auto_rows": null,
            "grid_gap": null,
            "max_width": null,
            "order": null,
            "_view_module_version": "1.2.0",
            "grid_template_areas": null,
            "object_position": null,
            "object_fit": null,
            "grid_auto_columns": null,
            "margin": null,
            "display": null,
            "left": null
          }
        },
        "eb8ff8c2fb1049f9a964557ce1088612": {
          "model_module": "@jupyter-widgets/controls",
          "model_name": "HBoxModel",
          "state": {
            "_view_name": "HBoxView",
            "_dom_classes": [],
            "_model_name": "HBoxModel",
            "_view_module": "@jupyter-widgets/controls",
            "_model_module_version": "1.5.0",
            "_view_count": null,
            "_view_module_version": "1.5.0",
            "box_style": "",
            "layout": "IPY_MODEL_fd5253f1d5984f6a9fe71ee4120ed087",
            "_model_module": "@jupyter-widgets/controls",
            "children": [
              "IPY_MODEL_1207887692b043bc96380ae29f5eacaa",
              "IPY_MODEL_584f5e136dd34017b2c1b27dc5ddd945"
            ]
          }
        },
        "fd5253f1d5984f6a9fe71ee4120ed087": {
          "model_module": "@jupyter-widgets/base",
          "model_name": "LayoutModel",
          "state": {
            "_view_name": "LayoutView",
            "grid_template_rows": null,
            "right": null,
            "justify_content": null,
            "_view_module": "@jupyter-widgets/base",
            "overflow": null,
            "_model_module_version": "1.2.0",
            "_view_count": null,
            "flex_flow": null,
            "width": null,
            "min_width": null,
            "border": null,
            "align_items": null,
            "bottom": null,
            "_model_module": "@jupyter-widgets/base",
            "top": null,
            "grid_column": null,
            "overflow_y": null,
            "overflow_x": null,
            "grid_auto_flow": null,
            "grid_area": null,
            "grid_template_columns": null,
            "flex": null,
            "_model_name": "LayoutModel",
            "justify_items": null,
            "grid_row": null,
            "max_height": null,
            "align_content": null,
            "visibility": null,
            "align_self": null,
            "height": null,
            "min_height": null,
            "padding": null,
            "grid_auto_rows": null,
            "grid_gap": null,
            "max_width": null,
            "order": null,
            "_view_module_version": "1.2.0",
            "grid_template_areas": null,
            "object_position": null,
            "object_fit": null,
            "grid_auto_columns": null,
            "margin": null,
            "display": null,
            "left": null
          }
        },
        "1207887692b043bc96380ae29f5eacaa": {
          "model_module": "@jupyter-widgets/controls",
          "model_name": "FloatProgressModel",
          "state": {
            "_view_name": "ProgressView",
            "style": "IPY_MODEL_6ae132bc266d456da1e72607b73a8e00",
            "_dom_classes": [],
            "description": " 88%",
            "_model_name": "FloatProgressModel",
            "bar_style": "danger",
            "max": 25000,
            "_view_module": "@jupyter-widgets/controls",
            "_model_module_version": "1.5.0",
            "value": 21941,
            "_view_count": null,
            "_view_module_version": "1.5.0",
            "orientation": "horizontal",
            "min": 0,
            "description_tooltip": null,
            "_model_module": "@jupyter-widgets/controls",
            "layout": "IPY_MODEL_94a4b7b5b13f474eab64187acecc287f"
          }
        },
        "584f5e136dd34017b2c1b27dc5ddd945": {
          "model_module": "@jupyter-widgets/controls",
          "model_name": "HTMLModel",
          "state": {
            "_view_name": "HTMLView",
            "style": "IPY_MODEL_ba2e3bd66534476995ff0d8abb69399b",
            "_dom_classes": [],
            "description": "",
            "_model_name": "HTMLModel",
            "placeholder": "​",
            "_view_module": "@jupyter-widgets/controls",
            "_model_module_version": "1.5.0",
            "value": " 21941/25000 [00:00&lt;00:00, 219408.12 examples/s]",
            "_view_count": null,
            "_view_module_version": "1.5.0",
            "description_tooltip": null,
            "_model_module": "@jupyter-widgets/controls",
            "layout": "IPY_MODEL_b1e0475c8448428087dda0f00e56b3ef"
          }
        },
        "6ae132bc266d456da1e72607b73a8e00": {
          "model_module": "@jupyter-widgets/controls",
          "model_name": "ProgressStyleModel",
          "state": {
            "_view_name": "StyleView",
            "_model_name": "ProgressStyleModel",
            "description_width": "initial",
            "_view_module": "@jupyter-widgets/base",
            "_model_module_version": "1.5.0",
            "_view_count": null,
            "_view_module_version": "1.2.0",
            "bar_color": null,
            "_model_module": "@jupyter-widgets/controls"
          }
        },
        "94a4b7b5b13f474eab64187acecc287f": {
          "model_module": "@jupyter-widgets/base",
          "model_name": "LayoutModel",
          "state": {
            "_view_name": "LayoutView",
            "grid_template_rows": null,
            "right": null,
            "justify_content": null,
            "_view_module": "@jupyter-widgets/base",
            "overflow": null,
            "_model_module_version": "1.2.0",
            "_view_count": null,
            "flex_flow": null,
            "width": null,
            "min_width": null,
            "border": null,
            "align_items": null,
            "bottom": null,
            "_model_module": "@jupyter-widgets/base",
            "top": null,
            "grid_column": null,
            "overflow_y": null,
            "overflow_x": null,
            "grid_auto_flow": null,
            "grid_area": null,
            "grid_template_columns": null,
            "flex": null,
            "_model_name": "LayoutModel",
            "justify_items": null,
            "grid_row": null,
            "max_height": null,
            "align_content": null,
            "visibility": null,
            "align_self": null,
            "height": null,
            "min_height": null,
            "padding": null,
            "grid_auto_rows": null,
            "grid_gap": null,
            "max_width": null,
            "order": null,
            "_view_module_version": "1.2.0",
            "grid_template_areas": null,
            "object_position": null,
            "object_fit": null,
            "grid_auto_columns": null,
            "margin": null,
            "display": null,
            "left": null
          }
        },
        "ba2e3bd66534476995ff0d8abb69399b": {
          "model_module": "@jupyter-widgets/controls",
          "model_name": "DescriptionStyleModel",
          "state": {
            "_view_name": "StyleView",
            "_model_name": "DescriptionStyleModel",
            "description_width": "",
            "_view_module": "@jupyter-widgets/base",
            "_model_module_version": "1.5.0",
            "_view_count": null,
            "_view_module_version": "1.2.0",
            "_model_module": "@jupyter-widgets/controls"
          }
        },
        "b1e0475c8448428087dda0f00e56b3ef": {
          "model_module": "@jupyter-widgets/base",
          "model_name": "LayoutModel",
          "state": {
            "_view_name": "LayoutView",
            "grid_template_rows": null,
            "right": null,
            "justify_content": null,
            "_view_module": "@jupyter-widgets/base",
            "overflow": null,
            "_model_module_version": "1.2.0",
            "_view_count": null,
            "flex_flow": null,
            "width": null,
            "min_width": null,
            "border": null,
            "align_items": null,
            "bottom": null,
            "_model_module": "@jupyter-widgets/base",
            "top": null,
            "grid_column": null,
            "overflow_y": null,
            "overflow_x": null,
            "grid_auto_flow": null,
            "grid_area": null,
            "grid_template_columns": null,
            "flex": null,
            "_model_name": "LayoutModel",
            "justify_items": null,
            "grid_row": null,
            "max_height": null,
            "align_content": null,
            "visibility": null,
            "align_self": null,
            "height": null,
            "min_height": null,
            "padding": null,
            "grid_auto_rows": null,
            "grid_gap": null,
            "max_width": null,
            "order": null,
            "_view_module_version": "1.2.0",
            "grid_template_areas": null,
            "object_position": null,
            "object_fit": null,
            "grid_auto_columns": null,
            "margin": null,
            "display": null,
            "left": null
          }
        },
        "7145997d589445639f7c1a50fa584af9": {
          "model_module": "@jupyter-widgets/controls",
          "model_name": "HBoxModel",
          "state": {
            "_view_name": "HBoxView",
            "_dom_classes": [],
            "_model_name": "HBoxModel",
            "_view_module": "@jupyter-widgets/controls",
            "_model_module_version": "1.5.0",
            "_view_count": null,
            "_view_module_version": "1.5.0",
            "box_style": "",
            "layout": "IPY_MODEL_daceb4e09c30428b806899fbdf1f4cef",
            "_model_module": "@jupyter-widgets/controls",
            "children": [
              "IPY_MODEL_518892843ae940ebb83f8e7c36a3b83f",
              "IPY_MODEL_e9b0cb626163465598db5b2bbca3026d"
            ]
          }
        },
        "daceb4e09c30428b806899fbdf1f4cef": {
          "model_module": "@jupyter-widgets/base",
          "model_name": "LayoutModel",
          "state": {
            "_view_name": "LayoutView",
            "grid_template_rows": null,
            "right": null,
            "justify_content": null,
            "_view_module": "@jupyter-widgets/base",
            "overflow": null,
            "_model_module_version": "1.2.0",
            "_view_count": null,
            "flex_flow": null,
            "width": null,
            "min_width": null,
            "border": null,
            "align_items": null,
            "bottom": null,
            "_model_module": "@jupyter-widgets/base",
            "top": null,
            "grid_column": null,
            "overflow_y": null,
            "overflow_x": null,
            "grid_auto_flow": null,
            "grid_area": null,
            "grid_template_columns": null,
            "flex": null,
            "_model_name": "LayoutModel",
            "justify_items": null,
            "grid_row": null,
            "max_height": null,
            "align_content": null,
            "visibility": null,
            "align_self": null,
            "height": null,
            "min_height": null,
            "padding": null,
            "grid_auto_rows": null,
            "grid_gap": null,
            "max_width": null,
            "order": null,
            "_view_module_version": "1.2.0",
            "grid_template_areas": null,
            "object_position": null,
            "object_fit": null,
            "grid_auto_columns": null,
            "margin": null,
            "display": null,
            "left": null
          }
        },
        "518892843ae940ebb83f8e7c36a3b83f": {
          "model_module": "@jupyter-widgets/controls",
          "model_name": "FloatProgressModel",
          "state": {
            "_view_name": "ProgressView",
            "style": "IPY_MODEL_711c63d465fa41b19684f0b1bf0884fa",
            "_dom_classes": [],
            "description": "",
            "_model_name": "FloatProgressModel",
            "bar_style": "info",
            "max": 1,
            "_view_module": "@jupyter-widgets/controls",
            "_model_module_version": "1.5.0",
            "value": 1,
            "_view_count": null,
            "_view_module_version": "1.5.0",
            "orientation": "horizontal",
            "min": 0,
            "description_tooltip": null,
            "_model_module": "@jupyter-widgets/controls",
            "layout": "IPY_MODEL_24313acbb5e2462c96ead6452ffd06e5"
          }
        },
        "e9b0cb626163465598db5b2bbca3026d": {
          "model_module": "@jupyter-widgets/controls",
          "model_name": "HTMLModel",
          "state": {
            "_view_name": "HTMLView",
            "style": "IPY_MODEL_47ed9fbc979c414ab04bc1bdae9a85cc",
            "_dom_classes": [],
            "description": "",
            "_model_name": "HTMLModel",
            "placeholder": "​",
            "_view_module": "@jupyter-widgets/controls",
            "_model_module_version": "1.5.0",
            "value": " 50000/0 [00:47&lt;00:00, 1101.99 examples/s]",
            "_view_count": null,
            "_view_module_version": "1.5.0",
            "description_tooltip": null,
            "_model_module": "@jupyter-widgets/controls",
            "layout": "IPY_MODEL_e9121253ddaa4dd18950e5b2c462e977"
          }
        },
        "711c63d465fa41b19684f0b1bf0884fa": {
          "model_module": "@jupyter-widgets/controls",
          "model_name": "ProgressStyleModel",
          "state": {
            "_view_name": "StyleView",
            "_model_name": "ProgressStyleModel",
            "description_width": "initial",
            "_view_module": "@jupyter-widgets/base",
            "_model_module_version": "1.5.0",
            "_view_count": null,
            "_view_module_version": "1.2.0",
            "bar_color": null,
            "_model_module": "@jupyter-widgets/controls"
          }
        },
        "24313acbb5e2462c96ead6452ffd06e5": {
          "model_module": "@jupyter-widgets/base",
          "model_name": "LayoutModel",
          "state": {
            "_view_name": "LayoutView",
            "grid_template_rows": null,
            "right": null,
            "justify_content": null,
            "_view_module": "@jupyter-widgets/base",
            "overflow": null,
            "_model_module_version": "1.2.0",
            "_view_count": null,
            "flex_flow": null,
            "width": null,
            "min_width": null,
            "border": null,
            "align_items": null,
            "bottom": null,
            "_model_module": "@jupyter-widgets/base",
            "top": null,
            "grid_column": null,
            "overflow_y": null,
            "overflow_x": null,
            "grid_auto_flow": null,
            "grid_area": null,
            "grid_template_columns": null,
            "flex": null,
            "_model_name": "LayoutModel",
            "justify_items": null,
            "grid_row": null,
            "max_height": null,
            "align_content": null,
            "visibility": null,
            "align_self": null,
            "height": null,
            "min_height": null,
            "padding": null,
            "grid_auto_rows": null,
            "grid_gap": null,
            "max_width": null,
            "order": null,
            "_view_module_version": "1.2.0",
            "grid_template_areas": null,
            "object_position": null,
            "object_fit": null,
            "grid_auto_columns": null,
            "margin": null,
            "display": null,
            "left": null
          }
        },
        "47ed9fbc979c414ab04bc1bdae9a85cc": {
          "model_module": "@jupyter-widgets/controls",
          "model_name": "DescriptionStyleModel",
          "state": {
            "_view_name": "StyleView",
            "_model_name": "DescriptionStyleModel",
            "description_width": "",
            "_view_module": "@jupyter-widgets/base",
            "_model_module_version": "1.5.0",
            "_view_count": null,
            "_view_module_version": "1.2.0",
            "_model_module": "@jupyter-widgets/controls"
          }
        },
        "e9121253ddaa4dd18950e5b2c462e977": {
          "model_module": "@jupyter-widgets/base",
          "model_name": "LayoutModel",
          "state": {
            "_view_name": "LayoutView",
            "grid_template_rows": null,
            "right": null,
            "justify_content": null,
            "_view_module": "@jupyter-widgets/base",
            "overflow": null,
            "_model_module_version": "1.2.0",
            "_view_count": null,
            "flex_flow": null,
            "width": null,
            "min_width": null,
            "border": null,
            "align_items": null,
            "bottom": null,
            "_model_module": "@jupyter-widgets/base",
            "top": null,
            "grid_column": null,
            "overflow_y": null,
            "overflow_x": null,
            "grid_auto_flow": null,
            "grid_area": null,
            "grid_template_columns": null,
            "flex": null,
            "_model_name": "LayoutModel",
            "justify_items": null,
            "grid_row": null,
            "max_height": null,
            "align_content": null,
            "visibility": null,
            "align_self": null,
            "height": null,
            "min_height": null,
            "padding": null,
            "grid_auto_rows": null,
            "grid_gap": null,
            "max_width": null,
            "order": null,
            "_view_module_version": "1.2.0",
            "grid_template_areas": null,
            "object_position": null,
            "object_fit": null,
            "grid_auto_columns": null,
            "margin": null,
            "display": null,
            "left": null
          }
        },
        "b73d2e8f03dd49c898a3cd2f30c249f1": {
          "model_module": "@jupyter-widgets/controls",
          "model_name": "HBoxModel",
          "state": {
            "_view_name": "HBoxView",
            "_dom_classes": [],
            "_model_name": "HBoxModel",
            "_view_module": "@jupyter-widgets/controls",
            "_model_module_version": "1.5.0",
            "_view_count": null,
            "_view_module_version": "1.5.0",
            "box_style": "",
            "layout": "IPY_MODEL_c54855f0cce24d63b64ecbc465d1fb2b",
            "_model_module": "@jupyter-widgets/controls",
            "children": [
              "IPY_MODEL_738df79431cd450a950d67de24399aca",
              "IPY_MODEL_baf7df0b98564c11b56d6ca6e0f5c308"
            ]
          }
        },
        "c54855f0cce24d63b64ecbc465d1fb2b": {
          "model_module": "@jupyter-widgets/base",
          "model_name": "LayoutModel",
          "state": {
            "_view_name": "LayoutView",
            "grid_template_rows": null,
            "right": null,
            "justify_content": null,
            "_view_module": "@jupyter-widgets/base",
            "overflow": null,
            "_model_module_version": "1.2.0",
            "_view_count": null,
            "flex_flow": null,
            "width": null,
            "min_width": null,
            "border": null,
            "align_items": null,
            "bottom": null,
            "_model_module": "@jupyter-widgets/base",
            "top": null,
            "grid_column": null,
            "overflow_y": null,
            "overflow_x": null,
            "grid_auto_flow": null,
            "grid_area": null,
            "grid_template_columns": null,
            "flex": null,
            "_model_name": "LayoutModel",
            "justify_items": null,
            "grid_row": null,
            "max_height": null,
            "align_content": null,
            "visibility": null,
            "align_self": null,
            "height": null,
            "min_height": null,
            "padding": null,
            "grid_auto_rows": null,
            "grid_gap": null,
            "max_width": null,
            "order": null,
            "_view_module_version": "1.2.0",
            "grid_template_areas": null,
            "object_position": null,
            "object_fit": null,
            "grid_auto_columns": null,
            "margin": null,
            "display": null,
            "left": null
          }
        },
        "738df79431cd450a950d67de24399aca": {
          "model_module": "@jupyter-widgets/controls",
          "model_name": "FloatProgressModel",
          "state": {
            "_view_name": "ProgressView",
            "style": "IPY_MODEL_43d2496b3b4349238078be206d9a8997",
            "_dom_classes": [],
            "description": " 96%",
            "_model_name": "FloatProgressModel",
            "bar_style": "danger",
            "max": 50000,
            "_view_module": "@jupyter-widgets/controls",
            "_model_module_version": "1.5.0",
            "value": 47844,
            "_view_count": null,
            "_view_module_version": "1.5.0",
            "orientation": "horizontal",
            "min": 0,
            "description_tooltip": null,
            "_model_module": "@jupyter-widgets/controls",
            "layout": "IPY_MODEL_0be863eebb874d1d8d7c2c0f7bdd875b"
          }
        },
        "baf7df0b98564c11b56d6ca6e0f5c308": {
          "model_module": "@jupyter-widgets/controls",
          "model_name": "HTMLModel",
          "state": {
            "_view_name": "HTMLView",
            "style": "IPY_MODEL_ef41fbc4a91e429a8a161026711a7658",
            "_dom_classes": [],
            "description": "",
            "_model_name": "HTMLModel",
            "placeholder": "​",
            "_view_module": "@jupyter-widgets/controls",
            "_model_module_version": "1.5.0",
            "value": " 47844/50000 [00:05&lt;00:00, 103296.86 examples/s]",
            "_view_count": null,
            "_view_module_version": "1.5.0",
            "description_tooltip": null,
            "_model_module": "@jupyter-widgets/controls",
            "layout": "IPY_MODEL_b27add0073a54c68abf8b0fea5e62bee"
          }
        },
        "43d2496b3b4349238078be206d9a8997": {
          "model_module": "@jupyter-widgets/controls",
          "model_name": "ProgressStyleModel",
          "state": {
            "_view_name": "StyleView",
            "_model_name": "ProgressStyleModel",
            "description_width": "initial",
            "_view_module": "@jupyter-widgets/base",
            "_model_module_version": "1.5.0",
            "_view_count": null,
            "_view_module_version": "1.2.0",
            "bar_color": null,
            "_model_module": "@jupyter-widgets/controls"
          }
        },
        "0be863eebb874d1d8d7c2c0f7bdd875b": {
          "model_module": "@jupyter-widgets/base",
          "model_name": "LayoutModel",
          "state": {
            "_view_name": "LayoutView",
            "grid_template_rows": null,
            "right": null,
            "justify_content": null,
            "_view_module": "@jupyter-widgets/base",
            "overflow": null,
            "_model_module_version": "1.2.0",
            "_view_count": null,
            "flex_flow": null,
            "width": null,
            "min_width": null,
            "border": null,
            "align_items": null,
            "bottom": null,
            "_model_module": "@jupyter-widgets/base",
            "top": null,
            "grid_column": null,
            "overflow_y": null,
            "overflow_x": null,
            "grid_auto_flow": null,
            "grid_area": null,
            "grid_template_columns": null,
            "flex": null,
            "_model_name": "LayoutModel",
            "justify_items": null,
            "grid_row": null,
            "max_height": null,
            "align_content": null,
            "visibility": null,
            "align_self": null,
            "height": null,
            "min_height": null,
            "padding": null,
            "grid_auto_rows": null,
            "grid_gap": null,
            "max_width": null,
            "order": null,
            "_view_module_version": "1.2.0",
            "grid_template_areas": null,
            "object_position": null,
            "object_fit": null,
            "grid_auto_columns": null,
            "margin": null,
            "display": null,
            "left": null
          }
        },
        "ef41fbc4a91e429a8a161026711a7658": {
          "model_module": "@jupyter-widgets/controls",
          "model_name": "DescriptionStyleModel",
          "state": {
            "_view_name": "StyleView",
            "_model_name": "DescriptionStyleModel",
            "description_width": "",
            "_view_module": "@jupyter-widgets/base",
            "_model_module_version": "1.5.0",
            "_view_count": null,
            "_view_module_version": "1.2.0",
            "_model_module": "@jupyter-widgets/controls"
          }
        },
        "b27add0073a54c68abf8b0fea5e62bee": {
          "model_module": "@jupyter-widgets/base",
          "model_name": "LayoutModel",
          "state": {
            "_view_name": "LayoutView",
            "grid_template_rows": null,
            "right": null,
            "justify_content": null,
            "_view_module": "@jupyter-widgets/base",
            "overflow": null,
            "_model_module_version": "1.2.0",
            "_view_count": null,
            "flex_flow": null,
            "width": null,
            "min_width": null,
            "border": null,
            "align_items": null,
            "bottom": null,
            "_model_module": "@jupyter-widgets/base",
            "top": null,
            "grid_column": null,
            "overflow_y": null,
            "overflow_x": null,
            "grid_auto_flow": null,
            "grid_area": null,
            "grid_template_columns": null,
            "flex": null,
            "_model_name": "LayoutModel",
            "justify_items": null,
            "grid_row": null,
            "max_height": null,
            "align_content": null,
            "visibility": null,
            "align_self": null,
            "height": null,
            "min_height": null,
            "padding": null,
            "grid_auto_rows": null,
            "grid_gap": null,
            "max_width": null,
            "order": null,
            "_view_module_version": "1.2.0",
            "grid_template_areas": null,
            "object_position": null,
            "object_fit": null,
            "grid_auto_columns": null,
            "margin": null,
            "display": null,
            "left": null
          }
        }
      }
    }
  },
  "cells": [
    {
      "cell_type": "markdown",
      "metadata": {
        "id": "qV40U7mLZkN4"
      },
      "source": [
        "# Tensorflow 실습 : RNN을 이용한 텍스트 분류"
      ]
    },
    {
      "cell_type": "markdown",
      "metadata": {
        "id": "jcJihGy4bqCW"
      },
      "source": [
        "- 학습 속도를 위해, GPU를 사용하기를 권장"
      ]
    },
    {
      "cell_type": "code",
      "metadata": {
        "id": "KAgXBP8LtArB"
      },
      "source": [
        "import tensorflow_datasets as tfds\n",
        "import tensorflow as tf\n",
        "import matplotlib.pyplot as plt\n",
        "\n",
        "# history를 그래프로 그리기 위해 사용\n",
        "def plot_graphs(history, metric):\n",
        "  plt.plot(history.history[metric])\n",
        "  plt.plot(history.history['val_'+metric], '')\n",
        "  plt.xlabel(\"Epochs\")\n",
        "  plt.ylabel(metric)\n",
        "  plt.legend([metric, 'val_'+metric])\n",
        "  plt.show()"
      ],
      "execution_count": 1,
      "outputs": []
    },
    {
      "cell_type": "markdown",
      "metadata": {
        "id": "Jx6UkuneSmBU"
      },
      "source": [
        "## IMDB 데이터셋 "
      ]
    },
    {
      "cell_type": "markdown",
      "metadata": {
        "id": "pRmMubr0jrE2"
      },
      "source": [
        "### Setup input pipeline\n",
        "\n",
        "- IMDB (Internet Movie Database)는 영화 리뷰를 모아 놓은 데이터셋으로, 각 리뷰가 긍정적인지 부정적인지 label이 되어 있음\n",
        "- 따라서 어떤 리뷰가 긍정/부정적인지 분류하는 binary classification 문제를 학습하기 위해 많이 사용됨\n",
        "- 또한, text는 대표적인 sequencial data이므로, RNN을 사용해보기에 적합함\n",
        "- tfds (tensorflow_datasets)를 통해 간단히 load 및 전처리하여 사용 가능"
      ]
    },
    {
      "cell_type": "code",
      "metadata": {
        "id": "SHRwRoP2nVHX",
        "colab": {
          "base_uri": "https://localhost:8080/",
          "height": 395,
          "referenced_widgets": [
            "8f7c93d0a21e49fb836344568aa431b0",
            "5fdf55bda5b847478b5bdf9c4dcf7567",
            "1a7ef1e210f04d618c59ef9caccaeac9",
            "988caa09b8d145a99d52fef08d43771f",
            "7a60993667bb45dfb5eb78422c1e6c90",
            "2f79d1d3b3e94a9cb9e7a1a2f779789b",
            "0fcd8295d1d144c389d1c67b92ac7b9e",
            "90bc56d19a5b4e0c8724e1b0a3b8144f",
            "0970064472d048c6804eeaf64cd644e9",
            "a28d3b46585442eba20b15960c161cc6",
            "b18975a57df449e38442d2d58031fd7c",
            "1e7379a00c0442aaa82d1af7f131936d",
            "e65ae24f716c4d7aad5b47d3646de2c9",
            "3750f86c6fbf492ca7847822d6371feb",
            "6e9310b599ab46ee8ce1d9db5cd05b2f",
            "40505cc99f71455b9ab996c577a29cc9",
            "cb08d71cff974beba5185efe7e22ec52",
            "12fea7bad81c423c92a523b1d9f21b50",
            "4353ea1eeb324e26a21034cad27f553a",
            "f1afc0680a874a8e949d0c6182091606",
            "c985d5d8f649439fa3f730cbaa3269e4",
            "6a6c7d49860f4abe9c2d2a43485cb897",
            "04dde915a3db463992cc08f4f3cf7ec2",
            "e0ab30fa9a4b4ea288a6c847a7ed52a5",
            "97ff15730d2340a89022bf4f527bba08",
            "e366c7b71c804fcfbf1ca3396e1b7c08",
            "fc9dda23dc51464680c52a23f4992948",
            "866b30b53e4a4e689f794576393b6971",
            "513cd8d2e1354b059eb4dda5b7f055e2",
            "0fb8d20c4bda40a68c71cec086d795e9",
            "26f9ee7001b941eda561d4c472bfd450",
            "92402f851beb448fbe41a95d45835049",
            "69f40734172d4245b9e63083d6170e4e",
            "e77067fdc5f3447599063122b3a3b7fb",
            "77fbc2d3990c44b38c61f426a054e734",
            "4d95f04677b14cbba57f3facd871efe0",
            "a3655e68b5da4c00b29e8d513e57b4bd",
            "2667b2e3e8d74ed8b5336f61dc522e30",
            "6dfa4337c7974ee7be52cb3b4559eb12",
            "ce6b0d28fe35483e85d7e4746b011eed",
            "eb8ff8c2fb1049f9a964557ce1088612",
            "fd5253f1d5984f6a9fe71ee4120ed087",
            "1207887692b043bc96380ae29f5eacaa",
            "584f5e136dd34017b2c1b27dc5ddd945",
            "6ae132bc266d456da1e72607b73a8e00",
            "94a4b7b5b13f474eab64187acecc287f",
            "ba2e3bd66534476995ff0d8abb69399b",
            "b1e0475c8448428087dda0f00e56b3ef",
            "7145997d589445639f7c1a50fa584af9",
            "daceb4e09c30428b806899fbdf1f4cef",
            "518892843ae940ebb83f8e7c36a3b83f",
            "e9b0cb626163465598db5b2bbca3026d",
            "711c63d465fa41b19684f0b1bf0884fa",
            "24313acbb5e2462c96ead6452ffd06e5",
            "47ed9fbc979c414ab04bc1bdae9a85cc",
            "e9121253ddaa4dd18950e5b2c462e977",
            "b73d2e8f03dd49c898a3cd2f30c249f1",
            "c54855f0cce24d63b64ecbc465d1fb2b",
            "738df79431cd450a950d67de24399aca",
            "baf7df0b98564c11b56d6ca6e0f5c308",
            "43d2496b3b4349238078be206d9a8997",
            "0be863eebb874d1d8d7c2c0f7bdd875b",
            "ef41fbc4a91e429a8a161026711a7658",
            "b27add0073a54c68abf8b0fea5e62bee"
          ]
        },
        "outputId": "238da775-3902-4a58-cc1c-376f3dd43205"
      },
      "source": [
        "dataset, info = tfds.load('imdb_reviews/subwords8k', with_info=True, as_supervised=True)\n",
        "train_dataset, test_dataset = dataset['train'], dataset['test']"
      ],
      "execution_count": 2,
      "outputs": [
        {
          "output_type": "stream",
          "text": [
            "WARNING:absl:TFDS datasets with text encoding are deprecated and will be removed in a future version. Instead, you should use the plain text version and tokenize the text using `tensorflow_text` (See: https://www.tensorflow.org/tutorials/tensorflow_text/intro#tfdata_example)\n"
          ],
          "name": "stderr"
        },
        {
          "output_type": "stream",
          "text": [
            "\u001b[1mDownloading and preparing dataset imdb_reviews/subwords8k/1.0.0 (download: 80.23 MiB, generated: Unknown size, total: 80.23 MiB) to /root/tensorflow_datasets/imdb_reviews/subwords8k/1.0.0...\u001b[0m\n"
          ],
          "name": "stdout"
        },
        {
          "output_type": "display_data",
          "data": {
            "application/vnd.jupyter.widget-view+json": {
              "model_id": "8f7c93d0a21e49fb836344568aa431b0",
              "version_minor": 0,
              "version_major": 2
            },
            "text/plain": [
              "HBox(children=(FloatProgress(value=1.0, bar_style='info', description='Dl Completed...', max=1.0, style=Progre…"
            ]
          },
          "metadata": {
            "tags": []
          }
        },
        {
          "output_type": "display_data",
          "data": {
            "application/vnd.jupyter.widget-view+json": {
              "model_id": "0970064472d048c6804eeaf64cd644e9",
              "version_minor": 0,
              "version_major": 2
            },
            "text/plain": [
              "HBox(children=(FloatProgress(value=1.0, bar_style='info', description='Dl Size...', max=1.0, style=ProgressSty…"
            ]
          },
          "metadata": {
            "tags": []
          }
        },
        {
          "output_type": "stream",
          "text": [
            "\n",
            "\n",
            "\n",
            "\n"
          ],
          "name": "stdout"
        },
        {
          "output_type": "display_data",
          "data": {
            "application/vnd.jupyter.widget-view+json": {
              "model_id": "cb08d71cff974beba5185efe7e22ec52",
              "version_minor": 0,
              "version_major": 2
            },
            "text/plain": [
              "HBox(children=(FloatProgress(value=1.0, bar_style='info', max=1.0), HTML(value='')))"
            ]
          },
          "metadata": {
            "tags": []
          }
        },
        {
          "output_type": "stream",
          "text": [
            "\rShuffling and writing examples to /root/tensorflow_datasets/imdb_reviews/subwords8k/1.0.0.incompleteBY5WP6/imdb_reviews-train.tfrecord\n"
          ],
          "name": "stdout"
        },
        {
          "output_type": "display_data",
          "data": {
            "application/vnd.jupyter.widget-view+json": {
              "model_id": "97ff15730d2340a89022bf4f527bba08",
              "version_minor": 0,
              "version_major": 2
            },
            "text/plain": [
              "HBox(children=(FloatProgress(value=0.0, max=25000.0), HTML(value='')))"
            ]
          },
          "metadata": {
            "tags": []
          }
        },
        {
          "output_type": "stream",
          "text": [
            "\r"
          ],
          "name": "stdout"
        },
        {
          "output_type": "display_data",
          "data": {
            "application/vnd.jupyter.widget-view+json": {
              "model_id": "69f40734172d4245b9e63083d6170e4e",
              "version_minor": 0,
              "version_major": 2
            },
            "text/plain": [
              "HBox(children=(FloatProgress(value=1.0, bar_style='info', max=1.0), HTML(value='')))"
            ]
          },
          "metadata": {
            "tags": []
          }
        },
        {
          "output_type": "stream",
          "text": [
            "\rShuffling and writing examples to /root/tensorflow_datasets/imdb_reviews/subwords8k/1.0.0.incompleteBY5WP6/imdb_reviews-test.tfrecord\n"
          ],
          "name": "stdout"
        },
        {
          "output_type": "display_data",
          "data": {
            "application/vnd.jupyter.widget-view+json": {
              "model_id": "eb8ff8c2fb1049f9a964557ce1088612",
              "version_minor": 0,
              "version_major": 2
            },
            "text/plain": [
              "HBox(children=(FloatProgress(value=0.0, max=25000.0), HTML(value='')))"
            ]
          },
          "metadata": {
            "tags": []
          }
        },
        {
          "output_type": "stream",
          "text": [
            "\r"
          ],
          "name": "stdout"
        },
        {
          "output_type": "display_data",
          "data": {
            "application/vnd.jupyter.widget-view+json": {
              "model_id": "7145997d589445639f7c1a50fa584af9",
              "version_minor": 0,
              "version_major": 2
            },
            "text/plain": [
              "HBox(children=(FloatProgress(value=1.0, bar_style='info', max=1.0), HTML(value='')))"
            ]
          },
          "metadata": {
            "tags": []
          }
        },
        {
          "output_type": "stream",
          "text": [
            "\rShuffling and writing examples to /root/tensorflow_datasets/imdb_reviews/subwords8k/1.0.0.incompleteBY5WP6/imdb_reviews-unsupervised.tfrecord\n"
          ],
          "name": "stdout"
        },
        {
          "output_type": "display_data",
          "data": {
            "application/vnd.jupyter.widget-view+json": {
              "model_id": "b73d2e8f03dd49c898a3cd2f30c249f1",
              "version_minor": 0,
              "version_major": 2
            },
            "text/plain": [
              "HBox(children=(FloatProgress(value=0.0, max=50000.0), HTML(value='')))"
            ]
          },
          "metadata": {
            "tags": []
          }
        },
        {
          "output_type": "stream",
          "text": [
            "WARNING:absl:Dataset is using deprecated text encoder API which will be removed soon. Please use the plain_text version of the dataset and migrate to `tensorflow_text`.\n"
          ],
          "name": "stderr"
        },
        {
          "output_type": "stream",
          "text": [
            "\u001b[1mDataset imdb_reviews downloaded and prepared to /root/tensorflow_datasets/imdb_reviews/subwords8k/1.0.0. Subsequent calls will reuse this data.\u001b[0m\n",
            "\r"
          ],
          "name": "stdout"
        }
      ]
    },
    {
      "cell_type": "markdown",
      "metadata": {
        "id": "MCorLciXSDJE"
      },
      "source": [
        "- 데이터셋의 `info`는 encoder를 가지고 있음 (`tfds.features.text.SubwordTextEncoder`)"
      ]
    },
    {
      "cell_type": "code",
      "metadata": {
        "id": "EplYp5pNnW1S",
        "colab": {
          "base_uri": "https://localhost:8080/"
        },
        "outputId": "97b26dae-d3be-48a7-acfa-70e1d2dad85b"
      },
      "source": [
        "encoder = info.features['text'].encoder\n",
        "# 전체 단어의 가지수는 8185\n",
        "print('Vocabulary size: {}'.format(encoder.vocab_size))"
      ],
      "execution_count": 3,
      "outputs": [
        {
          "output_type": "stream",
          "text": [
            "Vocabulary size: 8185\n"
          ],
          "name": "stdout"
        }
      ]
    },
    {
      "cell_type": "markdown",
      "metadata": {
        "id": "tAfGg8YRe6fu"
      },
      "source": [
        "- encoder를 이용하면, 영어 문장을 숫자로 표현하고, 숫자를 다시 문장으로 복원하는 것이 가능함\n",
        "  - encode: 영어 문장 => 정수(integer)의 sequence\n",
        "  - decode: 정수(integer)의 sequence => 영어 문장"
      ]
    },
    {
      "cell_type": "code",
      "metadata": {
        "id": "Bq6xDmf2SAs-",
        "colab": {
          "base_uri": "https://localhost:8080/"
        },
        "outputId": "3f04c20b-70b6-436c-d146-7bc5f4916c27"
      },
      "source": [
        "sample_string = 'Hello TensorFlow.'\n",
        "\n",
        "encoded_string = encoder.encode(sample_string)\n",
        "print('Encoded string is {}'.format(encoded_string))\n",
        "\n",
        "original_string = encoder.decode(encoded_string)\n",
        "print('The original string: \"{}\"'.format(original_string))"
      ],
      "execution_count": 4,
      "outputs": [
        {
          "output_type": "stream",
          "text": [
            "Encoded string is [4025, 222, 6307, 2327, 4043, 2120, 7975]\n",
            "The original string: \"Hello TensorFlow.\"\n"
          ],
          "name": "stdout"
        }
      ]
    },
    {
      "cell_type": "code",
      "metadata": {
        "id": "TN7QbKaM4-5H"
      },
      "source": [
        "# 원래 문장과 encode-decode 과정을 통과한 문장은 항상 동일함\n",
        "assert original_string == sample_string"
      ],
      "execution_count": 5,
      "outputs": []
    },
    {
      "cell_type": "code",
      "metadata": {
        "id": "MDVc6UGO5Dh6",
        "colab": {
          "base_uri": "https://localhost:8080/"
        },
        "outputId": "e778b766-9874-4465-98c5-c144d55cea7d"
      },
      "source": [
        "# 정수 하나와 단어 하나가 매치된 것을 확인할 수 있음\n",
        "# 완전히 단어 1개 단위로 나뉜 것은 아니고, 음절 단위로 나누는 방식을 활용하는 것으로 보임\n",
        "for index in encoded_string:\n",
        "  print('{} ----> {}'.format(index, encoder.decode([index])))"
      ],
      "execution_count": 6,
      "outputs": [
        {
          "output_type": "stream",
          "text": [
            "4025 ----> Hell\n",
            "222 ----> o \n",
            "6307 ----> Ten\n",
            "2327 ----> sor\n",
            "4043 ----> Fl\n",
            "2120 ----> ow\n",
            "7975 ----> .\n"
          ],
          "name": "stdout"
        }
      ]
    },
    {
      "cell_type": "markdown",
      "metadata": {
        "id": "1O8DJmy9Gle-"
      },
      "source": [
        "### 참고\n",
        "- text를 token(정수, integer) 단위로 표현하는 방식은 다양함\n",
        "- text를 token 단위로 나누어주는 메소드를 Tokenizer라고 함\n",
        "  - 영어에서 알파벳 하나씩 token 단위로 변환하는 방법 (character level)\n",
        "  - 음절 단위로 변환\n",
        "  - 단어 단위로 변환 (word level)\n",
        "  ---\n",
        "- 한국어 문장을 이용하기 위해서는 한국어 전용 Tokenizer가 필요함"
      ]
    },
    {
      "cell_type": "markdown",
      "metadata": {
        "id": "GlYWqhTVlUyQ"
      },
      "source": [
        "### 학습을 위한 데이터셋 준비"
      ]
    },
    {
      "cell_type": "code",
      "metadata": {
        "id": "dDsCaZCDYZgm",
        "colab": {
          "base_uri": "https://localhost:8080/"
        },
        "outputId": "d0c92745-bd8c-46e7-f371-4337b4a68377"
      },
      "source": [
        "num_train = len(list(train_dataset))\n",
        "num_test = len(list(test_dataset))\n",
        "\n",
        "print('학습 데이터 수: ', num_train)\n",
        "print('테스트 데이터 수: ', num_test)\n",
        "\n",
        "BUFFER_SIZE = 10000\n",
        "BATCH_SIZE = 64"
      ],
      "execution_count": 7,
      "outputs": [
        {
          "output_type": "stream",
          "text": [
            "학습 데이터 수:  25000\n",
            "테스트 데이터 수:  25000\n"
          ],
          "name": "stdout"
        }
      ]
    },
    {
      "cell_type": "markdown",
      "metadata": {
        "id": "4M85LDr3Jpc0"
      },
      "source": [
        "- 테스트 데이터셋은 반으로 나누어서 validation 데이터셋과 테스트 데이터셋으로 사용\n",
        "  - take: 앞에서부터 인자로 받은 숫자까지의 데이터만 사용\n",
        "  - skip: 인자로 받은 숫자부터 끝까지 데이터를 사용"
      ]
    },
    {
      "cell_type": "code",
      "metadata": {
        "id": "VznrltNOnUc5"
      },
      "source": [
        "valid_dataset = test_dataset.take(num_test // 2)\n",
        "test_dataset = test_dataset.skip(num_test // 2)\n",
        "\n",
        "# 학습 시간이 오래걸리므로 학습 데이터를 1/5 만 사용\n",
        "# 모델의 좋은 성능을 위해서는 학습 데이터를 모두 사용하는 것이 정상적임\n",
        "train_dataset = train_dataset.take(num_train // 5)"
      ],
      "execution_count": 8,
      "outputs": []
    },
    {
      "cell_type": "markdown",
      "metadata": {
        "id": "NTC5RPIlJmUl"
      },
      "source": [
        "- (중요) 각 리뷰 문장은 token의 개수가 정해져 있는 것이 아니므로, 전체 sequence 길이가 각각 다름\n",
        "- 따라서 mini batch 안에서 가장 길이가 긴 sequence 길이에 맞도록, 나머지 문장들에 padding token을 추가해줘야 함\n",
        "  - dataset에서 batch 대신 `padded_batch`를 사용  \n",
        "\n",
        "padded_batch를 사용하면 가장 길이가 긴 텍스트에 맞춰 padding token이 추가됨\n"
      ]
    },
    {
      "cell_type": "code",
      "metadata": {
        "id": "9jwiOqDxKt6g"
      },
      "source": [
        "train_dataset = train_dataset.shuffle(BUFFER_SIZE)\n",
        "train_dataset = train_dataset.padded_batch(BATCH_SIZE)\n",
        "\n",
        "valid_dataset = valid_dataset.padded_batch(BATCH_SIZE)\n",
        "\n",
        "test_dataset = test_dataset.padded_batch(BATCH_SIZE)"
      ],
      "execution_count": 9,
      "outputs": []
    },
    {
      "cell_type": "markdown",
      "metadata": {
        "id": "uXFUka5wLMX5"
      },
      "source": [
        "- mini batch load 결과 확인\n",
        "  - x는 리뷰 데이터, shape는 [batch size, sequence 길이], 가장 길이가 긴 sequence에 맞추어 나머지 문장에는 padding (0)으로 채워짐\n",
        "  - y는 각 리뷰에 대한 긍정(1), 부정(0) label"
      ]
    },
    {
      "cell_type": "code",
      "metadata": {
        "id": "--uEdlvwLLyP",
        "colab": {
          "base_uri": "https://localhost:8080/"
        },
        "outputId": "4d45de47-4620-476e-9320-7cb979313354"
      },
      "source": [
        "for x, y in train_dataset.take(1):\n",
        "  print(x)\n",
        "  print(y)"
      ],
      "execution_count": 10,
      "outputs": [
        {
          "output_type": "stream",
          "text": [
            "tf.Tensor(\n",
            "[[5831 1916   90 ...    0    0    0]\n",
            " [ 133 3641   95 ...    0    0    0]\n",
            " [ 661  290 2002 ...    0    0    0]\n",
            " ...\n",
            " [ 135 7968    8 ...    0    0    0]\n",
            " [  19 6918 7961 ...    0    0    0]\n",
            " [  19  480    6 ...    0    0    0]], shape=(64, 1349), dtype=int64)\n",
            "tf.Tensor(\n",
            "[0 0 0 1 0 0 1 1 1 0 1 0 0 0 1 1 1 1 0 1 1 1 1 1 0 0 1 0 0 1 1 0 0 1 0 0 0\n",
            " 1 0 0 0 0 0 1 0 1 0 1 1 1 1 1 0 0 1 0 0 1 0 0 1 1 1 0], shape=(64,), dtype=int64)\n"
          ],
          "name": "stdout"
        }
      ]
    },
    {
      "cell_type": "markdown",
      "metadata": {
        "id": "phByDqCairy7"
      },
      "source": [
        "뒤의 값이 0인 이유는 padded_batch가 되었기 때문이다."
      ]
    },
    {
      "cell_type": "markdown",
      "metadata": {
        "id": "OoFTq8bWTVna"
      },
      "source": [
        "## RNN 모델을 이용한 텍스트 분류"
      ]
    },
    {
      "cell_type": "markdown",
      "metadata": {
        "id": "K3lBBFyMTblr"
      },
      "source": [
        "### RNN 모델\n",
        "- Embedding layer (학습 가능한 파라미터)\n",
        "  - 정수(integer)를 vector로 mapping하는 방법을 embedding이라고 함\n",
        "  - 쉽게 이해하자면, 정수 => one-hot vector(8185차원(vocab size)의 벡터로 표현) => W matrix를 곱해주는 것과 동일함 (activation, bias가 없는 Dense layer)\n",
        "- `tf.keras.layers.Embedding` 사용법\n",
        "  - input_dim : 전체 vocabulary의 사이즈\n",
        "  - output_dim : output 벡터의 차원\n",
        "  - mask_zero : True로 하면, 0의 값(padding)은 mask로 가려지게 됨 \n",
        "- masking의 의미 : paddding 부분은 RNN 모델에 input으로 사용되지 않고, padding이 아닌부분만 가지고 RNN의 output을 계산함"
      ]
    },
    {
      "cell_type": "code",
      "metadata": {
        "id": "DtBVc8MzTayj",
        "colab": {
          "base_uri": "https://localhost:8080/"
        },
        "outputId": "c42ade28-71ce-4ca8-d1a5-bf8e4641e030"
      },
      "source": [
        "model = tf.keras.Sequential([\n",
        "    tf.keras.layers.Embedding(input_dim=encoder.vocab_size, output_dim=64, mask_zero=True),\n",
        "    tf.keras.layers.LSTM(64),\n",
        "    tf.keras.layers.Dense(64, activation='relu'),\n",
        "    tf.keras.layers.Dense(1)\n",
        "])\n",
        "\n",
        "model.summary()"
      ],
      "execution_count": 11,
      "outputs": [
        {
          "output_type": "stream",
          "text": [
            "Model: \"sequential\"\n",
            "_________________________________________________________________\n",
            "Layer (type)                 Output Shape              Param #   \n",
            "=================================================================\n",
            "embedding (Embedding)        (None, None, 64)          523840    \n",
            "_________________________________________________________________\n",
            "lstm (LSTM)                  (None, 64)                33024     \n",
            "_________________________________________________________________\n",
            "dense (Dense)                (None, 64)                4160      \n",
            "_________________________________________________________________\n",
            "dense_1 (Dense)              (None, 1)                 65        \n",
            "=================================================================\n",
            "Total params: 561,089\n",
            "Trainable params: 561,089\n",
            "Non-trainable params: 0\n",
            "_________________________________________________________________\n"
          ],
          "name": "stdout"
        }
      ]
    },
    {
      "cell_type": "markdown",
      "metadata": {
        "id": "sUirbA-fT2Mi"
      },
      "source": [
        "### 옵티마이저(optimizer), 손실 함수, 평가 metric 선택"
      ]
    },
    {
      "cell_type": "code",
      "metadata": {
        "id": "QOB_5E7vUChh"
      },
      "source": [
        "# Binary classification에 적합한 loss를 선정, 마지막 dense layer에 sigmoid activation이 없으므로 from_logits=True\n",
        "model.compile(loss=tf.keras.losses.BinaryCrossentropy(from_logits=True),\n",
        "              optimizer=tf.keras.optimizers.Adam(1e-4),\n",
        "              metrics=['accuracy'])"
      ],
      "execution_count": 12,
      "outputs": []
    },
    {
      "cell_type": "markdown",
      "metadata": {
        "id": "C0Bbjb6UbMn6"
      },
      "source": [
        "###모델 학습\n"
      ]
    },
    {
      "cell_type": "code",
      "metadata": {
        "id": "IMDUss0KbQFy",
        "colab": {
          "base_uri": "https://localhost:8080/"
        },
        "outputId": "ff967cec-83bc-4b74-9453-a732f639b9b8"
      },
      "source": [
        "# 한 epoch에 걸리는 시간을 줄이기 위해, validation step을 30으로 제한\n",
        "history = model.fit(train_dataset, epochs=10,\n",
        "                    validation_data=valid_dataset,\n",
        "                    validation_steps=30)"
      ],
      "execution_count": 13,
      "outputs": [
        {
          "output_type": "stream",
          "text": [
            "Epoch 1/10\n",
            "79/79 [==============================] - 17s 92ms/step - loss: 0.6931 - accuracy: 0.5021 - val_loss: 0.6928 - val_accuracy: 0.4917\n",
            "Epoch 2/10\n",
            "79/79 [==============================] - 6s 74ms/step - loss: 0.6921 - accuracy: 0.4921 - val_loss: 0.6918 - val_accuracy: 0.4917\n",
            "Epoch 3/10\n",
            "79/79 [==============================] - 6s 73ms/step - loss: 0.6887 - accuracy: 0.4916 - val_loss: 0.6734 - val_accuracy: 0.4948\n",
            "Epoch 4/10\n",
            "79/79 [==============================] - 6s 74ms/step - loss: 0.6579 - accuracy: 0.5239 - val_loss: 0.6396 - val_accuracy: 0.7495\n",
            "Epoch 5/10\n",
            "79/79 [==============================] - 6s 73ms/step - loss: 0.5693 - accuracy: 0.7135 - val_loss: 0.5388 - val_accuracy: 0.7708\n",
            "Epoch 6/10\n",
            "79/79 [==============================] - 6s 74ms/step - loss: 0.4141 - accuracy: 0.8457 - val_loss: 0.4302 - val_accuracy: 0.8109\n",
            "Epoch 7/10\n",
            "79/79 [==============================] - 6s 73ms/step - loss: 0.2706 - accuracy: 0.9024 - val_loss: 0.3937 - val_accuracy: 0.8234\n",
            "Epoch 8/10\n",
            "79/79 [==============================] - 6s 74ms/step - loss: 0.1790 - accuracy: 0.9434 - val_loss: 0.4648 - val_accuracy: 0.8266\n",
            "Epoch 9/10\n",
            "79/79 [==============================] - 6s 73ms/step - loss: 0.1293 - accuracy: 0.9636 - val_loss: 0.4129 - val_accuracy: 0.8370\n",
            "Epoch 10/10\n",
            "79/79 [==============================] - 6s 74ms/step - loss: 0.0809 - accuracy: 0.9775 - val_loss: 0.4729 - val_accuracy: 0.8323\n"
          ],
          "name": "stdout"
        }
      ]
    },
    {
      "cell_type": "code",
      "metadata": {
        "id": "IjXM_olonKvZ",
        "colab": {
          "base_uri": "https://localhost:8080/",
          "height": 545
        },
        "outputId": "3a13653f-ec44-48db-c67d-dffe5b419569"
      },
      "source": [
        "# 그래프 그리기\n",
        "plot_graphs(history, 'accuracy')\n",
        "plot_graphs(history, 'loss')"
      ],
      "execution_count": 14,
      "outputs": [
        {
          "output_type": "display_data",
          "data": {
            "image/png": "[encoded data removed]",
            "text/plain": [
              "<Figure size 432x288 with 1 Axes>"
            ]
          },
          "metadata": {
            "tags": [],
            "needs_background": "light"
          }
        },
        {
          "output_type": "display_data",
          "data": {
            "image/png": "[encoded data removed]",
            "text/plain": [
              "<Figure size 432x288 with 1 Axes>"
            ]
          },
          "metadata": {
            "tags": [],
            "needs_background": "light"
          }
        }
      ]
    },
    {
      "cell_type": "markdown",
      "metadata": {
        "id": "9duT_TSAbZIR"
      },
      "source": [
        "### 모델 평가"
      ]
    },
    {
      "cell_type": "code",
      "metadata": {
        "id": "IRO0rJ_Vbi5e",
        "colab": {
          "base_uri": "https://localhost:8080/"
        },
        "outputId": "77cd5402-df37-41bc-fc20-8cb69a2e3406"
      },
      "source": [
        "test_loss, test_acc = model.evaluate(test_dataset)\n",
        "\n",
        "print('Test Loss: {}'.format(test_loss))\n",
        "print('Test Accuracy: {}'.format(test_acc))"
      ],
      "execution_count": 15,
      "outputs": [
        {
          "output_type": "stream",
          "text": [
            "196/196 [==============================] - 6s 29ms/step - loss: 0.4554 - accuracy: 0.8366\n",
            "Test Loss: 0.4553927779197693\n",
            "Test Accuracy: 0.8366400003433228\n"
          ],
          "name": "stdout"
        }
      ]
    },
    {
      "cell_type": "markdown",
      "metadata": {
        "id": "M--byf6EdU7R"
      },
      "source": [
        "### 학습된 모델 활용"
      ]
    },
    {
      "cell_type": "code",
      "metadata": {
        "id": "qeahsFAseLC3",
        "colab": {
          "base_uri": "https://localhost:8080/"
        },
        "outputId": "0f5d6399-2a71-4c1b-9c12-e6f62ebf7b55"
      },
      "source": [
        "# predict on a sample text\n",
        "sample_text = 'The movie was cool. The animation and the graphics were out of this world. I would recommend this movie.'\n",
        "\n",
        "# 정수(integer) sequence로 encode\n",
        "sample_input = encoder.encode(sample_text)\n",
        "\n",
        "# 모델의 input으로 넣어주기 위해, batch 축 추가\n",
        "sample_input = tf.expand_dims(sample_input, axis=0)\n",
        "\n",
        "# 학습된 모델로 긍정/부정 예측\n",
        "prediction = model(sample_input)\n",
        "\n",
        "# 마지막 sigmoid activation이 없으므로, output logit 값이 양수이면 긍정적, 음수이면 부정적임을 의미함\n",
        "print(prediction)\n"
      ],
      "execution_count": 16,
      "outputs": [
        {
          "output_type": "stream",
          "text": [
            "tf.Tensor([[-0.26530147]], shape=(1, 1), dtype=float32)\n"
          ],
          "name": "stdout"
        }
      ]
    },
    {
      "cell_type": "markdown",
      "metadata": {
        "id": "TSLCDUUWfygO"
      },
      "source": [
        "- 다음 문제 실습을 위해, 학습된 모델 삭제"
      ]
    },
    {
      "cell_type": "code",
      "metadata": {
        "id": "cx15KNsPfyGj"
      },
      "source": [
        "del model"
      ],
      "execution_count": 17,
      "outputs": []
    },
    {
      "cell_type": "markdown",
      "metadata": {
        "id": "b-TICyU6hxeq"
      },
      "source": [
        "## RNN 실습\n",
        "데이터셋은 그대로 이용하고 나머지 부분을 직접 구현해보기"
      ]
    },
    {
      "cell_type": "markdown",
      "metadata": {
        "id": "DY38VG8OeSYt"
      },
      "source": [
        "### 문제 1: RNN 모델 만들기\n",
        "- 조건: 딥러닝 모델의 각 layer는 1번부터 8번까지 순서대로 구성\n",
        "1. embedding layer, input_dim: vocab size, output_dim: 128, mask zero: True\n",
        "2. bidirectional, GRU layer, hidden units 64 (Hint: RNN layer를 여러개 쌓는 상황을 고려해야 함)\n",
        "3. layer normalization\n",
        "4. GRU layer, hidden units 32\n",
        "5. layer normalization\n",
        "6. dropout layer, probability 0.2\n",
        "7. dense layer, hidden node 32, ReLU activation\n",
        "8. dense layer, hidden node 1\n",
        "- 딥러닝 모델을 만드는 두가지 방식(tf.keras.Model, tf.keras.models.Sequential) 중 선택하여 만들기"
      ]
    },
    {
      "cell_type": "code",
      "metadata": {
        "id": "X4HfzRHoUi_N",
        "colab": {
          "base_uri": "https://localhost:8080/"
        },
        "outputId": "bda6430e-0ab9-4fa7-e32c-e4e5ddd94b58"
      },
      "source": [
        "# 여기에 문제 1에 대한 코드를 작성하면 됩니다.\n",
        "# Batch Normalization보다 Layer Normalization이 RNN과 잘 어울린다.\n",
        "\n",
        "model = tf.keras.Sequential([\n",
        "                             tf.keras.layers.Embedding(input_dim=encoder.vocab_size, output_dim=128, mask_zero=True),\n",
        "                             tf.keras.layers.Bidirectional(tf.keras.layers.GRU(64, return_sequences=True)),\n",
        "                             tf.keras.layers.LayerNormalization(),\n",
        "                             tf.keras.layers.GRU(32),\n",
        "                             tf.keras.layers.LayerNormalization(),\n",
        "                             tf.keras.layers.Dropout(0.2),\n",
        "                             tf.keras.layers.Dense(32, activation='relu'),\n",
        "                             tf.keras.layers.Dense(1)\n",
        "])\n",
        "\n",
        "model.summary()"
      ],
      "execution_count": 18,
      "outputs": [
        {
          "output_type": "stream",
          "text": [
            "Model: \"sequential_1\"\n",
            "_________________________________________________________________\n",
            "Layer (type)                 Output Shape              Param #   \n",
            "=================================================================\n",
            "embedding_1 (Embedding)      (None, None, 128)         1047680   \n",
            "_________________________________________________________________\n",
            "bidirectional (Bidirectional (None, None, 128)         74496     \n",
            "_________________________________________________________________\n",
            "layer_normalization (LayerNo (None, None, 128)         256       \n",
            "_________________________________________________________________\n",
            "gru_1 (GRU)                  (None, 32)                15552     \n",
            "_________________________________________________________________\n",
            "layer_normalization_1 (Layer (None, 32)                64        \n",
            "_________________________________________________________________\n",
            "dropout (Dropout)            (None, 32)                0         \n",
            "_________________________________________________________________\n",
            "dense_2 (Dense)              (None, 32)                1056      \n",
            "_________________________________________________________________\n",
            "dense_3 (Dense)              (None, 1)                 33        \n",
            "=================================================================\n",
            "Total params: 1,139,137\n",
            "Trainable params: 1,139,137\n",
            "Non-trainable params: 0\n",
            "_________________________________________________________________\n"
          ],
          "name": "stdout"
        }
      ]
    },
    {
      "cell_type": "markdown",
      "metadata": {
        "id": "ZVOIj2jKy77Y"
      },
      "source": [
        "### 문제 2: 옵티마이저(optimizer), 손실 함수, 평가 metric 선택\n",
        "- 조건1: model.compile로 지정\n",
        "- 조건2: binary classification에 적합한 loss 선택, from logits: True\n",
        "- 조건3: Adam optimizer, learning rate: 0.001\n",
        "- 조건4: metric은 accuracy"
      ]
    },
    {
      "cell_type": "code",
      "metadata": {
        "id": "GzvPnCAIn3n5"
      },
      "source": [
        "# 여기에 문제 2에 대한 코드를 작성하면 됩니다.\n",
        "\n",
        "model.compile(loss=tf.keras.losses.BinaryCrossentropy(from_logits=True),\n",
        "              optimizer=tf.keras.optimizers.Adam(0.001),\n",
        "              metrics=['accuracy'])"
      ],
      "execution_count": 19,
      "outputs": []
    },
    {
      "cell_type": "markdown",
      "metadata": {
        "id": "rzJQ4zIRoCD4"
      },
      "source": [
        "### 문제 3: 모델 학습 및 평가\n",
        "- 조건1: model.fit으로 학습\n",
        "- 조건2: 5 epoch 동안 학습\n",
        "- 조건3: 학습 데이터로 `train_dataset` 이용\n",
        "- 조건4: `valid_dataset`으로 validation, 매번 epoch 당 validation step은 20번\n",
        "- 조건5: 학습이 완료된 모델을 이용하여, `test_dataset`으로 모델 평가"
      ]
    },
    {
      "cell_type": "code",
      "metadata": {
        "id": "YPiGdj-yoyy1",
        "colab": {
          "base_uri": "https://localhost:8080/"
        },
        "outputId": "d7755deb-db70-403a-9c3e-27f95ad79d8f"
      },
      "source": [
        "# 여기에 문제 3에 대한 코드를 작성하면 됩니다.\n",
        "\n",
        "history = model.fit(train_dataset, epochs=10,\n",
        "                    validation_data=valid_dataset,\n",
        "                    validation_steps=20)"
      ],
      "execution_count": 20,
      "outputs": [
        {
          "output_type": "stream",
          "text": [
            "Epoch 1/10\n",
            "79/79 [==============================] - 26s 218ms/step - loss: 0.7206 - accuracy: 0.5123 - val_loss: 0.6562 - val_accuracy: 0.6031\n",
            "Epoch 2/10\n",
            "79/79 [==============================] - 15s 182ms/step - loss: 0.5024 - accuracy: 0.7605 - val_loss: 0.6012 - val_accuracy: 0.7016\n",
            "Epoch 3/10\n",
            "79/79 [==============================] - 15s 182ms/step - loss: 0.2352 - accuracy: 0.9061 - val_loss: 0.7150 - val_accuracy: 0.7008\n",
            "Epoch 4/10\n",
            "79/79 [==============================] - 15s 185ms/step - loss: 0.0953 - accuracy: 0.9658 - val_loss: 0.9071 - val_accuracy: 0.7000\n",
            "Epoch 5/10\n",
            "79/79 [==============================] - 15s 185ms/step - loss: 0.0352 - accuracy: 0.9904 - val_loss: 1.0631 - val_accuracy: 0.7125\n",
            "Epoch 6/10\n",
            "79/79 [==============================] - 15s 183ms/step - loss: 0.0289 - accuracy: 0.9892 - val_loss: 1.3483 - val_accuracy: 0.7141\n",
            "Epoch 7/10\n",
            "79/79 [==============================] - 15s 186ms/step - loss: 0.0214 - accuracy: 0.9927 - val_loss: 1.5227 - val_accuracy: 0.6914\n",
            "Epoch 8/10\n",
            "79/79 [==============================] - 15s 185ms/step - loss: 0.0132 - accuracy: 0.9954 - val_loss: 1.5407 - val_accuracy: 0.6836\n",
            "Epoch 9/10\n",
            "79/79 [==============================] - 15s 183ms/step - loss: 0.0233 - accuracy: 0.9911 - val_loss: 1.3995 - val_accuracy: 0.7141\n",
            "Epoch 10/10\n",
            "79/79 [==============================] - 15s 187ms/step - loss: 0.0102 - accuracy: 0.9963 - val_loss: 1.4809 - val_accuracy: 0.7203\n"
          ],
          "name": "stdout"
        }
      ]
    },
    {
      "cell_type": "markdown",
      "metadata": {
        "id": "Kxai5XAyBXpw"
      },
      "source": [
        "train accuracy는 0.99인 반면에 val accuracy는 0.67로 차이가 많이나 Overfitting이 발생한 것으로 알 수 있다.\n",
        "이 경우는 모델의 복잡도가 높은 경우에 발생한다. 이는 모델이 굉장히 견고해서 모든 데이터를 다 학습해 overfitting이 발생한 것으로 알 수 있다."
      ]
    },
    {
      "cell_type": "code",
      "metadata": {
        "id": "mV8GeWHmyn9q",
        "colab": {
          "base_uri": "https://localhost:8080/"
        },
        "outputId": "7e256701-e4f4-40f7-b0f7-27db0f8201bb"
      },
      "source": [
        "# testdataset으로 모델 평가\n",
        "test_loss, test_acc = model.evaluate(test_dataset)\n",
        "\n",
        "print('Test Loss: {:.3f}'.format(test_loss))\n",
        "print('Test Accuracy: {:.3f}'.format(test_acc))"
      ],
      "execution_count": 21,
      "outputs": [
        {
          "output_type": "stream",
          "text": [
            "196/196 [==============================] - 16s 78ms/step - loss: 1.4564 - accuracy: 0.7177\n",
            "Test Loss: 1.456\n",
            "Test Accuracy: 0.718\n"
          ],
          "name": "stdout"
        }
      ]
    },
    {
      "cell_type": "code",
      "metadata": {
        "id": "1jLL0z2M7KWb",
        "colab": {
          "base_uri": "https://localhost:8080/",
          "height": 543
        },
        "outputId": "c0916e14-168a-4a08-ab53-0d3d450e293f"
      },
      "source": [
        "plot_graphs(history, 'accuracy')\n",
        "plot_graphs(history, 'loss')"
      ],
      "execution_count": 22,
      "outputs": [
        {
          "output_type": "display_data",
          "data": {
            "image/png": "[encoded data removed]",
            "text/plain": [
              "<Figure size 432x288 with 1 Axes>"
            ]
          },
          "metadata": {
            "tags": [],
            "needs_background": "light"
          }
        },
        {
          "output_type": "display_data",
          "data": {
            "image/png": "[encoded data removed]",
            "text/plain": [
              "<Figure size 432x288 with 1 Axes>"
            ]
          },
          "metadata": {
            "tags": [],
            "needs_background": "light"
          }
        }
      ]
    },
    {
      "cell_type": "markdown",
      "metadata": {
        "id": "e3mWxlmMpZOp"
      },
      "source": [
        "### 문제 4: 학습된 모델 활용"
      ]
    },
    {
      "cell_type": "markdown",
      "metadata": {
        "id": "GVcHmG8wu8Q3"
      },
      "source": [
        "- 가상의 리뷰를 직접 작성하여 모델의 input으로 넣어보기\n",
        "- 조건: 긍적적인 리뷰 1개와 부정적인 리뷰 1개를 작성하여, 모델의 예측값을 확인해보기"
      ]
    },
    {
      "cell_type": "code",
      "metadata": {
        "id": "YZcA_y8iu7mv",
        "colab": {
          "base_uri": "https://localhost:8080/"
        },
        "outputId": "87c07b24-9f35-481f-b399-5df99866454b"
      },
      "source": [
        "# 여기에 문제 4에 대한 코드를 작성하면 됩니다.\n",
        "\n",
        "sample_text = 'The movie was cool. The animation and the graphics were out of this world. I would recommend this movie. good good good'\n",
        "sample_input = encoder.encode(sample_text)\n",
        "sample_input = tf.expand_dims(sample_input, axis=0)\n",
        "prediction = model(sample_input)\n",
        "print(prediction)\n"
      ],
      "execution_count": 23,
      "outputs": [
        {
          "output_type": "stream",
          "text": [
            "tf.Tensor([[2.8884177]], shape=(1, 1), dtype=float32)\n"
          ],
          "name": "stdout"
        }
      ]
    },
    {
      "cell_type": "code",
      "metadata": {
        "id": "Q76hZtg9A5mL",
        "colab": {
          "base_uri": "https://localhost:8080/"
        },
        "outputId": "5addeefe-506f-4409-ee4e-e20b6169ac17"
      },
      "source": [
        "sample_text = 'This movie is ambiguous. There was also an interesting part, but most of the time was boring. bad bad bad'\n",
        "sample_input = encoder.encode(sample_text)\n",
        "sample_input = tf.expand_dims(sample_input, axis=0)\n",
        "prediction = model(sample_input)\n",
        "print(prediction)"
      ],
      "execution_count": 24,
      "outputs": [
        {
          "output_type": "stream",
          "text": [
            "tf.Tensor([[-6.722139]], shape=(1, 1), dtype=float32)\n"
          ],
          "name": "stdout"
        }
      ]
    },
    {
      "cell_type": "markdown",
      "metadata": {
        "id": "tWT4kWu2dsul"
      },
      "source": [
        "- (참고) 학습 데이터를 많이 사용하면, 오버피팅이 어느정도 해결되고 더 나은 성능을 보인다는 것을 확인할 수 있음"
      ]
    }
  ]
}