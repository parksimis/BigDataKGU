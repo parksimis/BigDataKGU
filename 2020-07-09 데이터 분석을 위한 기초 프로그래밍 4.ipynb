{
 "cells": [
  {
   "cell_type": "markdown",
   "metadata": {},
   "source": [
    "### DIY \n",
    "* 다음 코드에서 빈칸에 무엇을 넣어야 결과처럼 출력되는지 네모를 채우기"
   ]
  },
  {
   "cell_type": "code",
   "execution_count": 201,
   "metadata": {},
   "outputs": [
    {
     "name": "stdout",
     "output_type": "stream",
     "text": [
      "2020-08-20 14:57:00\n"
     ]
    }
   ],
   "source": [
    "from datetime import datetime\n",
    "\n",
    "timeString = \"20.08.20 02:57 PM\"\n",
    "parsedTime = datetime.strptime(timeString, \"%y.%m.%d %I:%M %p\")\n",
    "print(parsedTime)"
   ]
  },
  {
   "cell_type": "markdown",
   "metadata": {},
   "source": [
    "## Dictionary \n",
    "\n",
    "* Key-Value 쌍으로 저장되는 자료형  \n",
    "  \n",
    "  \n",
    "* Key를 통해 value를 접근할 때 사용된다.  \n",
    "  \n",
    "  \n",
    "* Dictionary 내의 Key들은 중복 불가  \n"
   ]
  },
  {
   "cell_type": "code",
   "execution_count": 202,
   "metadata": {},
   "outputs": [
    {
     "name": "stdout",
     "output_type": "stream",
     "text": [
      "{'key1': 'hello', 'key2': 'bye'}\n"
     ]
    }
   ],
   "source": [
    "# DIctionary 자료형 생성\n",
    "\n",
    "dictionary = {\"key1\" : \"hello\", \"key2\" : \"bye\"}\n",
    "print(dictionary)"
   ]
  },
  {
   "cell_type": "code",
   "execution_count": 203,
   "metadata": {},
   "outputs": [
    {
     "name": "stdout",
     "output_type": "stream",
     "text": [
      "hello\n",
      "bye\n"
     ]
    }
   ],
   "source": [
    "# Dictionary 자료형 접근\n",
    "\n",
    "print(dictionary[\"key1\"])\n",
    "print(dictionary[\"key2\"])"
   ]
  },
  {
   "cell_type": "code",
   "execution_count": 204,
   "metadata": {},
   "outputs": [
    {
     "name": "stdout",
     "output_type": "stream",
     "text": [
      "{'lunch': 'dosirak', 'dinner': 'pizza'}\n"
     ]
    }
   ],
   "source": [
    "# Dictionary 자료형 생성 #2\n",
    "\n",
    "dictionary = dict(lunch = 'dosirak', dinner='pizza')\n",
    "print(dictionary)"
   ]
  },
  {
   "cell_type": "code",
   "execution_count": 205,
   "metadata": {},
   "outputs": [
    {
     "name": "stdout",
     "output_type": "stream",
     "text": [
      "lunch \t dosirak\n",
      "dinner \t pizza\n",
      "===============\n"
     ]
    }
   ],
   "source": [
    "# Dictionary 내 key-value 쌍을 출력하는 함수 생성\n",
    "## 모든 key들과 그에 해당하는 value들을 탭으로 구분하여 출력\n",
    "\n",
    "def pd(dictionary):\n",
    "    for key in dictionary:\n",
    "        print(key, \"\\t\", dictionary.get(key))\n",
    "    print(\"===============\")\n",
    "    \n",
    "pd(dictionary)"
   ]
  },
  {
   "cell_type": "code",
   "execution_count": 206,
   "metadata": {},
   "outputs": [
    {
     "name": "stdout",
     "output_type": "stream",
     "text": [
      "None\n"
     ]
    }
   ],
   "source": [
    "# Dictionary에 key가 없을 경우?\n",
    "print(dictionary.get('a chim'))\n",
    "dictionary[\"a chim\"] = 'gook bab'"
   ]
  },
  {
   "cell_type": "code",
   "execution_count": 207,
   "metadata": {},
   "outputs": [
    {
     "name": "stdout",
     "output_type": "stream",
     "text": [
      "dict_keys(['lunch', 'dinner', 'a chim']) dict_values(['dosirak', 'pizza', 'gook bab'])\n",
      "dict_items([('lunch', 'dosirak'), ('dinner', 'pizza'), ('a chim', 'gook bab')])\n",
      "\n",
      "lunch \t dosirak\n",
      "dinner \t pizza\n",
      "a chim \t gook bab\n"
     ]
    }
   ],
   "source": [
    "print(dictionary.keys(), dictionary.values())\n",
    "print(dictionary.items(), end=\"\\n\\n\")\n",
    "\n",
    "# 함수 pd와 같은 결과\n",
    "for k, v in dictionary.items():\n",
    "    print(k, \"\\t\", v)"
   ]
  },
  {
   "cell_type": "code",
   "execution_count": 208,
   "metadata": {},
   "outputs": [
    {
     "name": "stdout",
     "output_type": "stream",
     "text": [
      "True\n",
      "False\n",
      "True\n",
      " \n",
      "True\n",
      "False\n"
     ]
    }
   ],
   "source": [
    "# Dictionary를 if문 조건으로 활용하는 방법\n",
    "\n",
    "print(\"a chim\" in dictionary.keys())\n",
    "print(\"a chim\" in dictionary.values())\n",
    "print(\"a chim\" in dictionary)\n",
    "print(\" \")\n",
    "print(\"gook bab\" in dictionary.values())\n",
    "\n",
    "# in dictionary로 작성시 key로 간주해 False Return\n",
    "print(\"gook bab\" in dictionary)\n"
   ]
  },
  {
   "cell_type": "code",
   "execution_count": 209,
   "metadata": {},
   "outputs": [
    {
     "name": "stdout",
     "output_type": "stream",
     "text": [
      "lunch \t dosirak\n",
      "dinner \t pizza\n",
      "a chim \t gook bab\n",
      "===============\n",
      "lunch \t dosirak\n",
      "dinner \t pizza\n",
      "===============\n"
     ]
    }
   ],
   "source": [
    "# Dictionary에서 요소 제거 방법\n",
    "pd(dictionary)\n",
    "del dictionary['a chim']\n",
    "pd(dictionary)\n"
   ]
  },
  {
   "cell_type": "code",
   "execution_count": 210,
   "metadata": {},
   "outputs": [
    {
     "name": "stdout",
     "output_type": "stream",
     "text": [
      "dosirak\n",
      "\n",
      "dinner \t pizza\n",
      "===============\n"
     ]
    }
   ],
   "source": [
    "# 한번 사용하고 지우고 싶을때 pop\n",
    "\n",
    "aa = dictionary.pop('lunch')\n",
    "print(aa)\n",
    "print(\"\")\n",
    "pd(dictionary)"
   ]
  },
  {
   "cell_type": "markdown",
   "metadata": {},
   "source": [
    "## DIY \n",
    "예시 문자열  :  \n",
    "\n",
    " In order to provide international learning opportunities for both professors\n",
    "and students, KGU has gone into partnership with approximately 50\n",
    "foreign universities, including George Washington University, Long Island\n",
    "University, Michigan State University, Texas A&M University in the United\n",
    "States, Far Eastern State University in Russia, University of International\n",
    "Business and Economics, Tsinghua University in China, and Osaka Sangyo\n",
    "University, Kokugakuin University in Japan. About 80,000 graduates of KGU\n",
    "have played a significant role in every field of our country.  \n",
    "  \n",
    "* 문제  \n",
    "* 해당 문제열을 소문자화하고 \",\", \".\"을 제거.  \n",
    "* 그 후에 단어 단위로 분리  \n",
    "* Dictionary에 각 단어들이 몇 번씩 나오는지 저장  \n",
    "* 그 중 가장 빈번히 나오는 단어와 횟수를 출력\n"
   ]
  },
  {
   "cell_type": "code",
   "execution_count": 211,
   "metadata": {},
   "outputs": [
    {
     "name": "stdout",
     "output_type": "stream",
     "text": [
      "in order to provide international learning opportunities for both professors and students kgu has gone into partnership with approximately 50 foreign universities including george washington university long island university michigan state university texas a&m university in the united states far eastern state university in russia university of international business and economics tsinghua university in china and osaka sangyo university kokugakuin university in japan about 80000 graduates of kgu have played a significant role in every field of our country\n"
     ]
    }
   ],
   "source": [
    "text =  \"In order to provide international learning opportunities for both professors and students, KGU has gone into partnership with approximately 50 foreign universities, including George Washington University, Long Island University, Michigan State University, Texas A&M University in the United States, Far Eastern State University in Russia, University of International Business and Economics, Tsinghua University in China, and Osaka Sangyo University, Kokugakuin University in Japan. About 80,000 graduates of KGU have played a significant role in every field of our country.\"\n",
    "\n",
    "text = text.lower().replace(\",\", \"\").replace(\".\", \"\")\n",
    "print(text)\n",
    "\n",
    "word_count = {}\n",
    "for word in text.split():\n",
    "    if word in word_count:\n",
    "        word_count[word] += 1\n",
    "    else:\n",
    "        word_count[word] = 1\n"
   ]
  },
  {
   "cell_type": "code",
   "execution_count": 212,
   "metadata": {},
   "outputs": [
    {
     "data": {
      "text/plain": [
       "{'in': 6,\n",
       " 'order': 1,\n",
       " 'to': 1,\n",
       " 'provide': 1,\n",
       " 'international': 2,\n",
       " 'learning': 1,\n",
       " 'opportunities': 1,\n",
       " 'for': 1,\n",
       " 'both': 1,\n",
       " 'professors': 1,\n",
       " 'and': 3,\n",
       " 'students': 1,\n",
       " 'kgu': 2,\n",
       " 'has': 1,\n",
       " 'gone': 1,\n",
       " 'into': 1,\n",
       " 'partnership': 1,\n",
       " 'with': 1,\n",
       " 'approximately': 1,\n",
       " '50': 1,\n",
       " 'foreign': 1,\n",
       " 'universities': 1,\n",
       " 'including': 1,\n",
       " 'george': 1,\n",
       " 'washington': 1,\n",
       " 'university': 9,\n",
       " 'long': 1,\n",
       " 'island': 1,\n",
       " 'michigan': 1,\n",
       " 'state': 2,\n",
       " 'texas': 1,\n",
       " 'a&m': 1,\n",
       " 'the': 1,\n",
       " 'united': 1,\n",
       " 'states': 1,\n",
       " 'far': 1,\n",
       " 'eastern': 1,\n",
       " 'russia': 1,\n",
       " 'of': 3,\n",
       " 'business': 1,\n",
       " 'economics': 1,\n",
       " 'tsinghua': 1,\n",
       " 'china': 1,\n",
       " 'osaka': 1,\n",
       " 'sangyo': 1,\n",
       " 'kokugakuin': 1,\n",
       " 'japan': 1,\n",
       " 'about': 1,\n",
       " '80000': 1,\n",
       " 'graduates': 1,\n",
       " 'have': 1,\n",
       " 'played': 1,\n",
       " 'a': 1,\n",
       " 'significant': 1,\n",
       " 'role': 1,\n",
       " 'every': 1,\n",
       " 'field': 1,\n",
       " 'our': 1,\n",
       " 'country': 1}"
      ]
     },
     "execution_count": 212,
     "metadata": {},
     "output_type": "execute_result"
    }
   ],
   "source": [
    "word_count"
   ]
  },
  {
   "cell_type": "code",
   "execution_count": 213,
   "metadata": {},
   "outputs": [
    {
     "name": "stdout",
     "output_type": "stream",
     "text": [
      "가장 빈번히 나오는 단어와 횟수 : university , 9\n"
     ]
    }
   ],
   "source": [
    "# dictionary에서 가장 빈번히 나오는 단어와 횟수 출력\n",
    "\n",
    "max_value = - 1\n",
    "max_key = None\n",
    "\n",
    "for key, value in word_count.items():\n",
    "    if max_value < value:\n",
    "        max_value = value\n",
    "        max_key = key\n",
    "\n",
    "print(\"가장 빈번히 나오는 단어와 횟수 : {:s} , {}\".format(max_key, max_value))"
   ]
  },
  {
   "cell_type": "code",
   "execution_count": 214,
   "metadata": {},
   "outputs": [],
   "source": [
    "# word_count를 value를 기준으로 내림차순으로 정렬\n",
    "word_count_list = sorted(word_count.items(), key=lambda t:t[1], reverse=True)"
   ]
  },
  {
   "cell_type": "code",
   "execution_count": 215,
   "metadata": {},
   "outputs": [
    {
     "data": {
      "text/plain": [
       "[('university', 9),\n",
       " ('in', 6),\n",
       " ('and', 3),\n",
       " ('of', 3),\n",
       " ('international', 2),\n",
       " ('kgu', 2),\n",
       " ('state', 2),\n",
       " ('order', 1),\n",
       " ('to', 1),\n",
       " ('provide', 1),\n",
       " ('learning', 1),\n",
       " ('opportunities', 1),\n",
       " ('for', 1),\n",
       " ('both', 1),\n",
       " ('professors', 1),\n",
       " ('students', 1),\n",
       " ('has', 1),\n",
       " ('gone', 1),\n",
       " ('into', 1),\n",
       " ('partnership', 1),\n",
       " ('with', 1),\n",
       " ('approximately', 1),\n",
       " ('50', 1),\n",
       " ('foreign', 1),\n",
       " ('universities', 1),\n",
       " ('including', 1),\n",
       " ('george', 1),\n",
       " ('washington', 1),\n",
       " ('long', 1),\n",
       " ('island', 1),\n",
       " ('michigan', 1),\n",
       " ('texas', 1),\n",
       " ('a&m', 1),\n",
       " ('the', 1),\n",
       " ('united', 1),\n",
       " ('states', 1),\n",
       " ('far', 1),\n",
       " ('eastern', 1),\n",
       " ('russia', 1),\n",
       " ('business', 1),\n",
       " ('economics', 1),\n",
       " ('tsinghua', 1),\n",
       " ('china', 1),\n",
       " ('osaka', 1),\n",
       " ('sangyo', 1),\n",
       " ('kokugakuin', 1),\n",
       " ('japan', 1),\n",
       " ('about', 1),\n",
       " ('80000', 1),\n",
       " ('graduates', 1),\n",
       " ('have', 1),\n",
       " ('played', 1),\n",
       " ('a', 1),\n",
       " ('significant', 1),\n",
       " ('role', 1),\n",
       " ('every', 1),\n",
       " ('field', 1),\n",
       " ('our', 1),\n",
       " ('country', 1)]"
      ]
     },
     "execution_count": 215,
     "metadata": {},
     "output_type": "execute_result"
    }
   ],
   "source": [
    "word_count_list"
   ]
  }
 ],
 "metadata": {
  "kernelspec": {
   "display_name": "Python 3",
   "language": "python",
   "name": "python3"
  },
  "language_info": {
   "codemirror_mode": {
    "name": "ipython",
    "version": 3
   },
   "file_extension": ".py",
   "mimetype": "text/x-python",
   "name": "python",
   "nbconvert_exporter": "python",
   "pygments_lexer": "ipython3",
   "version": "3.7.1"
  }
 },
 "nbformat": 4,
 "nbformat_minor": 4
}
