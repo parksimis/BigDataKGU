{
  "nbformat": 4,
  "nbformat_minor": 0,
  "metadata": {
    "colab": {
      "name": "2020-07-20 Decision Tree.ipynb",
      "provenance": [],
      "collapsed_sections": []
    },
    "kernelspec": {
      "name": "python3",
      "display_name": "Python 3"
    }
  },
  "cells": [
    {
      "cell_type": "markdown",
      "metadata": {
        "id": "YLuSgu6xQTeJ",
        "colab_type": "text"
      },
      "source": [
        "## 의사결정 나무 실습\n",
        "\n",
        "\n",
        "### 데이터 불러오기 및 분할하기\n"
      ]
    },
    {
      "cell_type": "code",
      "metadata": {
        "id": "u9TNcvI0QOl3",
        "colab_type": "code",
        "colab": {
          "base_uri": "https://localhost:8080/",
          "height": 35
        },
        "outputId": "8331bbf0-c6d7-448e-98fd-a3c1cfd36c29"
      },
      "source": [
        "from sklearn import datasets\n",
        "import numpy as np\n",
        "data = datasets.load_breast_cancer()\n",
        "\n",
        "x = data['data']\n",
        "y = data['target']\n",
        "\n",
        "print(x.shape, y.shape)"
      ],
      "execution_count": 37,
      "outputs": [
        {
          "output_type": "stream",
          "text": [
            "(569, 30) (569,)\n"
          ],
          "name": "stdout"
        }
      ]
    },
    {
      "cell_type": "code",
      "metadata": {
        "id": "_rJzVGujQZTH",
        "colab_type": "code",
        "colab": {
          "base_uri": "https://localhost:8080/",
          "height": 35
        },
        "outputId": "f0d1fb5d-df98-4213-ac72-162a6c98f70a"
      },
      "source": [
        "from sklearn.model_selection import train_test_split\n",
        "\n",
        "# 데이터 나누기 - 6:2:2 비율\n",
        "x_train, x_test, y_train, y_test = train_test_split(x, y, test_size=0.2, random_state=1)\n",
        "x_train, x_val, y_train, y_val = train_test_split(x_train, y_train, test_size=0.25, random_state=1)\n",
        "\n",
        "print(x_train.shape, x_val.shape, x_test.shape)"
      ],
      "execution_count": 38,
      "outputs": [
        {
          "output_type": "stream",
          "text": [
            "(341, 30) (114, 30) (114, 30)\n"
          ],
          "name": "stdout"
        }
      ]
    },
    {
      "cell_type": "markdown",
      "metadata": {
        "id": "mKh_sOuhQcJt",
        "colab_type": "text"
      },
      "source": [
        "### 모델 학습 및 평가하기\n",
        "\n",
        "Scikit-learn의 [DecisionTreeClassifier](https://scikit-learn.org/stable/modules/generated/sklearn.tree.DecisionTreeClassifier.html?highlight=decisiontree#sklearn.tree.DecisionTreeClassifier) 모델을 사용하면 수업 시간에 다루었던 의사결정 나무 모델을 만들어 볼 수 있다."
      ]
    },
    {
      "cell_type": "code",
      "metadata": {
        "id": "p2ipa0sOQbf-",
        "colab_type": "code",
        "colab": {}
      },
      "source": [
        "from sklearn.tree import DecisionTreeClassifier"
      ],
      "execution_count": 39,
      "outputs": []
    },
    {
      "cell_type": "code",
      "metadata": {
        "id": "L7_pOdcnQgDB",
        "colab_type": "code",
        "colab": {
          "base_uri": "https://localhost:8080/",
          "height": 125
        },
        "outputId": "669351a9-8f6c-4be9-9be3-0bf86f93f778"
      },
      "source": [
        "# 의사결정 나무 모델 학습하기\n",
        "\n",
        "tree = DecisionTreeClassifier()\n",
        "tree.fit(x_train, y_train)\n"
      ],
      "execution_count": 40,
      "outputs": [
        {
          "output_type": "execute_result",
          "data": {
            "text/plain": [
              "DecisionTreeClassifier(ccp_alpha=0.0, class_weight=None, criterion='gini',\n",
              "                       max_depth=None, max_features=None, max_leaf_nodes=None,\n",
              "                       min_impurity_decrease=0.0, min_impurity_split=None,\n",
              "                       min_samples_leaf=1, min_samples_split=2,\n",
              "                       min_weight_fraction_leaf=0.0, presort='deprecated',\n",
              "                       random_state=None, splitter='best')"
            ]
          },
          "metadata": {
            "tags": []
          },
          "execution_count": 40
        }
      ]
    },
    {
      "cell_type": "code",
      "metadata": {
        "id": "H14e8SlbQoJ1",
        "colab_type": "code",
        "colab": {
          "base_uri": "https://localhost:8080/",
          "height": 71
        },
        "outputId": "5150244c-10ea-45bc-b478-34c514422a37"
      },
      "source": [
        "# To-Do : Training accuracy 및 confusion matrix\n",
        "from sklearn.metrics import accuracy_score, confusion_matrix\n",
        "\n",
        "pred_train = tree.predict(x_train)\n",
        "print(\"Train Accuracy : {}\".format(accuracy_score(y_train, pred_train)))\n",
        "confusion_matrix(y_train, pred_train)"
      ],
      "execution_count": 41,
      "outputs": [
        {
          "output_type": "stream",
          "text": [
            "Train Accuracy : 1.0\n"
          ],
          "name": "stdout"
        },
        {
          "output_type": "execute_result",
          "data": {
            "text/plain": [
              "array([[130,   0],\n",
              "       [  0, 211]])"
            ]
          },
          "metadata": {
            "tags": []
          },
          "execution_count": 41
        }
      ]
    },
    {
      "cell_type": "code",
      "metadata": {
        "id": "skS_rrxMRV2M",
        "colab_type": "code",
        "colab": {
          "base_uri": "https://localhost:8080/",
          "height": 71
        },
        "outputId": "ff1ebe29-a030-45fa-a811-5224146aae0d"
      },
      "source": [
        "# To-Do : Validation accuracy 및 confusion matrix\n",
        "pred_val = tree.predict(x_val)\n",
        "print(\"validation Accuracy : {}\".format(accuracy_score(y_val, pred_val)))\n",
        "confusion_matrix(y_val, pred_val)"
      ],
      "execution_count": 42,
      "outputs": [
        {
          "output_type": "stream",
          "text": [
            "validation Accuracy : 0.9035087719298246\n"
          ],
          "name": "stdout"
        },
        {
          "output_type": "execute_result",
          "data": {
            "text/plain": [
              "array([[34,  6],\n",
              "       [ 5, 69]])"
            ]
          },
          "metadata": {
            "tags": []
          },
          "execution_count": 42
        }
      ]
    },
    {
      "cell_type": "code",
      "metadata": {
        "id": "v0b_xf4SRjGB",
        "colab_type": "code",
        "colab": {
          "base_uri": "https://localhost:8080/",
          "height": 35
        },
        "outputId": "edc868e0-2fc0-4315-9a57-54a1a3440504"
      },
      "source": [
        "# To-Do : 보다 좋은 의사결정 나무 모델 만들기\n",
        "\n",
        "pruned_tree = DecisionTreeClassifier(max_depth=4, min_samples_leaf=4)\n",
        "pruned_tree.fit(x_train, y_train)\n",
        "pruned_tree.score(x_train, y_train)"
      ],
      "execution_count": 43,
      "outputs": [
        {
          "output_type": "execute_result",
          "data": {
            "text/plain": [
              "0.9824046920821115"
            ]
          },
          "metadata": {
            "tags": []
          },
          "execution_count": 43
        }
      ]
    },
    {
      "cell_type": "code",
      "metadata": {
        "id": "7wKlKD_bUVDt",
        "colab_type": "code",
        "colab": {
          "base_uri": "https://localhost:8080/",
          "height": 71
        },
        "outputId": "cea63f1f-cc61-4e6a-f862-92e75f021ca3"
      },
      "source": [
        "pred_prunned_train = pruned_tree.predict(x_train)\n",
        "print(\"Train Accuracy : {}\".format(accuracy_score(y_train, pred_prunned_train)))\n",
        "confusion_matrix(y_train, pred_prunned_train)"
      ],
      "execution_count": 44,
      "outputs": [
        {
          "output_type": "stream",
          "text": [
            "Train Accuracy : 0.9824046920821115\n"
          ],
          "name": "stdout"
        },
        {
          "output_type": "execute_result",
          "data": {
            "text/plain": [
              "array([[129,   1],\n",
              "       [  5, 206]])"
            ]
          },
          "metadata": {
            "tags": []
          },
          "execution_count": 44
        }
      ]
    },
    {
      "cell_type": "code",
      "metadata": {
        "id": "k_DZbtFuUgZa",
        "colab_type": "code",
        "colab": {
          "base_uri": "https://localhost:8080/",
          "height": 71
        },
        "outputId": "0ed87648-c021-403d-c5da-a6123f4575b8"
      },
      "source": [
        "pred_prunned_valid = pruned_tree.predict(x_val)\n",
        "print(\"validation Accuracy : {}\".format(accuracy_score(y_val, pred_prunned_valid)))\n",
        "confusion_matrix(y_val, pred_prunned_valid)"
      ],
      "execution_count": 45,
      "outputs": [
        {
          "output_type": "stream",
          "text": [
            "validation Accuracy : 0.9649122807017544\n"
          ],
          "name": "stdout"
        },
        {
          "output_type": "execute_result",
          "data": {
            "text/plain": [
              "array([[38,  2],\n",
              "       [ 2, 72]])"
            ]
          },
          "metadata": {
            "tags": []
          },
          "execution_count": 45
        }
      ]
    }
  ]
}