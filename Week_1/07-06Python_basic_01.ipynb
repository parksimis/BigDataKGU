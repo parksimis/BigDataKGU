{
 "cells": [
  {
   "cell_type": "markdown",
   "metadata": {
    "colab_type": "text",
    "id": "zIQ9tqHH4EfD"
   },
   "source": [
    "## **print()**  \n",
    "\n",
    "괄호 안의 내용을 출력하라는 함수  \n",
    "괄호 안에는 문자, 숫자, 변수들이 들어갈 수 있다.  \n",
    "* 문자 : 큰 따옴표 또는 작은 따옴표 안에 들어가야 함.  \n",
    "* 숫자 : 따옴표 없이 숫자만 출력이 가능하다.\n"
   ]
  },
  {
   "cell_type": "code",
   "execution_count": 6,
   "metadata": {
    "colab": {
     "base_uri": "https://localhost:8080/",
     "height": 89
    },
    "colab_type": "code",
    "id": "PTgpc8OB1q5R",
    "outputId": "9fcaf87a-f8b7-4e26-b754-7e5bd8101f6b"
   },
   "outputs": [
    {
     "name": "stdout",
     "output_type": "stream",
     "text": [
      "hello world\n",
      "sdasdasd\n",
      "123\n",
      "123\n"
     ]
    }
   ],
   "source": [
    "print(\"hello world\")\n",
    "print('sdasdasd')\n",
    "print(123)\n",
    "print('123')"
   ]
  },
  {
   "cell_type": "markdown",
   "metadata": {
    "colab_type": "text",
    "id": "CUII-BPU59BE"
   },
   "source": [
    "## 변수  \n",
    "특정 데이터를 저장하는 곳.  \n",
    "저장 방법 : 변수이름 = 저장하고 싶은 데이터  \n",
    "변수는 따옴표 없이 사용한다.  \n",
    "\n"
   ]
  },
  {
   "cell_type": "code",
   "execution_count": 16,
   "metadata": {
    "colab": {
     "base_uri": "https://localhost:8080/",
     "height": 143
    },
    "colab_type": "code",
    "id": "7ULSoRNw2TTv",
    "outputId": "2caca494-e944-4990-d398-92b9e9b05873"
   },
   "outputs": [
    {
     "name": "stdout",
     "output_type": "stream",
     "text": [
      "4\n",
      "a\n",
      "34\n",
      "39\n",
      "6.8\n",
      "6\n",
      "4\n"
     ]
    }
   ],
   "source": [
    "\n",
    "a = 4 \n",
    "print(a)\n",
    "print('a')\n",
    "a, c = 34 , 7\n",
    "print(a)\n",
    "b = 5\n",
    "print(a + b)\n",
    "print(a / b)\n",
    "print(a // b)\n",
    "print(a % b)"
   ]
  },
  {
   "cell_type": "markdown",
   "metadata": {
    "colab_type": "text",
    "id": "F0fiood96Kp6"
   },
   "source": [
    "- 변수와 문자 섞어서 출력하기  \n",
    "괄호 내에서 쉼표로 분리하여야 한다.  \n",
    "마지막으로 저장한 변수의 값들이 적용된다.  \n",
    "변수들의 연산식들 적으면 연산결과가 출력된다.\n"
   ]
  },
  {
   "cell_type": "code",
   "execution_count": 17,
   "metadata": {
    "colab": {
     "base_uri": "https://localhost:8080/",
     "height": 71
    },
    "colab_type": "code",
    "id": "lFdHfbTK4D6q",
    "outputId": "4bff4aad-1abc-499f-82d7-1e54116e54b6"
   },
   "outputs": [
    {
     "name": "stdout",
     "output_type": "stream",
     "text": [
      "저는 5 층에 살아요.\n",
      "차는 지하 34 층에 있어요\n",
      "꼭대기 층은 170 층이예요\n"
     ]
    }
   ],
   "source": [
    "print(\"저는\", b, \"층에 살아요.\")\n",
    "print(\"차는 지하\", a, \"층에 있어요\")\n",
    "print(\"꼭대기 층은\", a*b, \"층이예요\")"
   ]
  },
  {
   "cell_type": "markdown",
   "metadata": {
    "colab_type": "text",
    "id": "ZufrZ35i6lBM"
   },
   "source": [
    "## 구구단 출력하기\n",
    "-  원시적인 방법으로는 90줄을 써야함  \n",
    "\n",
    ": 변수를 활용하면 줄일 수 있음\n",
    "\n",
    "\n",
    "\n"
   ]
  },
  {
   "cell_type": "code",
   "execution_count": 26,
   "metadata": {
    "colab": {
     "base_uri": "https://localhost:8080/",
     "height": 143
    },
    "colab_type": "code",
    "id": "m1F1NEHw6rym",
    "outputId": "801c26fa-9f47-49d6-bc8a-eb81e7181e55"
   },
   "outputs": [
    {
     "name": "stdout",
     "output_type": "stream",
     "text": [
      "구구단 4 단을 출력합니다.\n",
      "4 * 2 =  8\n",
      "4 * 3 =  12\n",
      "4 * 4 =  16\n",
      "4 * 5 =  20\n",
      "4 * 6 =  24\n",
      "4 * 7 =  28\n"
     ]
    }
   ],
   "source": [
    "dan = 4\n",
    "print(\"구구단\", dan, \"단을 출력합니다.\")\n",
    "print(dan, \"* 2 = \", dan*2)\n",
    "print(dan, \"* 3 = \", dan*3)\n",
    "print(dan, \"* 4 = \", dan*4)\n",
    "print(dan, \"* 5 = \", dan*5)\n",
    "print(dan, \"* 6 = \", dan*6)\n",
    "print(dan, \"* 7 = \", dan*7)"
   ]
  },
  {
   "cell_type": "code",
   "execution_count": 28,
   "metadata": {
    "colab": {
     "base_uri": "https://localhost:8080/",
     "height": 35
    },
    "colab_type": "code",
    "id": "FRz7qs2u8Dov",
    "outputId": "ba59b68e-1b48-4aad-a801-b7f9e237ed0d"
   },
   "outputs": [
    {
     "name": "stdout",
     "output_type": "stream",
     "text": [
      "233\n"
     ]
    }
   ],
   "source": [
    "print(2, end=\"\")\n",
    "print(33)"
   ]
  },
  {
   "cell_type": "markdown",
   "metadata": {
    "colab_type": "text",
    "id": "K4yTmIsY8b3N"
   },
   "source": [
    "```end=''``` 옵션을 사용하면 print 함수를 같은 줄에 사용하는 것이 가능하다.\n"
   ]
  },
  {
   "cell_type": "markdown",
   "metadata": {
    "colab_type": "text",
    "id": "QxzHxIvK7tSr"
   },
   "source": [
    "## 키보드로부터 입력받기\n",
    "### - input\n",
    "\n",
    "사용자에게 데이터를 키보드로 입력받는 역할  \n",
    "입력을 받아서 보통 변수에 문자로 저장한다.  \n"
   ]
  },
  {
   "cell_type": "code",
   "execution_count": 36,
   "metadata": {
    "colab": {
     "base_uri": "https://localhost:8080/",
     "height": 71
    },
    "colab_type": "code",
    "id": "iTndEPX-6hMA",
    "outputId": "756c34c2-a9f8-4197-9dd2-1626a2b61c9c"
   },
   "outputs": [
    {
     "name": "stdout",
     "output_type": "stream",
     "text": [
      "이름 : 박선익\n",
      "나이 : 26\n",
      "제 이름은  박선익 이고 26 살 입니다.\n"
     ]
    }
   ],
   "source": [
    "name = input(\"이름 : \")\n",
    "age = input('나이 : ')\n",
    "print(\"제 이름은 \", name,\"이고\", age,\"살 입니다.\")\n",
    "\n"
   ]
  },
  {
   "cell_type": "code",
   "execution_count": 37,
   "metadata": {
    "colab": {
     "base_uri": "https://localhost:8080/",
     "height": 190
    },
    "colab_type": "code",
    "id": "pM3RGWk0_HES",
    "outputId": "194a2397-06e9-4535-8d9e-3da210b5472a"
   },
   "outputs": [
    {
     "ename": "TypeError",
     "evalue": "ignored",
     "output_type": "error",
     "traceback": [
      "\u001b[0;31m---------------------------------------------------------------------------\u001b[0m",
      "\u001b[0;31mTypeError\u001b[0m                                 Traceback (most recent call last)",
      "\u001b[0;32m<ipython-input-37-a84316040d1e>\u001b[0m in \u001b[0;36m<module>\u001b[0;34m()\u001b[0m\n\u001b[0;32m----> 1\u001b[0;31m \u001b[0mbroAge\u001b[0m \u001b[0;34m=\u001b[0m \u001b[0mage\u001b[0m \u001b[0;34m-\u001b[0m \u001b[0;36m2\u001b[0m\u001b[0;34m\u001b[0m\u001b[0;34m\u001b[0m\u001b[0m\n\u001b[0m\u001b[1;32m      2\u001b[0m \u001b[0mprint\u001b[0m\u001b[0;34m(\u001b[0m\u001b[0;34m\"제 동생은\"\u001b[0m\u001b[0;34m,\u001b[0m \u001b[0mbroAge\u001b[0m\u001b[0;34m,\u001b[0m \u001b[0;34m'살 입니다.'\u001b[0m\u001b[0;34m)\u001b[0m\u001b[0;34m\u001b[0m\u001b[0;34m\u001b[0m\u001b[0m\n",
      "\u001b[0;31mTypeError\u001b[0m: unsupported operand type(s) for -: 'str' and 'int'"
     ]
    }
   ],
   "source": [
    "broAge = age - 2\n",
    "print(\"제 동생은\", broAge, '살 입니다.')"
   ]
  },
  {
   "cell_type": "markdown",
   "metadata": {
    "colab_type": "text",
    "id": "IjNDDnG3-saP"
   },
   "source": [
    "### - int\n",
    "* 괄호 안의 문자를 숫자로 바꿔주는 역할\n",
    "* age가 아닌 int(age)를 사용하면 에러 없이 실행 가능\n"
   ]
  },
  {
   "cell_type": "code",
   "execution_count": 39,
   "metadata": {
    "colab": {
     "base_uri": "https://localhost:8080/",
     "height": 35
    },
    "colab_type": "code",
    "id": "5-06VwPb-oPF",
    "outputId": "359f19cf-7941-4992-ca78-98a88a1bcea5"
   },
   "outputs": [
    {
     "name": "stdout",
     "output_type": "stream",
     "text": [
      "제 동생은 24 살 입니다.\n"
     ]
    }
   ],
   "source": [
    "broAge = int(age) - 2\n",
    "print(\"제 동생은\", broAge, '살 입니다.')"
   ]
  },
  {
   "cell_type": "markdown",
   "metadata": {
    "colab_type": "text",
    "id": "iiH1AFos_mwz"
   },
   "source": [
    "## DIY : 섭씨(C) 온도를 입력받아 화씨(F) 온도로 출력하기\n",
    "\n"
   ]
  },
  {
   "cell_type": "code",
   "execution_count": 44,
   "metadata": {
    "colab": {
     "base_uri": "https://localhost:8080/",
     "height": 53
    },
    "colab_type": "code",
    "id": "SQXBSCCw_sCX",
    "outputId": "77a2d981-ba64-41d0-b699-78a30457a3bb"
   },
   "outputs": [
    {
     "name": "stdout",
     "output_type": "stream",
     "text": [
      "온도를 입력 : 25\n",
      "77.0\n"
     ]
    }
   ],
   "source": [
    "celcius = int(input('온도를 입력 : '))\n",
    "fahrenheit = (celcius * 1.8) + 32\n",
    "print(fahrenheit)"
   ]
  },
  {
   "cell_type": "markdown",
   "metadata": {
    "colab_type": "text",
    "id": "4j_FhavaCmmQ"
   },
   "source": [
    "### 문자열(String)\n",
    "* 문자들이 모인 것, 텍스트\n",
    "* 인터넷에서 데이터 수집을 할 때 텍스트 데이터를 상당히 많이 접하게 된다.\n",
    "* 실제로 문자 하나하나씩 저장이 된다.\n",
    "* index(순서)는 1이 아닌 0부터 시작\n",
    "  \n",
    "* 대괄호를 사용하여 문자열의 일부분을 표현 가능하다.\n"
   ]
  },
  {
   "cell_type": "code",
   "execution_count": 48,
   "metadata": {
    "colab": {
     "base_uri": "https://localhost:8080/",
     "height": 125
    },
    "colab_type": "code",
    "id": "qJxbMZmH_CCH",
    "outputId": "6bc0c82b-536a-4352-dcc6-b571857a5ae7"
   },
   "outputs": [
    {
     "name": "stdout",
     "output_type": "stream",
     "text": [
      "r\n",
      "n\n",
      "\n",
      "i a\n",
      "ngry\n",
      "am hun\n"
     ]
    }
   ],
   "source": [
    "str = 'i am hungry'\n",
    "print(str[-2])\n",
    "print(str[7], end=\"\\n\\n\")\n",
    "\n",
    "print(str[:3])\n",
    "print(str[7:])\n",
    "print(str[2:-3])"
   ]
  },
  {
   "cell_type": "markdown",
   "metadata": {
    "colab_type": "text",
    "id": "uPnY_qr5FgJM"
   },
   "source": [
    "## replace()\n",
    "* 문자열을 바꾸는 함수\n",
    "* 첫 인자 문자열을 두 번째 문자열을 바꿈.\n",
    "* 원래 문자열을 바꾸는 함수가 아니라 새로운 문자열을 만들어준다."
   ]
  },
  {
   "cell_type": "code",
   "execution_count": 49,
   "metadata": {
    "colab": {
     "base_uri": "https://localhost:8080/",
     "height": 53
    },
    "colab_type": "code",
    "id": "CiCtRGdTFf46",
    "outputId": "4d5bb5f5-3998-48e9-a4cd-86beb968b0cf"
   },
   "outputs": [
    {
     "name": "stdout",
     "output_type": "stream",
     "text": [
      "i am angry\n",
      "i am hungry\n"
     ]
    }
   ],
   "source": [
    "str2 = str.replace('hu', 'a')\n",
    "print(str2)\n",
    "print(str)"
   ]
  },
  {
   "cell_type": "markdown",
   "metadata": {
    "colab_type": "text",
    "id": "oVL13DyBF3hv"
   },
   "source": [
    "* 첫 인자를 찾지 못했을 경우 아무것도 바꾸지 않는다.\n",
    "\n"
   ]
  },
  {
   "cell_type": "code",
   "execution_count": 51,
   "metadata": {
    "colab": {
     "base_uri": "https://localhost:8080/",
     "height": 35
    },
    "colab_type": "code",
    "id": "I3t-eXuhFfaE",
    "outputId": "ec4d52e5-d875-4878-b329-2c738ae4758e"
   },
   "outputs": [
    {
     "name": "stdout",
     "output_type": "stream",
     "text": [
      "i am hungry\n"
     ]
    }
   ],
   "source": [
    "str3 = str.replace('gryt', 'ting')\n",
    "print(str3)"
   ]
  },
  {
   "cell_type": "markdown",
   "metadata": {
    "colab_type": "text",
    "id": "CkxRQ_UiF9fh"
   },
   "source": [
    "## strip()\n",
    "앞뒤의 공백이 있을 시에 제거한 새로운 문자열을 만들어준다.\n"
   ]
  },
  {
   "cell_type": "code",
   "execution_count": 57,
   "metadata": {
    "colab": {
     "base_uri": "https://localhost:8080/",
     "height": 107
    },
    "colab_type": "code",
    "id": "CB5bpLrPF7_5",
    "outputId": "e0015e85-627e-40a4-db36-4f68df6e1291"
   },
   "outputs": [
    {
     "name": "stdout",
     "output_type": "stream",
     "text": [
      "     앞뒤로 공백이 있어요        \n",
      "앞뒤로 공백이 있어요\n",
      "     앞뒤로 공백이 있어요        \n",
      "앞뒤로공백이있어요\n",
      "앞뒤로 공백이 있어요\n"
     ]
    }
   ],
   "source": [
    "str4 = \"     앞뒤로 공백이 있어요        \"\n",
    "print(str4)\n",
    "print(str4.strip())\n",
    "print(str4)\n",
    "print(str4.replace(\" \", \"\"))\n",
    "print(str4.lstrip().rstrip())"
   ]
  },
  {
   "cell_type": "markdown",
   "metadata": {
    "colab_type": "text",
    "id": "880eT2PAHWTv"
   },
   "source": [
    "## split()\n",
    "특정 문자열로 문자열을 분리하는 함수\n"
   ]
  },
  {
   "cell_type": "code",
   "execution_count": 59,
   "metadata": {
    "colab": {
     "base_uri": "https://localhost:8080/",
     "height": 107
    },
    "colab_type": "code",
    "id": "lw331D1XHVoJ",
    "outputId": "24efd04a-dd77-41a5-b56c-52b15a24fd44"
   },
   "outputs": [
    {
     "name": "stdout",
     "output_type": "stream",
     "text": [
      "#\n",
      "\n",
      "오늘\n",
      "점심은\n",
      "뭐먹을까\n"
     ]
    }
   ],
   "source": [
    "str5 = \"#오늘#점심은#뭐먹을까\"\n",
    "print(str5[3])\n",
    "splitResult = str5.split(\"#\")\n",
    "print(splitResult[0])\n",
    "print(splitResult[1])\n",
    "print(splitResult[2])\n",
    "print(splitResult[3])"
   ]
  },
  {
   "cell_type": "markdown",
   "metadata": {
    "colab_type": "text",
    "id": "7-u9SWqvHxHw"
   },
   "source": [
    "## DIY \n",
    "다음 문자열이 주어졌을 때,  \n",
    "diyString = \"처음에 글이 있고 중간에는         공백이 길고, 끝부분에는 공백이 짧아요   \"\n",
    "\n",
    "* 1. 앞뒤 공백을 제거하고\n",
    "* 2. \"공백\"이라는 문자열로 분리를 하고 난 결과의 index가 1인 문자열의\n",
    "* 3. index가 3인 문자는?"
   ]
  },
  {
   "cell_type": "code",
   "execution_count": 76,
   "metadata": {
    "colab": {
     "base_uri": "https://localhost:8080/",
     "height": 53
    },
    "colab_type": "code",
    "id": "zLaT5eKcHwPa",
    "outputId": "c9c47fad-be8d-4894-a4ae-0c483cda6a05"
   },
   "outputs": [
    {
     "name": "stdout",
     "output_type": "stream",
     "text": [
      "고\n",
      "고\n"
     ]
    }
   ],
   "source": [
    "diyString = \"처음에 글이 있고 중간에는         공백이 길고, 끝부분에는 공백이 짧아요   \"\n",
    "\n",
    "afterStrip = diyString.strip()\n",
    "afterSplit = afterStrip.split('공백')\n",
    "\n",
    "afterindex1 = afterSplit[1]\n",
    "afterindex3 = afterindex1[3]\n",
    "print(afterindex3)\n",
    "\n",
    "# different way, but same reusult\n",
    "result = diyString.strip().split('공백')[1][3]\n",
    "print(result)"
   ]
  },
  {
   "cell_type": "markdown",
   "metadata": {
    "colab_type": "text",
    "id": "GAQmuj1yLdmv"
   },
   "source": [
    "## if문\n",
    "* 주어진 조건을 만족했을 떄 특정 명령을 수행한다.\n",
    "\n",
    "\n",
    "## else 문\n",
    "* if문이 거짓일 경우에만 특정 명령을 수행함.\n",
    "\n",
    "* 명령 앞에 들여쓰기 필수\n",
    "* else 단독으로 쓸 수 없고, if와 함꼐 쓰여야 함 \n",
    "* 짝을 이루는 if와 else는 동일한 수준의 들여쓰기 필수\n",
    "* else와 if와 달리 조건이 붙지 않음.\n"
   ]
  },
  {
   "cell_type": "code",
   "execution_count": 78,
   "metadata": {
    "colab": {
     "base_uri": "https://localhost:8080/",
     "height": 71
    },
    "colab_type": "code",
    "id": "IE11AjG2Lb9a",
    "outputId": "faa64821-e695-4f46-bc78-999af252adb2"
   },
   "outputs": [
    {
     "name": "stdout",
     "output_type": "stream",
     "text": [
      "a는 15보다 큽니다.\n",
      "=====================\n",
      "=====================\n"
     ]
    }
   ],
   "source": [
    "a  = 20\n",
    "if a > 15:\n",
    "  print(\"a는 15보다 큽니다.\")\n",
    "print(\"=====================\")\n",
    "\n",
    "a = 10\n",
    "if a > 15:\n",
    "  print(\"a는 15보다 큽니다.\")\n",
    "print(\"=====================\")"
   ]
  },
  {
   "cell_type": "code",
   "execution_count": 79,
   "metadata": {
    "colab": {
     "base_uri": "https://localhost:8080/",
     "height": 53
    },
    "colab_type": "code",
    "id": "lXzJ3bBAL-zN",
    "outputId": "8419a113-91a6-40fa-bfbf-bdd1261fee04"
   },
   "outputs": [
    {
     "name": "stdout",
     "output_type": "stream",
     "text": [
      "a는 15보다 작습니다.\n",
      "=====================\n"
     ]
    }
   ],
   "source": [
    "a = 10\n",
    "\n",
    "if a > 15:\n",
    "  print(\"a는 15보다 큽니다.\")\n",
    "else:\n",
    "  print(\"a는 15보다 작습니다.\")\n",
    "\n",
    "print(\"=====================\")"
   ]
  }
 ],
 "metadata": {
  "colab": {
   "collapsed_sections": [],
   "name": "2020-07-06 데이터 분석을 위한 기초 프로그래밍 .ipynb",
   "provenance": []
  },
  "kernelspec": {
   "display_name": "Python 3",
   "language": "python",
   "name": "python3"
  },
  "language_info": {
   "codemirror_mode": {
    "name": "ipython",
    "version": 3
   },
   "file_extension": ".py",
   "mimetype": "text/x-python",
   "name": "python",
   "nbconvert_exporter": "python",
   "pygments_lexer": "ipython3",
   "version": "3.7.7"
  }
 },
 "nbformat": 4,
 "nbformat_minor": 1
}
