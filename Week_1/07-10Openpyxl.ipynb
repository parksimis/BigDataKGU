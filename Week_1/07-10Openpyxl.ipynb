{
 "cells": [
  {
   "cell_type": "markdown",
   "metadata": {},
   "source": [
    "## Openpyxl 패키지\n",
    "\n",
    "* 구글에서 \"파이썬 엑셀 파일\" 검색시 openpyxl, pandas 패키지가 많이 등장함\n"
   ]
  },
  {
   "cell_type": "code",
   "execution_count": 1,
   "metadata": {},
   "outputs": [],
   "source": [
    "# openpyxl imoort\n",
    "\n",
    "import openpyxl\n",
    "\n",
    "# 파일 쓰기\n",
    "\n",
    "wb = openpyxl.Workbook()\n",
    "\n",
    "sheet = wb.active\n",
    "sheet[\"B1\"] = \"testing\"\n",
    "sheet.cell(row=3, column=5).value = 35\n",
    "sheet[\"C2\"] = \"testing2\"\n",
    "sheet.append([\"a\", \"b\", \"c\", \"d\"])\n",
    "wb.save(\"test.xlsx\")"
   ]
  },
  {
   "cell_type": "code",
   "execution_count": 2,
   "metadata": {},
   "outputs": [
    {
     "name": "stdout",
     "output_type": "stream",
     "text": [
      "testing \t testing2\n",
      "None \ttesting \tNone \tNone \tNone \t\n",
      "None \tNone \ttesting2 \tNone \tNone \t\n",
      "None \tNone \tNone \tNone \t35 \t\n",
      "a \tb \tc \td \tNone \t\n"
     ]
    }
   ],
   "source": [
    "# 파일 읽기\n",
    "\n",
    "filename = \"test.xlsx\"\n",
    "\n",
    "wb = openpyxl.load_workbook(filename)\n",
    "\n",
    "sheet = wb.worksheets[0]\n",
    "print(sheet[\"B1\"].value, \"\\t\", sheet[\"C2\"].value)\n",
    "\n",
    "for row in sheet.rows:\n",
    "    for cell in row:\n",
    "        print(cell.value, \"\\t\", end=\"\")\n",
    "    print()"
   ]
  },
  {
   "cell_type": "markdown",
   "metadata": {},
   "source": [
    "## 다음 과정/조건들을 만족하는 텍스트 분석기 만들기  \n",
    "* http://147.46.178.16:33333/nytimes.txt 다운로드 및 저장  \n",
    "* 해당 텍스트 파일을 읽고, 다음 작업들을 거친 후 변수에 저장\n",
    "    * 다음 문자들을 제거 : 개행, 마침표, 쉼표, 쌍따옴표\n",
    "    * 소문자화\n",
    "  \n",
    "  \n",
    "* 새로운 변수에 위 문자열을 공백으로 분리\n",
    "* DIctionary 변수를 만들고 반복문을 통해 다음 내용을 저장\n",
    "    * Key에는 나온 단어, value에는 단어가 나온 횟수\n",
    "    * stop words = 한글에서 '은는이가'와 같은 단어들(분석에 도움 X)\n",
    "  \n",
    " "
   ]
  },
  {
   "cell_type": "code",
   "execution_count": 3,
   "metadata": {},
   "outputs": [],
   "source": [
    "filename = 'nytimes.txt'\n",
    "stopwords = [\"a\", \"the\", \"is\", \"an\", \"be\", \"to\", \"of\", \"at\", \"for\", \"are\", \"that\", \"by\", \"with\", \"in\", \"on\", \"and\", \"has\", \"as\"]\n",
    "\n",
    "infile = open(filename, \"r\", encoding='UTF8')\n",
    "\n",
    "for line in infile:\n",
    "    line.strip()\n",
    "    line += line\n",
    "    \n",
    "line = line.replace(\"\\n\", \"\").replace(\".\", \"\").replace(\",\",\"\").replace('\"', \"\").replace('\"\"', \"\")\n",
    "line = line.lower()\n",
    "word_dic = {}\n",
    "\n",
    "for word in line.split():\n",
    "    if word in word_dic:\n",
    "        if word in stopwords:\n",
    "            del word_dic[word]\n",
    "        else :\n",
    "            word_dic[word] += 1\n",
    "    else:\n",
    "        word_dic[word] = 1"
   ]
  },
  {
   "cell_type": "code",
   "execution_count": 4,
   "metadata": {},
   "outputs": [
    {
     "data": {
      "text/plain": [
       "{'on': 1,\n",
       " 'monday': 2,\n",
       " 'gov': 2,\n",
       " 'brian': 2,\n",
       " 'kemp': 2,\n",
       " 'georgia': 4,\n",
       " 'posted': 2,\n",
       " 'selfie': 2,\n",
       " 'wearing': 4,\n",
       " 'mask': 6,\n",
       " 'decorated': 2,\n",
       " 'university': 2,\n",
       " 'georgia’s': 2,\n",
       " 'bulldog': 2,\n",
       " 'mascot': 2,\n",
       " 'wear': 2,\n",
       " 'your': 2,\n",
       " '—': 2,\n",
       " 'go': 2,\n",
       " 'dawgs!': 2,\n",
       " 'he': 2,\n",
       " 'wrote': 2,\n",
       " 'senator': 2,\n",
       " 'mitch': 2,\n",
       " 'mcconnell': 2,\n",
       " 'kentucky': 2,\n",
       " 'who': 2,\n",
       " 'regularly': 2,\n",
       " 'wears': 2,\n",
       " 'public': 2,\n",
       " 'said': 2,\n",
       " 'washington': 2,\n",
       " 'this': 2,\n",
       " 'week': 2,\n",
       " 'there': 2,\n",
       " 'must': 2,\n",
       " 'no': 2,\n",
       " 'stigma': 2,\n",
       " 'about': 2,\n",
       " 'maskson': 1,\n",
       " 'masks': 1}"
      ]
     },
     "execution_count": 4,
     "metadata": {},
     "output_type": "execute_result"
    }
   ],
   "source": [
    "word_dic"
   ]
  },
  {
   "cell_type": "code",
   "execution_count": 5,
   "metadata": {},
   "outputs": [],
   "source": [
    "wordDict = {}\n",
    "maxNum = 0\n",
    "stopwords = [\"a\", \"the\", \"is\", \"an\", \"be\", \"to\", \"of\", \"at\", \"for\", \"are\", \"that\", \"by\", \"with\", \"in\", \"on\", \"and\", \"has\", \"as\"]\n",
    "f = open(\"nytimes.txt\", \"r\", encoding=\"utf8\")\n",
    "for line in f:\n",
    "    splitS = line.replace(\"\\n\", \"\").replace(\"\\\"\", \"\").replace(\".\", \"\").replace(\",\", \"\").replace(\"  \", \" \").lower().strip().split(\" \")\n",
    "    for word in splitS:\n",
    "        if word in stopwords or word == \"\":\n",
    "            continue\n",
    "        if word in wordDict:\n",
    "            wordDict[word] += 1\n",
    "            if maxNum < wordDict.get(word):\n",
    "                maxNum = wordDict.get(word)\n",
    "        else:\n",
    "            wordDict[word] = 1\n",
    "f.close()\n",
    "\n",
    "# for k, v in wordDict.items():\n",
    "#     print(k, \"\\t\", v)\n",
    "\n",
    "lineNum = [1] * maxNum\n",
    "\n",
    "import openpyxl\n",
    "wb = openpyxl.Workbook()\n",
    "sheet = wb.active\n",
    "\n",
    "for word, count in wordDict.items():\n",
    "    sheet.cell(row=lineNum[count-1], column=count).value = word\n",
    "    lineNum[count - 1] += 1\n",
    "wb.save(\"nytimes.xlsx\")"
   ]
  }
 ],
 "metadata": {
  "kernelspec": {
   "display_name": "Python 3",
   "language": "python",
   "name": "python3"
  },
  "language_info": {
   "codemirror_mode": {
    "name": "ipython",
    "version": 3
   },
   "file_extension": ".py",
   "mimetype": "text/x-python",
   "name": "python",
   "nbconvert_exporter": "python",
   "pygments_lexer": "ipython3",
   "version": "3.7.7"
  }
 },
 "nbformat": 4,
 "nbformat_minor": 4
}
