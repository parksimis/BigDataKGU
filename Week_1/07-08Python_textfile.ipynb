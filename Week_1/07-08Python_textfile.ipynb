{
 "cells": [
  {
   "cell_type": "markdown",
   "metadata": {},
   "source": [
    "## DIY #5  가위 바위 보 게임\n",
    "\n",
    "* 가위/바위/보/종료 중 입력을 받음  \n",
    "* 컴퓨터가 낸 것과 비교하여 결과 및 총 전력 출력  \n",
    "  \n",
    "  "
   ]
  },
  {
   "cell_type": "code",
   "execution_count": 1,
   "metadata": {},
   "outputs": [
    {
     "name": "stdout",
     "output_type": "stream",
     "text": [
      "가위/바위/보/종료 중에 내주세요: 가위\n",
      "당신이 이겼습니다.\n",
      "가위/바위/보/종료 중에 내주세요: 가위\n",
      "비겼습니다.\n",
      "가위/바위/보/종료 중에 내주세요: 가위\n",
      "비겼습니다.\n",
      "가위/바위/보/종료 중에 내주세요: 가위\n",
      "당신이 졌습니다.\n",
      "가위/바위/보/종료 중에 내주세요: 가위\n",
      "당신이 이겼습니다.\n",
      "가위/바위/보/종료 중에 내주세요: 가위\n",
      "당신이 이겼습니다.\n",
      "가위/바위/보/종료 중에 내주세요: 가위\n",
      "당신이 졌습니다.\n",
      "가위/바위/보/종료 중에 내주세요: 가위\n",
      "비겼습니다.\n",
      "가위/바위/보/종료 중에 내주세요: 가위\n",
      "당신이 졌습니다.\n",
      "가위/바위/보/종료 중에 내주세요: 가위\n",
      "당신이 이겼습니다.\n",
      "가위/바위/보/종료 중에 내주세요: 종료\n",
      "수고하셨습니다.\n",
      "당신의 전적은 4 승, 3 무 3 패 입니다.\n",
      "총 게임 횟수는 :  10 입니다.\n",
      "승률은  0.4 입니다\n"
     ]
    }
   ],
   "source": [
    "import random\n",
    "\n",
    "component = [\"가위\", \"바위\", \"보\"]\n",
    "stats = [0, 0, 0]\n",
    "\n",
    "while True:\n",
    "    \n",
    "    computer = component[random.randint(0, 2)]\n",
    "    player = input('가위/바위/보/종료 중에 내주세요: ')\n",
    "\n",
    "\n",
    "    if player == \"가위\":\n",
    "        if computer ==\"보\":\n",
    "            print(\"당신이 이겼습니다.\")\n",
    "            stats[0] += 1\n",
    "            \n",
    "        elif computer == \"바위\":\n",
    "            print(\"당신이 졌습니다.\")\n",
    "            stats[2] += 1\n",
    "        else:\n",
    "            print(\"비겼습니다.\")\n",
    "            stats[1] += 1\n",
    "\n",
    "    elif player == \"바위\":\n",
    "        if computer ==\"가위\":\n",
    "            print(\"당신이 이겼습니다.\")\n",
    "            stats[0] += 1\n",
    "        elif computer == \"보\":\n",
    "            print(\"당신이 졌습니다.\")\n",
    "            stats[2] += 1\n",
    "        else:\n",
    "            print(\"비겼습니다.\")\n",
    "\n",
    "    elif player == \"보\":\n",
    "        if computer ==\"바위\":\n",
    "            print(\"당신이 이겼습니다.\")\n",
    "            stats[0] += 1\n",
    "        elif computer == \"가위\":\n",
    "            print(\"당신이 졌습니다.\")\n",
    "            stats[2] += 1\n",
    "        else:\n",
    "            print(\"비겼습니다.\")\n",
    "            stats[1] += 1\n",
    "            \n",
    "    elif player == \"종료\":\n",
    "        print(\"수고하셨습니다.\")\n",
    "        print(\"당신의 전적은\", stats[0],\"승,\",stats[1],\"무\", stats[2], \"패 입니다.\")\n",
    "        print(\"총 게임 횟수는 : \", sum(stats), \"입니다.\")\n",
    "        print(\"승률은 \", stats[0]/sum(stats), \"입니다\")\n",
    "        break\n",
    "        \n",
    "    else:\n",
    "        print(\"다시 내주세요.\")\n",
    "    "
   ]
  },
  {
   "cell_type": "markdown",
   "metadata": {},
   "source": [
    "## DIY #6 숫자야구 게임\n",
    "\n"
   ]
  },
  {
   "cell_type": "code",
   "execution_count": 3,
   "metadata": {},
   "outputs": [
    {
     "name": "stdout",
     "output_type": "stream",
     "text": [
      "['3', '7', '1', '6']\n",
      "0을 제외한 4자리 숫자(를 중복없이 입력해주세요 : 123456\n",
      "중복이 있네요.\n",
      "0을 제외한 4자리 숫자(를 중복없이 입력해주세요 : 1234\n",
      "0 스트라이크, 2 볼, 2 아웃\n",
      "0을 제외한 4자리 숫자(를 중복없이 입력해주세요 : 3716\n",
      "2 번 만에 모두 맞췄습니다.\n"
     ]
    }
   ],
   "source": [
    "import random\n",
    "\n",
    "answer = []\n",
    "\n",
    "# 컴퓨터의 답을 생성 \n",
    "\n",
    "while len(answer) < 4:\n",
    "    ran_num = str(random.randint(1, 9))\n",
    "    if ran_num not in answer:\n",
    "        answer.append(ran_num)\n",
    "\n",
    "print(answer)\n",
    "\n",
    "# 중복을 확인함\n",
    "# 중복 없으면 True, 있으면 False\n",
    "def numberChecker(number):\n",
    "    #1\n",
    "    '''\n",
    "    for i in range(0, len(number)-1):\n",
    "        for j in range(i + 1, len(number)):\n",
    "            if number[i] == number[j]:\n",
    "                return False\n",
    "    return True\n",
    "    '''\n",
    "    #2 use set\n",
    "    if len(number) == len(set(number)) and len(number)==4:\n",
    "        return True\n",
    "    return False\n",
    "    \n",
    "    \n",
    "        \n",
    "\n",
    "\n",
    "def countStrikeBall(answer, user):\n",
    "    strike, ball, out = 0, 0, 0\n",
    "        \n",
    "    for i in range(4):\n",
    "        if user[i] in answer:\n",
    "            if answer[i] == user[i]:\n",
    "                strike += 1\n",
    "            else:\n",
    "                ball += 1\n",
    "        else:\n",
    "            out += 1\n",
    "            \n",
    "    return strike, ball, out\n",
    "        \n",
    "    \n",
    "#사용자 시도를 평가함\n",
    "count = 0\n",
    "while True:\n",
    "    \n",
    "    user = input(\"0을 제외한 4자리 숫자(를 중복없이 입력해주세요 : \")\n",
    "    \n",
    "    if numberChecker(user) == True:\n",
    "        count += 1\n",
    "        strike, ball, out = countStrikeBall(answer, user)\n",
    "\n",
    "        if strike == 4:\n",
    "            print(count,\"번 만에 모두 맞췄습니다.\")\n",
    "            break\n",
    "        else : \n",
    "            print(\"{} 스트라이크, {} 볼, {} 아웃\".format(strike, ball, out))\n",
    "\n",
    "    else:\n",
    "        print(\"중복이 있네요.\")\n",
    "        continue\n",
    "    \n",
    "        \n"
   ]
  },
  {
   "cell_type": "markdown",
   "metadata": {},
   "source": [
    "## 파일 읽기\n",
    "* 검색어 목록 등이 텍스트 파일에 저장되어 있을 경우.. 등 \n",
    "  \n",
    "  \n",
    "  \n",
    "* r : 파일을 읽기(read) 용도로 열기  \n",
    "* encoding : 한글이 깨질 경우가 있음  \n",
    "* 텍스트 파일을 리스트로 간주하면, 요소 하나하나는 텍스트 한 줄이 됨.  \n",
    "* print 함수에 end 옵션을 주면 줄 끝에 이를 출력한다. end 옵션의 기본값에는 \"\\n\"가 들어가서  \n",
    "자동으로 줄바꿈이 되는 효과인데, end=\"\"는 줄바꿈을 하지 말라는 뜻이다. line의 끝에 이미 \"\\n\"이 있기 때문이다."
   ]
  },
  {
   "cell_type": "code",
   "execution_count": 9,
   "metadata": {},
   "outputs": [
    {
     "name": "stdout",
     "output_type": "stream",
     "text": [
      "a\n",
      "b\n",
      "c\n",
      "d\n",
      "e\n",
      "f\n"
     ]
    }
   ],
   "source": [
    "f = open(\"keywords.txt\", \"r\", encoding=\"utf8\")\n",
    "for line in f:\n",
    "    print(line, end=\"\")\n",
    "f.close()"
   ]
  },
  {
   "cell_type": "markdown",
   "metadata": {},
   "source": [
    "### try-except-(else)\n",
    "* 프로그램 실행시 오류가 언제 발생할지 예측 불가능  \n",
    "* 예외 처리를 하지 않을 경우에는 프로그램이 중단된다.  \n",
    "* 예외 처리를 통해 예외가 있더라도 프로그램이 끝까지 실행될 수 있도록 함\n",
    "\n"
   ]
  },
  {
   "cell_type": "code",
   "execution_count": 17,
   "metadata": {},
   "outputs": [
    {
     "name": "stdout",
     "output_type": "stream",
     "text": [
      "there  was an error opening file keywor.txt\n",
      "a\n",
      "b\n",
      "c\n",
      "d\n",
      "e\n",
      "f\n",
      "keywords.txt 파일 읽기가 끝났습니다.\n"
     ]
    }
   ],
   "source": [
    "files = ['keywor.txt', 'keywords.txt']\n",
    "for filename in files:\n",
    "    \n",
    "    try :\n",
    "        f = open(filename, \"r\", encoding='utf-8')\n",
    "        for line in f:\n",
    "            print(line, end=\"\")\n",
    "        f.close\n",
    "    except:\n",
    "        print(\"there  was an error opening file\", filename)\n",
    "    else:\n",
    "        print(filename, \"파일 읽기가 끝났습니다.\")"
   ]
  },
  {
   "cell_type": "markdown",
   "metadata": {},
   "source": [
    "## 파일 쓰기 \n",
    "* 출력 결과를 화면에 계속 출력하다보면 메모리 부족 현상 발생 가능  \n",
    "* 화면에만 결과 출력시 프로그램이 실수로 종료되면 결과물 분실됨  \n",
    "* 프로그램을 오래 돌려야 하는 경우에는 결과를 필히 파일에 기록  \n",
    "  \n",
    "   \n",
    "* w: 파일을 쓰기 (write)용도로 새로 열기, **기존에 파일이 있었으면 지워진다**,  \n",
    "하루 내내 프로그램을 돌려서 파일에 쓰게 했다가, 파일을 백업하지 않고 그대로 새로 돌리면 기존 파일이 없어지니 꼭 유의  \n",
    "* a : 파일의 뒤쪽에 이어쓰기 (append) 용도로 새로 열기  \n",
    "* write() : print() 함수처럼 쓰면 됨, 대신 따옴표 밖의 쉼표는 인자 구분으로 인식하기 때문에 쓰면 안됨, 마지막에 줄바꿈을 위해 \\n 필수"
   ]
  },
  {
   "cell_type": "code",
   "execution_count": 25,
   "metadata": {},
   "outputs": [],
   "source": [
    "f = open(\"test.txt\", \"w\", encoding='utf-8')\n",
    "for i in range(10):\n",
    "    f.write(str(i) + \"번째 줄입니다\\n\")\n",
    "f.close()"
   ]
  },
  {
   "cell_type": "code",
   "execution_count": 27,
   "metadata": {},
   "outputs": [
    {
     "name": "stdout",
     "output_type": "stream",
     "text": [
      "0번째 줄입니다\n",
      "1번째 줄입니다\n",
      "2번째 줄입니다\n",
      "3번째 줄입니다\n",
      "4번째 줄입니다\n",
      "5번째 줄입니다\n",
      "6번째 줄입니다\n",
      "7번째 줄입니다\n",
      "8번째 줄입니다\n",
      "9번째 줄입니다\n"
     ]
    },
    {
     "data": {
      "text/plain": [
       "<function TextIOWrapper.close()>"
      ]
     },
     "execution_count": 27,
     "metadata": {},
     "output_type": "execute_result"
    }
   ],
   "source": [
    "f = open(\"test.txt\", \"r\", encoding='utf-8')\n",
    "for line in f:\n",
    "    print(line, end=\"\")\n",
    "f.close"
   ]
  },
  {
   "cell_type": "markdown",
   "metadata": {},
   "source": [
    "## 날짜 처리  \n",
    "### 필요성  \n",
    "* ISO 8601 국제 날짜 표준은 YYYY-MM-DD임, 예) 2020-01-17  \n",
    "* 데이터 처리를 하다 보면 온갖 날짜 표시 형식을 마주친다.  \n",
    "  \n",
    "  \n",
    "### datetime\n",
    "* 현재시각, 날짜출력, 시간출력"
   ]
  },
  {
   "cell_type": "code",
   "execution_count": 28,
   "metadata": {},
   "outputs": [
    {
     "name": "stdout",
     "output_type": "stream",
     "text": [
      "2020-07-08 17:09:24.302178\n",
      "2020-07-08\n",
      "17:09:24.302178\n"
     ]
    }
   ],
   "source": [
    "from datetime import datetime\n",
    "x = datetime.now()\n",
    "print(x)\n",
    "print(x.date())\n",
    "print(x.time())"
   ]
  },
  {
   "cell_type": "code",
   "execution_count": 34,
   "metadata": {},
   "outputs": [
    {
     "name": "stdout",
     "output_type": "stream",
     "text": [
      "2020-08-20 00:00:00\n",
      "08 20 2020\n"
     ]
    }
   ],
   "source": [
    "x = datetime(2020, 8, 20)\n",
    "print(x)\n",
    "print(x.strftime('%m %e %Y'))"
   ]
  },
  {
   "cell_type": "code",
   "execution_count": 40,
   "metadata": {},
   "outputs": [
    {
     "name": "stdout",
     "output_type": "stream",
     "text": [
      "2018-09-19 00:00:00\n",
      "False\n"
     ]
    }
   ],
   "source": [
    "timestring = '09/19/2018'\n",
    "date = datetime.strptime(timestring, \"%m/%d/%Y\")\n",
    "print(date)\n",
    "\n",
    "print(datetime.now() < date)"
   ]
  },
  {
   "cell_type": "markdown",
   "metadata": {},
   "source": [
    "### 시간 변경"
   ]
  },
  {
   "cell_type": "code",
   "execution_count": 43,
   "metadata": {},
   "outputs": [
    {
     "name": "stdout",
     "output_type": "stream",
     "text": [
      "2020-02-02\n",
      "2020-02-03\n",
      "2020-02-04\n",
      "2020-02-05\n",
      "2020-02-06\n"
     ]
    }
   ],
   "source": [
    "from datetime import timedelta\n",
    "date = datetime(2020, 2, 1)\n",
    "for i in range(5):\n",
    "    date += timedelta(days=1)\n",
    "    print(date.date())"
   ]
  }
 ],
 "metadata": {
  "kernelspec": {
   "display_name": "Python 3",
   "language": "python",
   "name": "python3"
  },
  "language_info": {
   "codemirror_mode": {
    "name": "ipython",
    "version": 3
   },
   "file_extension": ".py",
   "mimetype": "text/x-python",
   "name": "python",
   "nbconvert_exporter": "python",
   "pygments_lexer": "ipython3",
   "version": "3.7.7"
  }
 },
 "nbformat": 4,
 "nbformat_minor": 4
}
