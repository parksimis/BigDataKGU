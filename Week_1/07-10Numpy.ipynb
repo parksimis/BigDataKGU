{
 "cells": [
  {
   "cell_type": "markdown",
   "metadata": {},
   "source": [
    "## Numpy 개요\n",
    "* Numerical Python extensions  \n",
    "* 수치해석용 Python 패키지  \n",
    "* ndarray라는 행렬 자료형을 통해 빠른 연산 가능  \n",
    "* 데이터 분석 파이썬 패키지들의 기초가 됨\n",
    "  \n",
    "### 행렬 생성\n"
   ]
  },
  {
   "cell_type": "code",
   "execution_count": 5,
   "metadata": {},
   "outputs": [
    {
     "name": "stdout",
     "output_type": "stream",
     "text": [
      "[1 2]\n",
      "\n",
      "[[3 4 5]\n",
      " [6 7 8]]\n",
      "\n",
      "[[0. 0.]\n",
      " [0. 0.]\n",
      " [0. 0.]]\n",
      "\n",
      "[[1. 1.]\n",
      " [1. 1.]\n",
      " [1. 1.]]\n",
      "\n"
     ]
    }
   ],
   "source": [
    "import numpy as np\n",
    "\n",
    "# List로 부터\n",
    "\n",
    "a = np.array([1, 2])\n",
    "print(a, end=\"\\n\\n\")\n",
    "\n",
    "a = np.array([[3, 4, 5], [6, 7, 8]])\n",
    "print(a, end=\"\\n\\n\")\n",
    "\n",
    "# 함수를 사용\n",
    "\n",
    "a = np.zeros((3, 2))\n",
    "print(a, end=\"\\n\\n\")\n",
    "\n",
    "a = np.ones((3, 2))\n",
    "print(a, end=\"\\n\\n\")"
   ]
  },
  {
   "cell_type": "code",
   "execution_count": 6,
   "metadata": {},
   "outputs": [
    {
     "name": "stdout",
     "output_type": "stream",
     "text": [
      "[[1. 0. 0.]\n",
      " [0. 1. 0.]\n",
      " [0. 0. 1.]]\n",
      "=============\n",
      "[10 12 14 16 18]\n",
      "=============\n",
      "[0.   1.25 2.5  3.75 5.  ]\n",
      "=============\n",
      "[0. 5.]\n"
     ]
    }
   ],
   "source": [
    "# 단위 행렬\n",
    "\n",
    "a = np.identity(3)\n",
    "print(a)\n",
    "print(\"=============\")\n",
    "\n",
    "# np.arange(시작, 끝-미포함, 건너뛰기)\n",
    "\n",
    "a = np.arange(10, 20, 2)\n",
    "print(a)\n",
    "print(\"=============\")\n",
    "\n",
    "# np.linspace(시작, 끝-포함, 몇등분): 각 요소들이 동일한 간격을 갖도록 생성\n",
    "a = np.linspace(0, 5, 5)\n",
    "print(a)\n",
    "print(\"=============\")\n",
    "a = np.linspace(0, 5, 2)\n",
    "print(a)"
   ]
  },
  {
   "cell_type": "markdown",
   "metadata": {},
   "source": [
    "#### 행렬의 높이/너비 조절\n",
    "* 값이 들어있는 기존의 행렬의 직사각형 모양을 변형\n",
    "* 인자 중 하나에 -1을 넣을 수 있음. 그러면 자동으로 해당 행/열 크기가 계산됨  \n",
    "* 약수가 아닌 수를 넣으면 당연히 에러남  \n"
   ]
  },
  {
   "cell_type": "code",
   "execution_count": 7,
   "metadata": {},
   "outputs": [
    {
     "name": "stdout",
     "output_type": "stream",
     "text": [
      "[ 0  1  2  3  4  5  6  7  8  9 10 11]\n",
      "=============\n",
      "[[ 0  1  2  3  4  5]\n",
      " [ 6  7  8  9 10 11]]\n",
      "=============\n",
      "[[ 0  1  2]\n",
      " [ 3  4  5]\n",
      " [ 6  7  8]\n",
      " [ 9 10 11]]\n",
      "=============\n",
      "[[ 0  1  2  3]\n",
      " [ 4  5  6  7]\n",
      " [ 8  9 10 11]]\n"
     ]
    }
   ],
   "source": [
    "a = np.arange(12)\n",
    "print(a)\n",
    "print(\"=============\")\n",
    "a = a.reshape(2, 6)\n",
    "print(a)\n",
    "print(\"=============\")\n",
    "a = a.reshape(4, -1)\n",
    "print(a)\n",
    "print(\"=============\")\n",
    "a = a.reshape(-1, 4)\n",
    "print(a)"
   ]
  },
  {
   "cell_type": "markdown",
   "metadata": {},
   "source": [
    "#### 전치행렬"
   ]
  },
  {
   "cell_type": "code",
   "execution_count": 8,
   "metadata": {},
   "outputs": [
    {
     "name": "stdout",
     "output_type": "stream",
     "text": [
      "[[1 2 3]\n",
      " [4 5 6]]\n",
      "[[1 4]\n",
      " [2 5]\n",
      " [3 6]]\n",
      "[[1 4]\n",
      " [2 5]\n",
      " [3 6]]\n",
      "[[1 2 3]\n",
      " [4 5 6]]\n",
      "=============\n",
      "[[14 32]\n",
      " [32 77]]\n"
     ]
    }
   ],
   "source": [
    "a = np.arange(1, 7).reshape(2, 3)\n",
    "print(a)\n",
    "print(a.transpose())\n",
    "print(np.transpose(a))\n",
    "print(np.transpose(a).transpose())\n",
    "print(\"=============\")\n",
    "print(a.dot(a.T))"
   ]
  },
  {
   "cell_type": "markdown",
   "metadata": {},
   "source": [
    "#### 행렬 연산  \n",
    "* 행렬과 숫자 간 연산 : 행렬 내 각 요소들과 숫자 사이에 연산이 된다."
   ]
  },
  {
   "cell_type": "code",
   "execution_count": 9,
   "metadata": {},
   "outputs": [
    {
     "name": "stdout",
     "output_type": "stream",
     "text": [
      "[[ 0  1  2  3]\n",
      " [ 4  5  6  7]\n",
      " [ 8  9 10 11]]\n",
      "[[ 2  3  4  5]\n",
      " [ 6  7  8  9]\n",
      " [10 11 12 13]]\n",
      "[[  0   1   4   9]\n",
      " [ 16  25  36  49]\n",
      " [ 64  81 100 121]]\n"
     ]
    }
   ],
   "source": [
    "a = np.arange(0, 12).reshape(3, -1)\n",
    "print(a)\n",
    "print(a+2)\n",
    "print(a**2)"
   ]
  },
  {
   "cell_type": "markdown",
   "metadata": {},
   "source": [
    "#### 행렬 간 연산 : 모양이 동일한 행렬이면 각 원소끼리 연산됨"
   ]
  },
  {
   "cell_type": "code",
   "execution_count": 10,
   "metadata": {},
   "outputs": [
    {
     "name": "stdout",
     "output_type": "stream",
     "text": [
      "[[3 2]\n",
      " [3 5]]\n",
      "[[-1  0]\n",
      " [-3 -3]]\n",
      "[[2 1]\n",
      " [0 4]]\n",
      "[[0.5  1.  ]\n",
      " [0.   0.25]]\n"
     ]
    }
   ],
   "source": [
    "a = np.array([[1, 1], [0, 1]])\n",
    "b = np.array([[2, 1], [3, 4]])\n",
    "\n",
    "print(a+b)\n",
    "print(a-b)\n",
    "print(a*b)\n",
    "print(a/b)"
   ]
  },
  {
   "cell_type": "markdown",
   "metadata": {},
   "source": [
    "#### 행렬 곱셈 : a @ b 또는 a.dot(b) 또는 np.dot(a, b) 사용"
   ]
  },
  {
   "cell_type": "code",
   "execution_count": 11,
   "metadata": {},
   "outputs": [
    {
     "name": "stdout",
     "output_type": "stream",
     "text": [
      "[[5 5]\n",
      " [3 4]]\n",
      "[[5 5]\n",
      " [3 4]]\n",
      "[[5 5]\n",
      " [3 4]]\n"
     ]
    }
   ],
   "source": [
    "print(a @ b)\n",
    "print(a.dot(b))\n",
    "print(np.dot(a, b))"
   ]
  },
  {
   "cell_type": "markdown",
   "metadata": {},
   "source": [
    "#### 역행렬(inverse matrix)\n",
    ": numpy 내의 선형대수 패키지(linalg : linear algebra) 사용"
   ]
  },
  {
   "cell_type": "code",
   "execution_count": 12,
   "metadata": {},
   "outputs": [
    {
     "name": "stdout",
     "output_type": "stream",
     "text": [
      "[[1 1]\n",
      " [0 1]]\n",
      "[[ 1. -1.]\n",
      " [ 0.  1.]]\n",
      "[[1. 0.]\n",
      " [0. 1.]]\n"
     ]
    }
   ],
   "source": [
    "c = np.linalg.inv(a)\n",
    "print(a)\n",
    "print(c)\n",
    "print(a.dot(c))"
   ]
  },
  {
   "cell_type": "markdown",
   "metadata": {},
   "source": [
    "#### 행렬식(determinant)\n",
    ": numpy 내의 선형대수 패키지(linalg : linear algebra) 사용\n"
   ]
  },
  {
   "cell_type": "code",
   "execution_count": 13,
   "metadata": {},
   "outputs": [
    {
     "name": "stdout",
     "output_type": "stream",
     "text": [
      "1.0\n",
      "5.000000000000001\n"
     ]
    }
   ],
   "source": [
    "print(np.linalg.det(a))\n",
    "print(np.linalg.det(b))"
   ]
  },
  {
   "cell_type": "markdown",
   "metadata": {},
   "source": [
    "#### 대소 비교"
   ]
  },
  {
   "cell_type": "code",
   "execution_count": 14,
   "metadata": {},
   "outputs": [
    {
     "name": "stdout",
     "output_type": "stream",
     "text": [
      "[[ 0  1  2  3]\n",
      " [ 4  5  6  7]\n",
      " [ 8  9 10 11]]\n",
      "[[False False False False]\n",
      " [False False  True  True]\n",
      " [ True  True  True  True]]\n",
      "[[False False False  True]\n",
      " [False False False False]\n",
      " [False False False False]]\n"
     ]
    }
   ],
   "source": [
    "a = np.arange(0, 12).reshape(3, -1)\n",
    "print(a)\n",
    "print(a > 5)\n",
    "print(a==3)"
   ]
  },
  {
   "cell_type": "markdown",
   "metadata": {},
   "source": [
    "## 행렬 자르기\n",
    "* 첫 시간 문자열 자르기와 동일  \n",
    ": index(순서)는 1이 아닌 0부터 시작"
   ]
  },
  {
   "cell_type": "code",
   "execution_count": 15,
   "metadata": {},
   "outputs": [
    {
     "name": "stdout",
     "output_type": "stream",
     "text": [
      "r\n",
      "n\n",
      "i a\n",
      "ngry\n",
      "am hun\n",
      "imur\n"
     ]
    }
   ],
   "source": [
    "str = 'i am hungry'\n",
    "print(str[-2])\n",
    "print(str[7])\n",
    "print(str[:3])\n",
    "print(str[7:])\n",
    "print(str[2:-3])\n",
    "print(str[::3])\n"
   ]
  },
  {
   "cell_type": "code",
   "execution_count": 16,
   "metadata": {},
   "outputs": [
    {
     "name": "stdout",
     "output_type": "stream",
     "text": [
      "[ 2  3  4  5  6  7  8  9 10 11]\n",
      "[0 3 6 9]\n"
     ]
    }
   ],
   "source": [
    "a = np.arange(12)\n",
    "print(a[2::])\n",
    "print(a[::3])"
   ]
  },
  {
   "cell_type": "code",
   "execution_count": 17,
   "metadata": {},
   "outputs": [
    {
     "name": "stdout",
     "output_type": "stream",
     "text": [
      "[[ 0  1  2  3  4  5]\n",
      " [ 6  7  8  9 10 11]\n",
      " [12 13 14 15 16 17]\n",
      " [18 19 20 21 22 23]]\n",
      "\n",
      "[[ 0  1  2  3  4  5]\n",
      " [ 6  7  8  9 10 11]]\n",
      "\n",
      "[[ 0  1  2  3  4  5]\n",
      " [12 13 14 15 16 17]]\n",
      "\n",
      "[[ 0  1  2]\n",
      " [ 6  7  8]\n",
      " [12 13 14]\n",
      " [18 19 20]]\n",
      "\n",
      "[[ 2  4]\n",
      " [ 8 10]\n",
      " [14 16]\n",
      " [20 22]]\n"
     ]
    }
   ],
   "source": [
    "# 2차원 자르기\n",
    "\n",
    "a = np.arange(24).reshape(4, -1)\n",
    "print(a, end=\"\\n\\n\")\n",
    "print(a[0:2,:])\n",
    "print(\"\")\n",
    "print(a[: :2, ::])\n",
    "print(\"\")\n",
    "print(a[: : , 0:3 : 1])\n",
    "print(\"\")\n",
    "print(a[: ,2: : 2])"
   ]
  },
  {
   "cell_type": "code",
   "execution_count": 18,
   "metadata": {},
   "outputs": [
    {
     "name": "stdout",
     "output_type": "stream",
     "text": [
      "[[ 2]\n",
      " [14]]\n",
      "[[ 6  8]\n",
      " [18 20]]\n"
     ]
    }
   ],
   "source": [
    "print(a[: : 2, 2:5 :3])\n",
    "print(a[1: :2, :3 :2])"
   ]
  },
  {
   "cell_type": "markdown",
   "metadata": {},
   "source": [
    "## 실습 \n",
    "A 행렬을 만들고 요소들만 갖도록 표현하기"
   ]
  },
  {
   "cell_type": "code",
   "execution_count": 19,
   "metadata": {},
   "outputs": [
    {
     "data": {
      "text/plain": [
       "array([[11, 12, 13, 14, 15, 16],\n",
       "       [17, 18, 19, 20, 21, 22],\n",
       "       [23, 24, 25, 26, 27, 28],\n",
       "       [29, 30, 31, 32, 33, 34]])"
      ]
     },
     "execution_count": 19,
     "metadata": {},
     "output_type": "execute_result"
    }
   ],
   "source": [
    "A = np.arange(11, 35).reshape(4, -1)\n",
    "A"
   ]
  },
  {
   "cell_type": "code",
   "execution_count": 20,
   "metadata": {},
   "outputs": [
    {
     "name": "stdout",
     "output_type": "stream",
     "text": [
      "[[14 15 16]\n",
      " [20 21 22]]\n"
     ]
    }
   ],
   "source": [
    "# 1 \n",
    "print(A[:2, 3:])"
   ]
  },
  {
   "cell_type": "code",
   "execution_count": 21,
   "metadata": {},
   "outputs": [
    {
     "name": "stdout",
     "output_type": "stream",
     "text": [
      "[[11 12 13 14 15 16]\n",
      " [23 24 25 26 27 28]]\n"
     ]
    }
   ],
   "source": [
    "# 2 \n",
    "print(A[::2])"
   ]
  },
  {
   "cell_type": "code",
   "execution_count": 22,
   "metadata": {},
   "outputs": [
    {
     "name": "stdout",
     "output_type": "stream",
     "text": [
      "[[15]\n",
      " [21]\n",
      " [27]\n",
      " [33]]\n"
     ]
    }
   ],
   "source": [
    "#3\n",
    "print(A[::, 4:5])"
   ]
  },
  {
   "cell_type": "code",
   "execution_count": 23,
   "metadata": {},
   "outputs": [
    {
     "name": "stdout",
     "output_type": "stream",
     "text": [
      "[[12 15]\n",
      " [18 21]\n",
      " [24 27]\n",
      " [30 33]]\n"
     ]
    }
   ],
   "source": [
    "#4\n",
    "print(A[::, 1: : 3])"
   ]
  },
  {
   "cell_type": "code",
   "execution_count": 24,
   "metadata": {},
   "outputs": [
    {
     "name": "stdout",
     "output_type": "stream",
     "text": [
      "[[12 14 16]\n",
      " [24 26 28]]\n"
     ]
    }
   ],
   "source": [
    "# 5 \n",
    "print(A[::2, 1::2])"
   ]
  },
  {
   "cell_type": "markdown",
   "metadata": {},
   "source": [
    "## Pandas\n",
    "* 쉽게 사용 가능한 자료 구조를 지님\n",
    "* 자료들 간 빠른 연산 속도 및 데이터 분석 가능\n",
    "* DB 테이블, 또는 엑셀 파일과 같은 테이블 형태의 데이터를 다룸\n",
    "* 데이터에 레이블을 붙여서 가독성을 높임\n",
    "\n",
    "### Series : 1차원 데이터 + index\n"
   ]
  },
  {
   "cell_type": "code",
   "execution_count": 25,
   "metadata": {},
   "outputs": [
    {
     "name": "stdout",
     "output_type": "stream",
     "text": [
      "[3, 5, 10, 2]\n",
      "0     3\n",
      "1     5\n",
      "2    10\n",
      "3     2\n",
      "dtype: int64\n",
      "10\n",
      "10\n"
     ]
    }
   ],
   "source": [
    "#  List로부터 생성 : index는 자동으로 생성됨\n",
    "\n",
    "import pandas as pd\n",
    "\n",
    "rawData = [3, 5, 10, 2]\n",
    "print(rawData)\n",
    "data = pd.Series(rawData)\n",
    "print(data)\n",
    "print(data.get(2))\n",
    "print(data[2])\n"
   ]
  },
  {
   "cell_type": "code",
   "execution_count": 26,
   "metadata": {},
   "outputs": [
    {
     "name": "stdout",
     "output_type": "stream",
     "text": [
      "{'치킨스테이크': 3, '비프스테이크': 5, '삼겹살스테이크': 10, '함박스테이크': 2}\n",
      "치킨스테이크      3\n",
      "비프스테이크      5\n",
      "삼겹살스테이크    10\n",
      "함박스테이크      2\n",
      "dtype: int64\n",
      "10\n",
      "10\n",
      "2\n",
      "5\n"
     ]
    }
   ],
   "source": [
    "# Dictionary로부터 생성 : key들은 index, value들이 데이터로 들어감\n",
    "\n",
    "rawData = {\"치킨스테이크\":3, \"비프스테이크\":5, \"삼겹살스테이크\":10, \"함박스테이크\":2}\n",
    "print(rawData)\n",
    "data = pd.Series(rawData)\n",
    "print(data)\n",
    "print(data.get(2))\n",
    "print(data[2])\n",
    "print(data.get(\"함박스테이크\"))\n",
    "print(data[\"비프스테이크\"])"
   ]
  },
  {
   "cell_type": "code",
   "execution_count": 27,
   "metadata": {},
   "outputs": [
    {
     "name": "stdout",
     "output_type": "stream",
     "text": [
      "a     3\n",
      "b     5\n",
      "c    10\n",
      "d     2\n",
      "dtype: int64\n",
      "10\n",
      "10\n",
      "10\n",
      "10\n"
     ]
    }
   ],
   "source": [
    "# List로부터 생성 + index 직접 부여\n",
    "\n",
    "rawData = [3, 5, 10, 2]\n",
    "data = pd.Series(rawData, index=['a', 'b', 'c', 'd'])\n",
    "print(data)\n",
    "print(data[2])\n",
    "print(data[\"c\"])\n",
    "print(data.get(2))\n",
    "print(data.get(\"c\"))"
   ]
  },
  {
   "cell_type": "markdown",
   "metadata": {},
   "source": [
    "## DataFrame \n",
    "### : Series들이 모인 2차원 데이터\n"
   ]
  },
  {
   "cell_type": "code",
   "execution_count": 28,
   "metadata": {},
   "outputs": [
    {
     "name": "stdout",
     "output_type": "stream",
     "text": [
      "    과제1  과제2  과제3  기말\n",
      "양용    1    2    3   4\n",
      "용석    5    6    7   8\n",
      "석양    4    3    2   1\n"
     ]
    }
   ],
   "source": [
    "# List로부터 생성\n",
    "\n",
    "aL = [1, 2, 3, 4]\n",
    "bL = [5, 6, 7, 8]\n",
    "cL = [4, 3, 2, 1]\n",
    "scoreType = [\"과제1\",\"과제2\",\"과제3\",\"기말\"]\n",
    "students = [\"양용\",\"용석\",\"석양\"]\n",
    "\n",
    "abc = pd.DataFrame((aL, bL, cL), columns=scoreType, index=students)\n",
    "print(abc)"
   ]
  },
  {
   "cell_type": "code",
   "execution_count": 29,
   "metadata": {},
   "outputs": [
    {
     "data": {
      "text/html": [
       "<div>\n",
       "<style scoped>\n",
       "    .dataframe tbody tr th:only-of-type {\n",
       "        vertical-align: middle;\n",
       "    }\n",
       "\n",
       "    .dataframe tbody tr th {\n",
       "        vertical-align: top;\n",
       "    }\n",
       "\n",
       "    .dataframe thead th {\n",
       "        text-align: right;\n",
       "    }\n",
       "</style>\n",
       "<table border=\"1\" class=\"dataframe\">\n",
       "  <thead>\n",
       "    <tr style=\"text-align: right;\">\n",
       "      <th></th>\n",
       "      <th>0</th>\n",
       "      <th>1</th>\n",
       "      <th>2</th>\n",
       "      <th>3</th>\n",
       "    </tr>\n",
       "  </thead>\n",
       "  <tbody>\n",
       "    <tr>\n",
       "      <th>0</th>\n",
       "      <td>1</td>\n",
       "      <td>2</td>\n",
       "      <td>3</td>\n",
       "      <td>4</td>\n",
       "    </tr>\n",
       "    <tr>\n",
       "      <th>1</th>\n",
       "      <td>5</td>\n",
       "      <td>6</td>\n",
       "      <td>7</td>\n",
       "      <td>8</td>\n",
       "    </tr>\n",
       "    <tr>\n",
       "      <th>2</th>\n",
       "      <td>4</td>\n",
       "      <td>3</td>\n",
       "      <td>2</td>\n",
       "      <td>1</td>\n",
       "    </tr>\n",
       "  </tbody>\n",
       "</table>\n",
       "</div>"
      ],
      "text/plain": [
       "   0  1  2  3\n",
       "0  1  2  3  4\n",
       "1  5  6  7  8\n",
       "2  4  3  2  1"
      ]
     },
     "metadata": {},
     "output_type": "display_data"
    }
   ],
   "source": [
    "df = pd.DataFrame((aL, bL, cL))\n",
    "display(df)"
   ]
  },
  {
   "cell_type": "code",
   "execution_count": 30,
   "metadata": {},
   "outputs": [
    {
     "data": {
      "text/html": [
       "<div>\n",
       "<style scoped>\n",
       "    .dataframe tbody tr th:only-of-type {\n",
       "        vertical-align: middle;\n",
       "    }\n",
       "\n",
       "    .dataframe tbody tr th {\n",
       "        vertical-align: top;\n",
       "    }\n",
       "\n",
       "    .dataframe thead th {\n",
       "        text-align: right;\n",
       "    }\n",
       "</style>\n",
       "<table border=\"1\" class=\"dataframe\">\n",
       "  <thead>\n",
       "    <tr style=\"text-align: right;\">\n",
       "      <th></th>\n",
       "      <th>과제1</th>\n",
       "      <th>과제2</th>\n",
       "      <th>과제3</th>\n",
       "      <th>기말</th>\n",
       "    </tr>\n",
       "  </thead>\n",
       "  <tbody>\n",
       "    <tr>\n",
       "      <th>양용</th>\n",
       "      <td>1</td>\n",
       "      <td>2</td>\n",
       "      <td>3</td>\n",
       "      <td>4</td>\n",
       "    </tr>\n",
       "    <tr>\n",
       "      <th>용석</th>\n",
       "      <td>5</td>\n",
       "      <td>6</td>\n",
       "      <td>7</td>\n",
       "      <td>8</td>\n",
       "    </tr>\n",
       "    <tr>\n",
       "      <th>석양</th>\n",
       "      <td>4</td>\n",
       "      <td>3</td>\n",
       "      <td>2</td>\n",
       "      <td>1</td>\n",
       "    </tr>\n",
       "  </tbody>\n",
       "</table>\n",
       "</div>"
      ],
      "text/plain": [
       "    과제1  과제2  과제3  기말\n",
       "양용    1    2    3   4\n",
       "용석    5    6    7   8\n",
       "석양    4    3    2   1"
      ]
     },
     "metadata": {},
     "output_type": "display_data"
    }
   ],
   "source": [
    "# 여러 개의 Series로부터 생성\n",
    "\n",
    "aS = pd.Series(aL, index=scoreType)\n",
    "bS = pd.Series(bL, index=scoreType)\n",
    "cS = pd.Series(cL, index=scoreType)\n",
    "abc = pd.DataFrame((aS, bS, cS), index=students)\n",
    "display(abc)"
   ]
  },
  {
   "cell_type": "code",
   "execution_count": 31,
   "metadata": {},
   "outputs": [
    {
     "data": {
      "text/html": [
       "<div>\n",
       "<style scoped>\n",
       "    .dataframe tbody tr th:only-of-type {\n",
       "        vertical-align: middle;\n",
       "    }\n",
       "\n",
       "    .dataframe tbody tr th {\n",
       "        vertical-align: top;\n",
       "    }\n",
       "\n",
       "    .dataframe thead th {\n",
       "        text-align: right;\n",
       "    }\n",
       "</style>\n",
       "<table border=\"1\" class=\"dataframe\">\n",
       "  <thead>\n",
       "    <tr style=\"text-align: right;\">\n",
       "      <th></th>\n",
       "      <th>과제1</th>\n",
       "      <th>과제2</th>\n",
       "      <th>과제3</th>\n",
       "      <th>기말</th>\n",
       "    </tr>\n",
       "  </thead>\n",
       "  <tbody>\n",
       "    <tr>\n",
       "      <th>양용</th>\n",
       "      <td>1.0</td>\n",
       "      <td>2.0</td>\n",
       "      <td>3.0</td>\n",
       "      <td>4.0</td>\n",
       "    </tr>\n",
       "    <tr>\n",
       "      <th>용석</th>\n",
       "      <td>5.0</td>\n",
       "      <td>6.0</td>\n",
       "      <td>7.0</td>\n",
       "      <td>8.0</td>\n",
       "    </tr>\n",
       "    <tr>\n",
       "      <th>석양</th>\n",
       "      <td>4.0</td>\n",
       "      <td>3.0</td>\n",
       "      <td>2.0</td>\n",
       "      <td>1.0</td>\n",
       "    </tr>\n",
       "    <tr>\n",
       "      <th>날라리</th>\n",
       "      <td>NaN</td>\n",
       "      <td>4.0</td>\n",
       "      <td>5.0</td>\n",
       "      <td>6.0</td>\n",
       "    </tr>\n",
       "  </tbody>\n",
       "</table>\n",
       "</div>"
      ],
      "text/plain": [
       "     과제1  과제2  과제3   기말\n",
       "양용   1.0  2.0  3.0  4.0\n",
       "용석   5.0  6.0  7.0  8.0\n",
       "석양   4.0  3.0  2.0  1.0\n",
       "날라리  NaN  4.0  5.0  6.0"
      ]
     },
     "metadata": {},
     "output_type": "display_data"
    }
   ],
   "source": [
    "# 비어있는 데이터를 넣으면?\n",
    "\n",
    "dL = [4, 5, 6]\n",
    "dS = pd.Series(dL, index=[\"과제2\",\"과제3\", \"기말\"])\n",
    "abc = pd.DataFrame((aS, bS, cS, dS), index=[\"양용\",\"용석\",\"석양\",\"날라리\"])\n",
    "display(abc)"
   ]
  }
 ],
 "metadata": {
  "kernelspec": {
   "display_name": "Python 3",
   "language": "python",
   "name": "python3"
  },
  "language_info": {
   "codemirror_mode": {
    "name": "ipython",
    "version": 3
   },
   "file_extension": ".py",
   "mimetype": "text/x-python",
   "name": "python",
   "nbconvert_exporter": "python",
   "pygments_lexer": "ipython3",
   "version": "3.7.7"
  }
 },
 "nbformat": 4,
 "nbformat_minor": 4
}
