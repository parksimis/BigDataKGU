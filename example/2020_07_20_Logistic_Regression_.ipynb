{
  "nbformat": 4,
  "nbformat_minor": 0,
  "metadata": {
    "colab": {
      "name": "2020-07-20 Logistic Regression .ipynb",
      "provenance": [],
      "collapsed_sections": []
    },
    "kernelspec": {
      "name": "python3",
      "display_name": "Python 3"
    }
  },
  "cells": [
    {
      "cell_type": "markdown",
      "metadata": {
        "id": "00G0qWDPuU3L",
        "colab_type": "text"
      },
      "source": [
        "## 로지스틱 회귀 분석 실습\n",
        "\n",
        "\n",
        "### 데이터 불러오기 및 분할하기\n",
        "\n",
        "로지스틱 회귀분석 실습을 위해 기존의 예측용 데이터셋이 아닌 분류용 데이터셋을 사용.  \n",
        "이번에 사용할 cancer dataset은 유방암 분류에 대한 데이터이다. 독립 변수는 30개이며, 종속 변수는 단순 양성과 악성의 두 가지 범주를 가지고 있다. 자세한 사항은 [이곳](https://scikit-learn.org/stable/datasets/index.html#breast-cancer-wisconsin-diagnostic-dataset)에서 확인할 수 있다."
      ]
    },
    {
      "cell_type": "code",
      "metadata": {
        "id": "cDRynF-ktJa0",
        "colab_type": "code",
        "colab": {
          "base_uri": "https://localhost:8080/",
          "height": 35
        },
        "outputId": "fc19f138-d1f2-456c-a4c7-a61df7255706"
      },
      "source": [
        "from sklearn import datasets\n",
        "import numpy as np\n",
        "\n",
        "data = datasets.load_breast_cancer()\n",
        "\n",
        "x = data['data']\n",
        "y = data['target']\n",
        "\n",
        "print(x.shape, y.shape)"
      ],
      "execution_count": 1,
      "outputs": [
        {
          "output_type": "stream",
          "text": [
            "(569, 30) (569,)\n"
          ],
          "name": "stdout"
        }
      ]
    },
    {
      "cell_type": "code",
      "metadata": {
        "id": "_7bwEmm8ux3z",
        "colab_type": "code",
        "colab": {
          "base_uri": "https://localhost:8080/",
          "height": 35
        },
        "outputId": "af0148fd-7082-4475-b9c9-15b96ca199d4"
      },
      "source": [
        "from sklearn.model_selection import train_test_split\n",
        "\n",
        "# 데이터 나누기 - 6:2:2 비율\n",
        "x_train, x_test, y_train, y_test = train_test_split(x, y, test_size=0.2, random_state=1)\n",
        "x_train, x_val, y_train, y_val = train_test_split(x_train, y_train, test_size=0.25, random_state=1)\n",
        "\n",
        "print(x_train.shape, x_val.shape, x_test.shape)"
      ],
      "execution_count": 2,
      "outputs": [
        {
          "output_type": "stream",
          "text": [
            "(341, 30) (114, 30) (114, 30)\n"
          ],
          "name": "stdout"
        }
      ]
    },
    {
      "cell_type": "markdown",
      "metadata": {
        "id": "qmLzkmVWvP85",
        "colab_type": "text"
      },
      "source": [
        "### 모델 학습 및 평가하기\n",
        "\n",
        "[LogisticRegression](https://scikit-learn.org/stable/modules/generated/sklearn.linear_model.LogisticRegression.html?highlight=logisticregression#sklearn.linear_model.LogisticRegression) 에 대한 자세한 설명은 링크를 참조하자. 설명을 읽어보면 선형 회귀분석과 마찬가지로 각종 regularization을 제공함을 알 수 있다."
      ]
    },
    {
      "cell_type": "code",
      "metadata": {
        "id": "_TvAyPqBvMfc",
        "colab_type": "code",
        "colab": {
          "base_uri": "https://localhost:8080/",
          "height": 251
        },
        "outputId": "9e4cc641-8ca3-424d-8d80-4fd1c7d818b8"
      },
      "source": [
        "from sklearn.linear_model import LogisticRegression\n",
        "logistic = LogisticRegression()\n",
        "logistic.fit(x_train, y_train)"
      ],
      "execution_count": 3,
      "outputs": [
        {
          "output_type": "stream",
          "text": [
            "/usr/local/lib/python3.6/dist-packages/sklearn/linear_model/_logistic.py:940: ConvergenceWarning: lbfgs failed to converge (status=1):\n",
            "STOP: TOTAL NO. of ITERATIONS REACHED LIMIT.\n",
            "\n",
            "Increase the number of iterations (max_iter) or scale the data as shown in:\n",
            "    https://scikit-learn.org/stable/modules/preprocessing.html\n",
            "Please also refer to the documentation for alternative solver options:\n",
            "    https://scikit-learn.org/stable/modules/linear_model.html#logistic-regression\n",
            "  extra_warning_msg=_LOGISTIC_SOLVER_CONVERGENCE_MSG)\n"
          ],
          "name": "stderr"
        },
        {
          "output_type": "execute_result",
          "data": {
            "text/plain": [
              "LogisticRegression(C=1.0, class_weight=None, dual=False, fit_intercept=True,\n",
              "                   intercept_scaling=1, l1_ratio=None, max_iter=100,\n",
              "                   multi_class='auto', n_jobs=None, penalty='l2',\n",
              "                   random_state=None, solver='lbfgs', tol=0.0001, verbose=0,\n",
              "                   warm_start=False)"
            ]
          },
          "metadata": {
            "tags": []
          },
          "execution_count": 3
        }
      ]
    },
    {
      "cell_type": "markdown",
      "metadata": {
        "id": "uHtkIf3MwWE6",
        "colab_type": "text"
      },
      "source": [
        "> ConvergenceWarning: lbfgs failed to converge (status=1):\n",
        "STOP: TOTAL NO. of ITERATIONS REACHED LIMIT.\n",
        "\n",
        "위의 에러 메시지를 마주하게 된다.  \n",
        "수업 시간에 배웠듯이, 로지스틱 회귀분석의 경우는 선형 회귀분석과 다르게 미분으로 간단히 최적의 매개변수를 구할 수 없다. 따라서 적절한 최적화 방법을 적용해야 하는데, 위 경고문은 이 최적화 과정이 계산 횟수의 제한으로 인해 완료되지 못하고 도중에 멈추었다는 뜻이다. 횟수의 제한을 풀어 최적화를 완료해 보자.\n",
        " "
      ]
    },
    {
      "cell_type": "markdown",
      "metadata": {
        "id": "RhGtiQFkvZM0",
        "colab_type": "text"
      },
      "source": [
        "분류 문제의 경우 confusion matrix와 정확도를 이용해 성능을 확인해 볼 수 있다.  \n",
        "아래와 같이 training data와 validation data 각각의 성능을 구해 보자."
      ]
    },
    {
      "cell_type": "code",
      "metadata": {
        "id": "qTrt743VvXB9",
        "colab_type": "code",
        "colab": {
          "base_uri": "https://localhost:8080/",
          "height": 71
        },
        "outputId": "5d9e4046-65a9-4ab9-e087-4bfcaa97796e"
      },
      "source": [
        "from sklearn.metrics import confusion_matrix, accuracy_score\n",
        "\n",
        "pred_train = logistic.predict(x_train)\n",
        "print('Training accuracy : {}'.format(accuracy_score(y_train, pred_train)))\n",
        "print(confusion_matrix(y_train, pred_train))"
      ],
      "execution_count": 4,
      "outputs": [
        {
          "output_type": "stream",
          "text": [
            "Training accuracy : 0.9618768328445748\n",
            "[[122   8]\n",
            " [  5 206]]\n"
          ],
          "name": "stdout"
        }
      ]
    },
    {
      "cell_type": "code",
      "metadata": {
        "id": "CWA1QHYzv5LU",
        "colab_type": "code",
        "colab": {
          "base_uri": "https://localhost:8080/",
          "height": 71
        },
        "outputId": "6ac751fb-655f-47b8-cf7b-1ce3e5250d88"
      },
      "source": [
        "pred_val = logistic.predict(x_val)\n",
        "print('Training accuracy : {}'.format(accuracy_score(y_val, pred_val)))\n",
        "print(confusion_matrix(y_val, pred_val))"
      ],
      "execution_count": 5,
      "outputs": [
        {
          "output_type": "stream",
          "text": [
            "Training accuracy : 0.9649122807017544\n",
            "[[37  3]\n",
            " [ 1 73]]\n"
          ],
          "name": "stdout"
        }
      ]
    },
    {
      "cell_type": "code",
      "metadata": {
        "id": "b3xWIiZov_wN",
        "colab_type": "code",
        "colab": {
          "base_uri": "https://localhost:8080/",
          "height": 71
        },
        "outputId": "9049641b-43f7-4e45-e35d-ae8c7fd53336"
      },
      "source": [
        "pred_test = logistic.predict(x_test)\n",
        "print('Training accuracy : {}'.format(accuracy_score(y_test, pred_test)))\n",
        "print(confusion_matrix(y_test, pred_test))"
      ],
      "execution_count": 6,
      "outputs": [
        {
          "output_type": "stream",
          "text": [
            "Training accuracy : 0.956140350877193\n",
            "[[37  5]\n",
            " [ 0 72]]\n"
          ],
          "name": "stdout"
        }
      ]
    },
    {
      "cell_type": "code",
      "metadata": {
        "id": "eoHhFs6dxAIN",
        "colab_type": "code",
        "colab": {
          "base_uri": "https://localhost:8080/",
          "height": 107
        },
        "outputId": "5c029025-e9d1-4ba6-ee60-fdebcda29a48"
      },
      "source": [
        "# To-Do : 경고 문구 없이 로지스틱 회귀분석 학습 완료해보기\n",
        "\n",
        "lr_clf = LogisticRegression(max_iter=10000)\n",
        "lr_clf.fit(x_train, y_train)\n"
      ],
      "execution_count": 7,
      "outputs": [
        {
          "output_type": "execute_result",
          "data": {
            "text/plain": [
              "LogisticRegression(C=1.0, class_weight=None, dual=False, fit_intercept=True,\n",
              "                   intercept_scaling=1, l1_ratio=None, max_iter=10000,\n",
              "                   multi_class='auto', n_jobs=None, penalty='l2',\n",
              "                   random_state=None, solver='lbfgs', tol=0.0001, verbose=0,\n",
              "                   warm_start=False)"
            ]
          },
          "metadata": {
            "tags": []
          },
          "execution_count": 7
        }
      ]
    },
    {
      "cell_type": "code",
      "metadata": {
        "id": "vItLD75QxOT6",
        "colab_type": "code",
        "colab": {
          "base_uri": "https://localhost:8080/",
          "height": 89
        },
        "outputId": "2efc882c-b0fc-48b4-ff1e-751132953f5f"
      },
      "source": [
        "# To-Do : 학습한 모델의 training, validation, test 정확도 알아보기\n",
        "\n",
        "## training set의 정확도 \n",
        "pred_train = lr_clf.predict(x_train)\n",
        "print('Training accuracy : {}'.format(accuracy_score(y_train, pred_train)))\n",
        "print(confusion_matrix(y_train, pred_train))\n",
        "print(\"Training Accuracy : {}\".format(lr_clf.score(x_train, y_train)))"
      ],
      "execution_count": 8,
      "outputs": [
        {
          "output_type": "stream",
          "text": [
            "Training accuracy : 0.9648093841642229\n",
            "[[123   7]\n",
            " [  5 206]]\n",
            "Training Accuracy : 0.9648093841642229\n"
          ],
          "name": "stdout"
        }
      ]
    },
    {
      "cell_type": "code",
      "metadata": {
        "id": "zrvDUy8gxm20",
        "colab_type": "code",
        "colab": {
          "base_uri": "https://localhost:8080/",
          "height": 89
        },
        "outputId": "f2a7ccdc-1393-4a16-a805-73a91d8b7d7a"
      },
      "source": [
        "## Validation set의 정확도\n",
        "pred_val = lr_clf.predict(x_val)\n",
        "print('Training accuracy : {}'.format(accuracy_score(y_val, pred_val)))\n",
        "print(confusion_matrix(y_val, pred_val))\n",
        "print(\"Validation Accuracy : {}\".format(lr_clf.score(x_val, y_val)))\n"
      ],
      "execution_count": 9,
      "outputs": [
        {
          "output_type": "stream",
          "text": [
            "Training accuracy : 0.9649122807017544\n",
            "[[37  3]\n",
            " [ 1 73]]\n",
            "Validation Accuracy : 0.9649122807017544\n"
          ],
          "name": "stdout"
        }
      ]
    },
    {
      "cell_type": "code",
      "metadata": {
        "id": "zyzPzBF5xusK",
        "colab_type": "code",
        "colab": {
          "base_uri": "https://localhost:8080/",
          "height": 89
        },
        "outputId": "9637d6c2-39ea-4827-d62d-2b5dc3d22f25"
      },
      "source": [
        "## Test set의 정확도\n",
        "pred_test = lr_clf.predict(x_test)\n",
        "print('Training accuracy : {}'.format(accuracy_score(y_test, pred_test)))\n",
        "print(confusion_matrix(y_test, pred_test))\n",
        "print(\"Test Accuracy : {}\".format(lr_clf.score(x_test, y_test)))"
      ],
      "execution_count": 10,
      "outputs": [
        {
          "output_type": "stream",
          "text": [
            "Training accuracy : 0.9473684210526315\n",
            "[[37  5]\n",
            " [ 1 71]]\n",
            "Test Accuracy : 0.9473684210526315\n"
          ],
          "name": "stdout"
        }
      ]
    }
  ]
}